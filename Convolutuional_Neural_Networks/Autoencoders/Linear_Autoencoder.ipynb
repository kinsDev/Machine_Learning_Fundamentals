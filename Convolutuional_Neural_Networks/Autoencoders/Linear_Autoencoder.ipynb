{
 "cells": [
  {
   "cell_type": "code",
   "execution_count": null,
   "id": "initial_id",
   "metadata": {
    "collapsed": true
   },
   "outputs": [],
   "source": [
    "class Autoencoder(nn.Module):\n",
    "    def __init__(self, encoding_dim):\n",
    "        super(Autoencoder, self).__init__()\n",
    "        ## Encoder ##\n",
    "        self.encoder = nn.Sequential(\n",
    "            nn.Linear(28 * 28, encoding_dim), # 28 * 28 because we are using the MNIST dataset\n",
    "            nn.ReLU(),\n",
    "            nn.BatchNorm1d(encoding_dim)\n",
    "        )\n",
    "        \n",
    "        ## Decoder ##\n",
    "        self.decoder = nn.Sequential(\n",
    "            nn.Linear(encoding_dim, 28 * 28),\n",
    "            nn.Sigmoid()\n",
    "        )\n",
    "        \n",
    "        self.auto_encoder = nn.Sequential(\n",
    "            nn.Flatten(),\n",
    "            self.encoder,\n",
    "            self.decoder\n",
    "        )\n",
    "    \n",
    "    def forward(self, x):\n",
    "        encoded = self.auto_encoder(x)\n",
    "        return encoded.reshape((x.shape[0], 1, 28, 28)) # Reshape the output as an image"
   ]
  }
 ],
 "metadata": {
  "kernelspec": {
   "display_name": "Python 3",
   "language": "python",
   "name": "python3"
  },
  "language_info": {
   "codemirror_mode": {
    "name": "ipython",
    "version": 2
   },
   "file_extension": ".py",
   "mimetype": "text/x-python",
   "name": "python",
   "nbconvert_exporter": "python",
   "pygments_lexer": "ipython2",
   "version": "2.7.6"
  }
 },
 "nbformat": 4,
 "nbformat_minor": 5
}
