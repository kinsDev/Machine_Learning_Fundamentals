{
 "cells": [
  {
   "cell_type": "markdown",
   "source": [
    "# Typical Image Augmentation Training Pipeline\n"
   ],
   "metadata": {
    "collapsed": false
   },
   "id": "d08ed99e8459a873"
  },
  {
   "cell_type": "code",
   "outputs": [],
   "source": [
    "import torchvision.transforms as T\n",
    "\n",
    "train_transforms = T.Compose(\n",
    "    [\n",
    "        # The size here depends on your application. Here let's use 256x256\n",
    "        T.Resize(256),\n",
    "        # Let's apply random affine transformations (rotation, translation, shear)\n",
    "        # (don't overdo here!)\n",
    "        T.RandomAffine(scale=(0.9, 1.1), translate=(0.1, 0.1), degrees=10),\n",
    "        # Color modifications. Here I exaggerate to show the effect \n",
    "        T.ColorJitter(brightness=0.5, contrast=0.5, saturation=0.5, hue=0.5),\n",
    "        # Apply an horizontal flip with 50% probability (i.e., if you pass\n",
    "        # 100 images through around half of them will undergo the flipping)\n",
    "        T.RandomHorizontalFlip(0.5),\n",
    "        # Finally take a 224x224 random part of the image\n",
    "        T.RandomCrop(224, padding_mode=\"reflect\", pad_if_needed=True),  # -\n",
    "        T.ToTensor(),\n",
    "        T.Normalize((0.5, 0.5, 0.5), (0.5, 0.5, 0.5)),\n",
    "    ]\n",
    ")"
   ],
   "metadata": {
    "collapsed": true
   },
   "id": "initial_id",
   "execution_count": 0
  },
  {
   "cell_type": "markdown",
   "source": [
    "# Transformation pipelines for Validation and Test"
   ],
   "metadata": {
    "collapsed": false
   },
   "id": "33fb282fa71f85ab"
  },
  {
   "cell_type": "code",
   "outputs": [],
   "source": [
    "testval_transforms = T.Compose(\n",
    "    [\n",
    "        # The size here depends on your application. Here let's use 256x256\n",
    "        T.Resize(256),\n",
    "        # Let's take the central 224x224 part of the image\n",
    "        T.CenterCrop(224),\n",
    "        T.ToTensor(),\n",
    "        T.Normalize((0.5, 0.5, 0.5), (0.5, 0.5, 0.5)),\n",
    "    ]\n",
    ")"
   ],
   "metadata": {
    "collapsed": false
   },
   "id": "e1724a82d8922fa3"
  },
  {
   "cell_type": "markdown",
   "source": [
    "# AutoAugment Transforms"
   ],
   "metadata": {
    "collapsed": false
   },
   "id": "b920e977dd9350e8"
  },
  {
   "cell_type": "code",
   "outputs": [],
   "source": [
    "# This makes the whole data augmentation way easier\n",
    "T.RandAugment(num_ops, magnitude)\n",
    "\n",
    "# num_ops: the number of random transformations applied. Defaut: 2\n",
    "# magnitude: the strength of the augmentations. The larger the value, the more diverse and extreme the augmentations will become."
   ],
   "metadata": {
    "collapsed": false
   },
   "id": "32d926e855b4cfde"
  }
 ],
 "metadata": {
  "kernelspec": {
   "display_name": "Python 3",
   "language": "python",
   "name": "python3"
  },
  "language_info": {
   "codemirror_mode": {
    "name": "ipython",
    "version": 2
   },
   "file_extension": ".py",
   "mimetype": "text/x-python",
   "name": "python",
   "nbconvert_exporter": "python",
   "pygments_lexer": "ipython2",
   "version": "2.7.6"
  }
 },
 "nbformat": 4,
 "nbformat_minor": 5
}
