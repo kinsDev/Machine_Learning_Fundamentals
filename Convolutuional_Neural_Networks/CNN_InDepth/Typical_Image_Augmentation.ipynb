{
 "cells": [
  {
   "cell_type": "code",
   "execution_count": null,
   "id": "initial_id",
   "metadata": {
    "collapsed": true
   },
   "outputs": [],
   "source": [
    "import torchvision.transforms as T\n",
    "\n",
    "train_transforms = T.Compose(\n",
    "    [\n",
    "        # The size here depends on your application. Here let's use 256x256\n",
    "        T.Resize(256),\n",
    "        # Let's apply random affine transformations (rotation, translation, shear)\n",
    "        # (don't overdo here!)\n",
    "        T.RandomAffine(scale=(0.9, 1.1), translate=(0.1, 0.1), degrees=10),\n",
    "        # Color modifications. Here I exaggerate to show the effect \n",
    "        T.ColorJitter(brightness=0.5, contrast=0.5, saturation=0.5, hue=0.5),\n",
    "        # Apply an horizontal flip with 50% probability (i.e., if you pass\n",
    "        # 100 images through around half of them will undergo the flipping)\n",
    "        T.RandomHorizontalFlip(0.5),\n",
    "        # Finally take a 224x224 random part of the image\n",
    "        T.RandomCrop(224, padding_mode=\"reflect\", pad_if_needed=True),  # -\n",
    "        T.ToTensor(),\n",
    "        T.Normalize((0.5, 0.5, 0.5), (0.5, 0.5, 0.5)),\n",
    "    ]\n",
    ")"
   ]
  }
 ],
 "metadata": {
  "kernelspec": {
   "display_name": "Python 3",
   "language": "python",
   "name": "python3"
  },
  "language_info": {
   "codemirror_mode": {
    "name": "ipython",
    "version": 2
   },
   "file_extension": ".py",
   "mimetype": "text/x-python",
   "name": "python",
   "nbconvert_exporter": "python",
   "pygments_lexer": "ipython2",
   "version": "2.7.6"
  }
 },
 "nbformat": 4,
 "nbformat_minor": 5
}
