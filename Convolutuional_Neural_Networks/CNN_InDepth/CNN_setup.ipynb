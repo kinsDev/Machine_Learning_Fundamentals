{
 "cells": [
  {
   "cell_type": "code",
   "execution_count": 1,
   "id": "initial_id",
   "metadata": {
    "collapsed": true,
    "ExecuteTime": {
     "end_time": "2024-07-06T09:29:30.780219200Z",
     "start_time": "2024-07-06T09:29:15.202568800Z"
    }
   },
   "outputs": [],
   "source": [
    "from torch import nn"
   ]
  },
  {
   "cell_type": "code",
   "outputs": [],
   "source": [
    "# conv1 = nn.Conv2d(in_channels, out_channels, kernel_size=())\n",
    "\n",
    "# in_channels = number of input feature maps. 1 for gray scale images, 3 for color images. Otherwise, it is equal to the number of Output channels in the previous convolutional layer.\n",
    "\n",
    "# Out_channels = The number of feature maps produced by the layer.\n",
    "\n",
    "# Kernel_size = number specifying both the height and the width of the square (Convolutional layer)"
   ],
   "metadata": {
    "collapsed": false,
    "ExecuteTime": {
     "end_time": "2024-07-06T09:32:32.977738100Z",
     "start_time": "2024-07-06T09:32:32.917608300Z"
    }
   },
   "id": "a90f791d3234774d",
   "execution_count": 3
  },
  {
   "cell_type": "code",
   "outputs": [],
   "source": [
    "# Adding the Activation and Dropout function\n",
    "\n",
    "# conv1 = nn.Conv2d(in_channels, out_channels, kernel_size=())\n",
    "# dropout1 = nn.Dropout2d(p = 0.2)\n",
    "# relu1 = nn.ReLu()"
   ],
   "metadata": {
    "collapsed": false,
    "ExecuteTime": {
     "end_time": "2024-07-06T09:37:01.604979200Z",
     "start_time": "2024-07-06T09:37:01.586135300Z"
    }
   },
   "id": "de8b850f528d4106",
   "execution_count": 4
  },
  {
   "cell_type": "code",
   "outputs": [],
   "source": [
    "# Applying it to an input image X\n",
    "\n",
    "# conv1 = nn.Conv2d(In_channels, Out_channels, kernel_size),\n",
    "# dropout1 = nn.Dropout2d(p = 0.2),\n",
    "# relu1 = nn.ReLu(),\n",
    "# result = relu1(dropout1(conv1(X)))"
   ],
   "metadata": {
    "collapsed": false,
    "ExecuteTime": {
     "end_time": "2024-07-06T09:39:39.991159Z",
     "start_time": "2024-07-06T09:39:39.976689Z"
    }
   },
   "id": "4ca3e8d32ae8bdb7",
   "execution_count": 5
  },
  {
   "cell_type": "code",
   "outputs": [],
   "source": [
    "# We can use Sequential method to stack the layers together\n",
    "\n",
    "#conv_block = nn.Sequential(\n",
    "#    nn.conv2d(In_channels, Out_channels, kernel_size),\n",
    "#    nn.ReLu(),\n",
    "#    nn.Dropout2d(p = 0.2)\n",
    "#)\n",
    "\n",
    "#result = conv_block(X)"
   ],
   "metadata": {
    "collapsed": false,
    "ExecuteTime": {
     "end_time": "2024-07-06T09:42:50.155519200Z",
     "start_time": "2024-07-06T09:42:50.142369300Z"
    }
   },
   "id": "cd7550be37013f4f",
   "execution_count": 6
  },
  {
   "cell_type": "code",
   "outputs": [],
   "source": [],
   "metadata": {
    "collapsed": false
   },
   "id": "b9efeea7eaa94e63"
  }
 ],
 "metadata": {
  "kernelspec": {
   "name": "torchtensor",
   "language": "python",
   "display_name": "TorchTensor"
  },
  "language_info": {
   "codemirror_mode": {
    "name": "ipython",
    "version": 2
   },
   "file_extension": ".py",
   "mimetype": "text/x-python",
   "name": "python",
   "nbconvert_exporter": "python",
   "pygments_lexer": "ipython2",
   "version": "2.7.6"
  }
 },
 "nbformat": 4,
 "nbformat_minor": 5
}
