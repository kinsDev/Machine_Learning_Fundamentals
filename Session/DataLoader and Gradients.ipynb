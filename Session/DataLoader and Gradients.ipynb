{
 "cells": [
  {
   "cell_type": "markdown",
   "id": "8f4026e0-2830-4c0c-8a57-0361e910fbb8",
   "metadata": {},
   "source": [
    "### Defining DataLoader and downloading Dataset"
   ]
  },
  {
   "cell_type": "code",
   "execution_count": 5,
   "id": "a1ababca-275c-40ac-abdf-d9dd30887d4e",
   "metadata": {
    "tags": []
   },
   "outputs": [
    {
     "name": "stdout",
     "output_type": "stream",
     "text": [
      "Downloading http://yann.lecun.com/exdb/mnist/train-images-idx3-ubyte.gz\n",
      "Failed to download (trying next):\n",
      "HTTP Error 403: Forbidden\n",
      "\n",
      "Downloading https://ossci-datasets.s3.amazonaws.com/mnist/train-images-idx3-ubyte.gz\n",
      "Downloading https://ossci-datasets.s3.amazonaws.com/mnist/train-images-idx3-ubyte.gz to /root/data/MNIST/raw/train-images-idx3-ubyte.gz\n"
     ]
    },
    {
     "name": "stderr",
     "output_type": "stream",
     "text": [
      "100%|██████████| 9912422/9912422 [00:00<00:00, 130090776.45it/s]\n"
     ]
    },
    {
     "name": "stdout",
     "output_type": "stream",
     "text": [
      "Extracting /root/data/MNIST/raw/train-images-idx3-ubyte.gz to /root/data/MNIST/raw\n",
      "\n",
      "Downloading http://yann.lecun.com/exdb/mnist/train-labels-idx1-ubyte.gz\n",
      "Failed to download (trying next):\n",
      "HTTP Error 403: Forbidden\n",
      "\n",
      "Downloading https://ossci-datasets.s3.amazonaws.com/mnist/train-labels-idx1-ubyte.gz\n",
      "Downloading https://ossci-datasets.s3.amazonaws.com/mnist/train-labels-idx1-ubyte.gz to /root/data/MNIST/raw/train-labels-idx1-ubyte.gz\n"
     ]
    },
    {
     "name": "stderr",
     "output_type": "stream",
     "text": [
      "100%|██████████| 28881/28881 [00:00<00:00, 8446220.46it/s]"
     ]
    },
    {
     "name": "stdout",
     "output_type": "stream",
     "text": [
      "Extracting /root/data/MNIST/raw/train-labels-idx1-ubyte.gz to /root/data/MNIST/raw\n",
      "\n",
      "Downloading http://yann.lecun.com/exdb/mnist/t10k-images-idx3-ubyte.gz\n",
      "Failed to download (trying next):\n",
      "HTTP Error 403: Forbidden\n",
      "\n",
      "Downloading https://ossci-datasets.s3.amazonaws.com/mnist/t10k-images-idx3-ubyte.gz\n"
     ]
    },
    {
     "name": "stderr",
     "output_type": "stream",
     "text": [
      "\n"
     ]
    },
    {
     "name": "stdout",
     "output_type": "stream",
     "text": [
      "Downloading https://ossci-datasets.s3.amazonaws.com/mnist/t10k-images-idx3-ubyte.gz to /root/data/MNIST/raw/t10k-images-idx3-ubyte.gz\n"
     ]
    },
    {
     "name": "stderr",
     "output_type": "stream",
     "text": [
      "100%|██████████| 1648877/1648877 [00:00<00:00, 28197513.71it/s]"
     ]
    },
    {
     "name": "stdout",
     "output_type": "stream",
     "text": [
      "Extracting /root/data/MNIST/raw/t10k-images-idx3-ubyte.gz to /root/data/MNIST/raw\n"
     ]
    },
    {
     "name": "stderr",
     "output_type": "stream",
     "text": [
      "\n"
     ]
    },
    {
     "name": "stdout",
     "output_type": "stream",
     "text": [
      "\n",
      "Downloading http://yann.lecun.com/exdb/mnist/t10k-labels-idx1-ubyte.gz\n",
      "Failed to download (trying next):\n",
      "HTTP Error 403: Forbidden\n",
      "\n",
      "Downloading https://ossci-datasets.s3.amazonaws.com/mnist/t10k-labels-idx1-ubyte.gz\n",
      "Downloading https://ossci-datasets.s3.amazonaws.com/mnist/t10k-labels-idx1-ubyte.gz to /root/data/MNIST/raw/t10k-labels-idx1-ubyte.gz\n"
     ]
    },
    {
     "name": "stderr",
     "output_type": "stream",
     "text": [
      "100%|██████████| 4542/4542 [00:00<00:00, 2539054.88it/s]"
     ]
    },
    {
     "name": "stdout",
     "output_type": "stream",
     "text": [
      "Extracting /root/data/MNIST/raw/t10k-labels-idx1-ubyte.gz to /root/data/MNIST/raw\n",
      "\n"
     ]
    },
    {
     "name": "stderr",
     "output_type": "stream",
     "text": [
      "\n"
     ]
    }
   ],
   "source": [
    "from torch.utils.data import DataLoader\n",
    "from torchvision import datasets, transforms\n",
    "\n",
    "# Define a transformation\n",
    "transform = transforms.Compose([\n",
    "    transforms.ToTensor(),\n",
    "    transforms.Normalize((0.5,), (0.5,))\n",
    "])\n",
    "\n",
    "# Load dataset\n",
    "dataset = datasets.MNIST(root='/root/data', train=True, download=True, transform=transform)\n",
    "\n",
    "# Create DataLoader with multiple workers\n",
    "dataloader = DataLoader(dataset, batch_size=64, shuffle=True, num_workers=4)\n"
   ]
  },
  {
   "cell_type": "markdown",
   "id": "d5c372af-538d-4086-a3aa-5896a1d4ae90",
   "metadata": {},
   "source": [
    "### Iterating through dataloader"
   ]
  },
  {
   "cell_type": "code",
   "execution_count": null,
   "id": "5d3732af-06e3-4592-8329-7853c9e56bad",
   "metadata": {},
   "outputs": [],
   "source": [
    "\n",
    "# Iterate through the DataLoader\n",
    "for batch_idx, (inputs, targets) in enumerate(dataloader):\n",
    "    print(f\"Batch {batch_idx+1}\")\n",
    "    print(f\"Inputs shape: {inputs.shape}\")\n",
    "    print(f\"Targets shape: {targets.shape}\")\n",
    "    # Here you can add your training code, e.g., forward pass, loss calculation, etc.\n",
    "    # For demonstration, we'll just print the shapes.\n"
   ]
  },
  {
   "cell_type": "markdown",
   "id": "757b1ec2-b47b-41aa-baf6-e14a5dd87781",
   "metadata": {},
   "source": [
    "### Creating DataLoader for Custom Dataset\n"
   ]
  },
  {
   "cell_type": "code",
   "execution_count": 9,
   "id": "769578a3",
   "metadata": {
    "tags": []
   },
   "outputs": [],
   "source": [
    "import torch\n",
    "import torch.nn as nn\n",
    "from torch.utils.data import Dataset, DataLoader\n",
    "\n",
    "# Define the custom dataset class\n",
    "class RandomDataset(Dataset):\n",
    "    def __init__(self, num_samples, image_shape):\n",
    "        self.num_samples = num_samples\n",
    "        self.image_shape = image_shape\n",
    "\n",
    "    def __len__(self):\n",
    "        return self.num_samples #returns the length of the dataset\n",
    "\n",
    "    def __getitem__(self, idx):\n",
    "        # Generate random image\n",
    "        image = torch.randn(*self.image_shape) #generate random image\n",
    "\n",
    "        # Generate random label\n",
    "        label = torch.randint(0, 10, ()) #generate random label\n",
    "\n",
    "        return image, label\n",
    "\n",
    "# Define the dataset parameters\n",
    "num_samples = 1000\n",
    "image_shape = (1, 28, 28)  # (channels, height, width)\n",
    "\n",
    "# Load your training data\n",
    "train_dataset   = RandomDataset(num_samples, image_shape) # Generate random dataset Your training dataset"
   ]
  },
  {
   "cell_type": "code",
   "execution_count": 10,
   "id": "b60f002d",
   "metadata": {
    "tags": []
   },
   "outputs": [
    {
     "name": "stdout",
     "output_type": "stream",
     "text": [
      "16\n"
     ]
    }
   ],
   "source": [
    "# Create data loaders\n",
    "train_loader = torch.utils.data.DataLoader(train_dataset, batch_size=64, shuffle=True)\n",
    "print(len(train_loader))"
   ]
  },
  {
   "cell_type": "code",
   "execution_count": 11,
   "id": "116832c7",
   "metadata": {
    "tags": []
   },
   "outputs": [
    {
     "name": "stdout",
     "output_type": "stream",
     "text": [
      "Epoch 1: Loss = 2.3259033411741257\n",
      "Epoch 2: Loss = 2.325193867087364\n",
      "Epoch 3: Loss = 2.319349765777588\n",
      "Epoch 4: Loss = 2.3052792251110077\n",
      "Epoch 5: Loss = 2.3253238201141357\n",
      "Epoch 6: Loss = 2.315476641058922\n",
      "Epoch 7: Loss = 2.3255495578050613\n",
      "Epoch 8: Loss = 2.3312793970108032\n",
      "Epoch 9: Loss = 2.315801292657852\n",
      "Epoch 10: Loss = 2.320280820131302\n"
     ]
    }
   ],
   "source": [
    "import torch\n",
    "import torch.nn as nn\n",
    "import torch.optim as optim\n",
    "\n",
    "# Define your neural network architecture\n",
    "class NeuralNet(nn.Module): #inheretence concept\n",
    "    def __init__(self):\n",
    "        super(NeuralNet, self).__init__()\n",
    "        self.flatten = nn.Flatten()\n",
    "        self.fc1 = nn.Linear(784, 256)\n",
    "        self.fc2 = nn.Linear(256, 10)\n",
    "        self.relu = nn.ReLU() #whether you will use this AF many times or not , Define it once\n",
    "        \n",
    "    def forward(self, x):\n",
    "        x = self.flatten(x) # 28x28 --> 784 \n",
    "        x = self.fc1(x)\n",
    "        x = self.relu(x)\n",
    "        x = self.fc2(x) \n",
    "        return x\n",
    "\n",
    "# Create data loaders\n",
    "train_loader = torch.utils.data.DataLoader(train_dataset, batch_size=64, shuffle=True)\n",
    "\n",
    "# Instantiate the neural network\n",
    "model = NeuralNet()\n",
    "\n",
    "# Define the loss function and optimizer\n",
    "criterion = nn.CrossEntropyLoss() #Classification or regression? \n",
    "optimizer = optim.SGD(model.parameters(), lr=0.01)\n",
    "\n",
    "# Train the neural network\n",
    "for epoch in range(10): # 10  Epochs\n",
    "    running_loss = 0.0\n",
    "    for inputs, labels in train_loader: #looping the batches\n",
    "        \n",
    "        # ToDo: Enable gradient tracking\n",
    "        \n",
    "        # Zero the gradients\n",
    "        optimizer.zero_grad()  #ensures that the gradients are cleared or reset to zero before the next forward-backward pass.\n",
    "\n",
    "        # Forward pass\n",
    "        outputs = model(inputs)\n",
    "        loss = criterion(outputs, labels)\n",
    "\n",
    "        # Backward pass and optimization\n",
    "        loss.backward() #calculate the gradients\n",
    "        #ToDo: Print Gradients\n",
    "        optimizer.step() #update our weights of each Batch\n",
    "\n",
    "        running_loss += loss.item() #accumulating losses\n",
    "\n",
    "    print(f\"Epoch {epoch+1}: Loss = {running_loss/len(train_loader)}\") # Batch loss=Total losses/number of batches\n",
    "    #ToDo: Save your model will be only done if your loss < the minimum calculated loss (model.pt)\n"
   ]
  },
  {
   "cell_type": "code",
   "execution_count": 16,
   "id": "e27d699e",
   "metadata": {
    "tags": []
   },
   "outputs": [
    {
     "data": {
      "text/plain": [
       "tensor([[-0.0018,  0.0014, -0.0014,  ..., -0.0002, -0.0027, -0.0064],\n",
       "        [-0.0020, -0.0068,  0.0039,  ..., -0.0036,  0.0032, -0.0042],\n",
       "        [-0.0011,  0.0022, -0.0007,  ...,  0.0062,  0.0013,  0.0038],\n",
       "        ...,\n",
       "        [-0.0069,  0.0042,  0.0015,  ..., -0.0032, -0.0077, -0.0015],\n",
       "        [ 0.0015, -0.0043, -0.0021,  ..., -0.0008, -0.0016, -0.0038],\n",
       "        [ 0.0019,  0.0003, -0.0032,  ..., -0.0008,  0.0018,  0.0005]])"
      ]
     },
     "execution_count": 16,
     "metadata": {},
     "output_type": "execute_result"
    }
   ],
   "source": [
    "model.fc1.weight.grad"
   ]
  },
  {
   "cell_type": "code",
   "execution_count": 13,
   "id": "fe6f30f9-efa3-4c21-9d86-4c40766d3f59",
   "metadata": {
    "tags": []
   },
   "outputs": [
    {
     "data": {
      "text/plain": [
       "tensor([-3.5767e-03,  4.2845e-03,  3.4003e-03,  2.5443e-03, -3.1816e-03,\n",
       "        -2.9246e-03,  1.4145e-03, -3.0543e-03, -3.3440e-03, -3.3123e-03,\n",
       "         3.8662e-03, -1.6881e-04, -6.0021e-04,  4.4093e-03,  2.5267e-03,\n",
       "        -1.3221e-03, -7.2000e-03, -2.2067e-03, -2.6351e-03, -5.7326e-03,\n",
       "        -4.1427e-04, -7.1342e-03, -5.6208e-04, -5.6288e-03, -2.8622e-03,\n",
       "         1.2146e-04,  1.7808e-03,  7.7193e-04,  4.0079e-03,  1.3993e-03,\n",
       "        -3.6245e-03,  1.0745e-03,  4.4239e-03, -2.0509e-03, -3.7758e-03,\n",
       "         6.2648e-03, -6.0815e-03,  3.7772e-04, -2.7438e-03, -3.8099e-03,\n",
       "         4.3043e-03,  1.7479e-03,  6.4282e-04, -7.2688e-03,  1.6816e-03,\n",
       "        -4.1388e-03, -2.3411e-03,  7.6347e-04, -8.6439e-04,  1.4495e-03,\n",
       "        -8.5094e-03,  1.3149e-03, -3.2493e-04, -1.4585e-03,  3.6696e-03,\n",
       "        -6.7622e-04, -2.7654e-03, -3.9413e-03,  3.4215e-03,  4.4204e-03,\n",
       "         1.6653e-03,  3.3769e-03, -3.0891e-03,  4.8049e-03, -2.2066e-03,\n",
       "        -4.0369e-03, -2.6313e-05,  3.4641e-03,  4.4001e-03, -1.6564e-03,\n",
       "        -3.5225e-04, -3.1079e-03,  2.1322e-03, -5.0786e-03, -5.1490e-04,\n",
       "         3.9104e-04,  5.0114e-03, -3.6685e-03, -3.1607e-03,  4.2891e-03,\n",
       "        -3.6618e-03,  2.7463e-03,  2.3118e-03,  9.6500e-04,  9.1370e-04,\n",
       "        -4.0358e-04, -1.0409e-03, -5.3986e-04,  1.9373e-03, -1.6785e-03,\n",
       "        -7.1231e-03, -3.6089e-03,  6.2978e-03,  3.6851e-03, -8.0902e-03,\n",
       "         2.1838e-03,  5.9869e-03,  5.3813e-03, -4.7914e-03,  6.5930e-03,\n",
       "        -5.9950e-03,  1.5159e-03,  4.5997e-04,  1.5227e-03,  1.0158e-03,\n",
       "         4.7582e-03, -3.9252e-03,  1.0663e-03, -1.1627e-03, -6.8205e-04,\n",
       "         2.1976e-03, -1.9130e-03,  6.9586e-05,  6.2368e-03,  3.3632e-03,\n",
       "         6.5976e-03, -1.4763e-03, -1.4435e-03, -9.0497e-04, -8.2768e-04,\n",
       "         4.0227e-03,  6.7225e-03,  7.6196e-04,  2.2171e-03,  2.1085e-03,\n",
       "        -1.8390e-03,  2.5742e-03,  3.1711e-03,  6.0249e-05,  1.2955e-04,\n",
       "        -6.4660e-03, -5.1055e-03,  1.5885e-03,  1.7354e-03, -1.8224e-03,\n",
       "         7.5896e-03, -1.1049e-02, -4.1260e-03, -3.2397e-03,  2.2678e-03,\n",
       "         1.4560e-03, -2.2298e-03, -5.9939e-03, -1.2088e-03,  5.5942e-04,\n",
       "         4.7847e-03,  3.2259e-03,  1.9240e-03,  4.8127e-03, -5.8179e-04,\n",
       "         8.8883e-03, -5.4414e-03, -1.3703e-03,  3.4868e-03, -6.2575e-04,\n",
       "        -6.1727e-03, -3.3766e-03, -4.4208e-03,  4.5511e-03, -5.0687e-03,\n",
       "        -6.4447e-03,  7.1893e-03, -2.1799e-03, -4.1223e-03,  9.5539e-05,\n",
       "        -4.7212e-03, -2.2721e-03, -7.0247e-03, -2.5047e-03,  4.9492e-03,\n",
       "        -2.8713e-03,  3.6316e-03,  3.3681e-03,  5.0497e-03,  3.8215e-03,\n",
       "         1.7638e-03,  1.1064e-05,  2.7267e-03, -3.6574e-04,  6.6567e-04,\n",
       "         2.3475e-03, -4.4269e-03,  2.4735e-03, -6.0081e-03,  5.0505e-03,\n",
       "        -1.8082e-03,  2.5329e-03, -3.4489e-03,  1.1345e-03, -5.2217e-03,\n",
       "        -1.6075e-03, -2.5970e-03,  3.6003e-03, -5.1226e-04, -1.8173e-03,\n",
       "         2.6448e-03,  1.7837e-03, -3.4448e-03, -2.9732e-03, -4.7240e-03,\n",
       "        -5.5584e-04, -2.0439e-03, -1.0623e-03, -4.4888e-03, -5.0561e-03,\n",
       "         1.3143e-03, -2.6009e-03, -8.8049e-04,  2.7913e-03,  5.0021e-03,\n",
       "        -1.9107e-03, -2.3403e-03, -3.0481e-03,  7.5224e-03,  2.3682e-03,\n",
       "        -5.3174e-03,  6.4606e-04, -1.8099e-03, -8.5371e-03,  3.4809e-03,\n",
       "         4.3940e-04,  3.6298e-03, -3.1159e-03,  2.5787e-03,  3.5417e-03,\n",
       "        -2.1240e-03, -2.0432e-03, -1.0050e-02, -7.1567e-04,  5.2738e-03,\n",
       "         2.5661e-03, -5.2599e-03,  3.5004e-03,  1.3333e-03,  6.6387e-03,\n",
       "        -2.0479e-03,  6.3572e-03, -1.7324e-03,  4.6214e-04, -3.1929e-03,\n",
       "         8.1812e-04, -2.2669e-03,  4.9674e-03, -1.7771e-03, -5.4149e-03,\n",
       "         2.2211e-03, -5.9619e-03,  9.2482e-04,  2.9838e-03,  1.5563e-03,\n",
       "        -5.6305e-03, -9.5821e-03, -5.4642e-03,  9.1408e-03,  1.5307e-03,\n",
       "         4.8632e-04])"
      ]
     },
     "execution_count": 13,
     "metadata": {},
     "output_type": "execute_result"
    }
   ],
   "source": [
    "model.fc1.bias.grad"
   ]
  },
  {
   "cell_type": "code",
   "execution_count": null,
   "id": "b7dc7660-0ac4-429c-8d81-260bc584427a",
   "metadata": {},
   "outputs": [],
   "source": []
  },
  {
   "cell_type": "code",
   "execution_count": null,
   "id": "a38d4cb7-9fac-4900-9949-5c2f64b34093",
   "metadata": {},
   "outputs": [],
   "source": []
  }
 ],
 "metadata": {
  "availableInstances": [
   {
    "_defaultOrder": 0,
    "_isFastLaunch": true,
    "category": "General purpose",
    "gpuNum": 0,
    "hideHardwareSpecs": false,
    "memoryGiB": 4,
    "name": "ml.t3.medium",
    "vcpuNum": 2
   },
   {
    "_defaultOrder": 1,
    "_isFastLaunch": false,
    "category": "General purpose",
    "gpuNum": 0,
    "hideHardwareSpecs": false,
    "memoryGiB": 8,
    "name": "ml.t3.large",
    "vcpuNum": 2
   },
   {
    "_defaultOrder": 2,
    "_isFastLaunch": false,
    "category": "General purpose",
    "gpuNum": 0,
    "hideHardwareSpecs": false,
    "memoryGiB": 16,
    "name": "ml.t3.xlarge",
    "vcpuNum": 4
   },
   {
    "_defaultOrder": 3,
    "_isFastLaunch": false,
    "category": "General purpose",
    "gpuNum": 0,
    "hideHardwareSpecs": false,
    "memoryGiB": 32,
    "name": "ml.t3.2xlarge",
    "vcpuNum": 8
   },
   {
    "_defaultOrder": 4,
    "_isFastLaunch": true,
    "category": "General purpose",
    "gpuNum": 0,
    "hideHardwareSpecs": false,
    "memoryGiB": 8,
    "name": "ml.m5.large",
    "vcpuNum": 2
   },
   {
    "_defaultOrder": 5,
    "_isFastLaunch": false,
    "category": "General purpose",
    "gpuNum": 0,
    "hideHardwareSpecs": false,
    "memoryGiB": 16,
    "name": "ml.m5.xlarge",
    "vcpuNum": 4
   },
   {
    "_defaultOrder": 6,
    "_isFastLaunch": false,
    "category": "General purpose",
    "gpuNum": 0,
    "hideHardwareSpecs": false,
    "memoryGiB": 32,
    "name": "ml.m5.2xlarge",
    "vcpuNum": 8
   },
   {
    "_defaultOrder": 7,
    "_isFastLaunch": false,
    "category": "General purpose",
    "gpuNum": 0,
    "hideHardwareSpecs": false,
    "memoryGiB": 64,
    "name": "ml.m5.4xlarge",
    "vcpuNum": 16
   },
   {
    "_defaultOrder": 8,
    "_isFastLaunch": false,
    "category": "General purpose",
    "gpuNum": 0,
    "hideHardwareSpecs": false,
    "memoryGiB": 128,
    "name": "ml.m5.8xlarge",
    "vcpuNum": 32
   },
   {
    "_defaultOrder": 9,
    "_isFastLaunch": false,
    "category": "General purpose",
    "gpuNum": 0,
    "hideHardwareSpecs": false,
    "memoryGiB": 192,
    "name": "ml.m5.12xlarge",
    "vcpuNum": 48
   },
   {
    "_defaultOrder": 10,
    "_isFastLaunch": false,
    "category": "General purpose",
    "gpuNum": 0,
    "hideHardwareSpecs": false,
    "memoryGiB": 256,
    "name": "ml.m5.16xlarge",
    "vcpuNum": 64
   },
   {
    "_defaultOrder": 11,
    "_isFastLaunch": false,
    "category": "General purpose",
    "gpuNum": 0,
    "hideHardwareSpecs": false,
    "memoryGiB": 384,
    "name": "ml.m5.24xlarge",
    "vcpuNum": 96
   },
   {
    "_defaultOrder": 12,
    "_isFastLaunch": false,
    "category": "General purpose",
    "gpuNum": 0,
    "hideHardwareSpecs": false,
    "memoryGiB": 8,
    "name": "ml.m5d.large",
    "vcpuNum": 2
   },
   {
    "_defaultOrder": 13,
    "_isFastLaunch": false,
    "category": "General purpose",
    "gpuNum": 0,
    "hideHardwareSpecs": false,
    "memoryGiB": 16,
    "name": "ml.m5d.xlarge",
    "vcpuNum": 4
   },
   {
    "_defaultOrder": 14,
    "_isFastLaunch": false,
    "category": "General purpose",
    "gpuNum": 0,
    "hideHardwareSpecs": false,
    "memoryGiB": 32,
    "name": "ml.m5d.2xlarge",
    "vcpuNum": 8
   },
   {
    "_defaultOrder": 15,
    "_isFastLaunch": false,
    "category": "General purpose",
    "gpuNum": 0,
    "hideHardwareSpecs": false,
    "memoryGiB": 64,
    "name": "ml.m5d.4xlarge",
    "vcpuNum": 16
   },
   {
    "_defaultOrder": 16,
    "_isFastLaunch": false,
    "category": "General purpose",
    "gpuNum": 0,
    "hideHardwareSpecs": false,
    "memoryGiB": 128,
    "name": "ml.m5d.8xlarge",
    "vcpuNum": 32
   },
   {
    "_defaultOrder": 17,
    "_isFastLaunch": false,
    "category": "General purpose",
    "gpuNum": 0,
    "hideHardwareSpecs": false,
    "memoryGiB": 192,
    "name": "ml.m5d.12xlarge",
    "vcpuNum": 48
   },
   {
    "_defaultOrder": 18,
    "_isFastLaunch": false,
    "category": "General purpose",
    "gpuNum": 0,
    "hideHardwareSpecs": false,
    "memoryGiB": 256,
    "name": "ml.m5d.16xlarge",
    "vcpuNum": 64
   },
   {
    "_defaultOrder": 19,
    "_isFastLaunch": false,
    "category": "General purpose",
    "gpuNum": 0,
    "hideHardwareSpecs": false,
    "memoryGiB": 384,
    "name": "ml.m5d.24xlarge",
    "vcpuNum": 96
   },
   {
    "_defaultOrder": 20,
    "_isFastLaunch": false,
    "category": "General purpose",
    "gpuNum": 0,
    "hideHardwareSpecs": true,
    "memoryGiB": 0,
    "name": "ml.geospatial.interactive",
    "supportedImageNames": [
     "sagemaker-geospatial-v1-0"
    ],
    "vcpuNum": 0
   },
   {
    "_defaultOrder": 21,
    "_isFastLaunch": true,
    "category": "Compute optimized",
    "gpuNum": 0,
    "hideHardwareSpecs": false,
    "memoryGiB": 4,
    "name": "ml.c5.large",
    "vcpuNum": 2
   },
   {
    "_defaultOrder": 22,
    "_isFastLaunch": false,
    "category": "Compute optimized",
    "gpuNum": 0,
    "hideHardwareSpecs": false,
    "memoryGiB": 8,
    "name": "ml.c5.xlarge",
    "vcpuNum": 4
   },
   {
    "_defaultOrder": 23,
    "_isFastLaunch": false,
    "category": "Compute optimized",
    "gpuNum": 0,
    "hideHardwareSpecs": false,
    "memoryGiB": 16,
    "name": "ml.c5.2xlarge",
    "vcpuNum": 8
   },
   {
    "_defaultOrder": 24,
    "_isFastLaunch": false,
    "category": "Compute optimized",
    "gpuNum": 0,
    "hideHardwareSpecs": false,
    "memoryGiB": 32,
    "name": "ml.c5.4xlarge",
    "vcpuNum": 16
   },
   {
    "_defaultOrder": 25,
    "_isFastLaunch": false,
    "category": "Compute optimized",
    "gpuNum": 0,
    "hideHardwareSpecs": false,
    "memoryGiB": 72,
    "name": "ml.c5.9xlarge",
    "vcpuNum": 36
   },
   {
    "_defaultOrder": 26,
    "_isFastLaunch": false,
    "category": "Compute optimized",
    "gpuNum": 0,
    "hideHardwareSpecs": false,
    "memoryGiB": 96,
    "name": "ml.c5.12xlarge",
    "vcpuNum": 48
   },
   {
    "_defaultOrder": 27,
    "_isFastLaunch": false,
    "category": "Compute optimized",
    "gpuNum": 0,
    "hideHardwareSpecs": false,
    "memoryGiB": 144,
    "name": "ml.c5.18xlarge",
    "vcpuNum": 72
   },
   {
    "_defaultOrder": 28,
    "_isFastLaunch": false,
    "category": "Compute optimized",
    "gpuNum": 0,
    "hideHardwareSpecs": false,
    "memoryGiB": 192,
    "name": "ml.c5.24xlarge",
    "vcpuNum": 96
   },
   {
    "_defaultOrder": 29,
    "_isFastLaunch": true,
    "category": "Accelerated computing",
    "gpuNum": 1,
    "hideHardwareSpecs": false,
    "memoryGiB": 16,
    "name": "ml.g4dn.xlarge",
    "vcpuNum": 4
   },
   {
    "_defaultOrder": 30,
    "_isFastLaunch": false,
    "category": "Accelerated computing",
    "gpuNum": 1,
    "hideHardwareSpecs": false,
    "memoryGiB": 32,
    "name": "ml.g4dn.2xlarge",
    "vcpuNum": 8
   },
   {
    "_defaultOrder": 31,
    "_isFastLaunch": false,
    "category": "Accelerated computing",
    "gpuNum": 1,
    "hideHardwareSpecs": false,
    "memoryGiB": 64,
    "name": "ml.g4dn.4xlarge",
    "vcpuNum": 16
   },
   {
    "_defaultOrder": 32,
    "_isFastLaunch": false,
    "category": "Accelerated computing",
    "gpuNum": 1,
    "hideHardwareSpecs": false,
    "memoryGiB": 128,
    "name": "ml.g4dn.8xlarge",
    "vcpuNum": 32
   },
   {
    "_defaultOrder": 33,
    "_isFastLaunch": false,
    "category": "Accelerated computing",
    "gpuNum": 4,
    "hideHardwareSpecs": false,
    "memoryGiB": 192,
    "name": "ml.g4dn.12xlarge",
    "vcpuNum": 48
   },
   {
    "_defaultOrder": 34,
    "_isFastLaunch": false,
    "category": "Accelerated computing",
    "gpuNum": 1,
    "hideHardwareSpecs": false,
    "memoryGiB": 256,
    "name": "ml.g4dn.16xlarge",
    "vcpuNum": 64
   },
   {
    "_defaultOrder": 35,
    "_isFastLaunch": false,
    "category": "Accelerated computing",
    "gpuNum": 1,
    "hideHardwareSpecs": false,
    "memoryGiB": 61,
    "name": "ml.p3.2xlarge",
    "vcpuNum": 8
   },
   {
    "_defaultOrder": 36,
    "_isFastLaunch": false,
    "category": "Accelerated computing",
    "gpuNum": 4,
    "hideHardwareSpecs": false,
    "memoryGiB": 244,
    "name": "ml.p3.8xlarge",
    "vcpuNum": 32
   },
   {
    "_defaultOrder": 37,
    "_isFastLaunch": false,
    "category": "Accelerated computing",
    "gpuNum": 8,
    "hideHardwareSpecs": false,
    "memoryGiB": 488,
    "name": "ml.p3.16xlarge",
    "vcpuNum": 64
   },
   {
    "_defaultOrder": 38,
    "_isFastLaunch": false,
    "category": "Accelerated computing",
    "gpuNum": 8,
    "hideHardwareSpecs": false,
    "memoryGiB": 768,
    "name": "ml.p3dn.24xlarge",
    "vcpuNum": 96
   },
   {
    "_defaultOrder": 39,
    "_isFastLaunch": false,
    "category": "Memory Optimized",
    "gpuNum": 0,
    "hideHardwareSpecs": false,
    "memoryGiB": 16,
    "name": "ml.r5.large",
    "vcpuNum": 2
   },
   {
    "_defaultOrder": 40,
    "_isFastLaunch": false,
    "category": "Memory Optimized",
    "gpuNum": 0,
    "hideHardwareSpecs": false,
    "memoryGiB": 32,
    "name": "ml.r5.xlarge",
    "vcpuNum": 4
   },
   {
    "_defaultOrder": 41,
    "_isFastLaunch": false,
    "category": "Memory Optimized",
    "gpuNum": 0,
    "hideHardwareSpecs": false,
    "memoryGiB": 64,
    "name": "ml.r5.2xlarge",
    "vcpuNum": 8
   },
   {
    "_defaultOrder": 42,
    "_isFastLaunch": false,
    "category": "Memory Optimized",
    "gpuNum": 0,
    "hideHardwareSpecs": false,
    "memoryGiB": 128,
    "name": "ml.r5.4xlarge",
    "vcpuNum": 16
   },
   {
    "_defaultOrder": 43,
    "_isFastLaunch": false,
    "category": "Memory Optimized",
    "gpuNum": 0,
    "hideHardwareSpecs": false,
    "memoryGiB": 256,
    "name": "ml.r5.8xlarge",
    "vcpuNum": 32
   },
   {
    "_defaultOrder": 44,
    "_isFastLaunch": false,
    "category": "Memory Optimized",
    "gpuNum": 0,
    "hideHardwareSpecs": false,
    "memoryGiB": 384,
    "name": "ml.r5.12xlarge",
    "vcpuNum": 48
   },
   {
    "_defaultOrder": 45,
    "_isFastLaunch": false,
    "category": "Memory Optimized",
    "gpuNum": 0,
    "hideHardwareSpecs": false,
    "memoryGiB": 512,
    "name": "ml.r5.16xlarge",
    "vcpuNum": 64
   },
   {
    "_defaultOrder": 46,
    "_isFastLaunch": false,
    "category": "Memory Optimized",
    "gpuNum": 0,
    "hideHardwareSpecs": false,
    "memoryGiB": 768,
    "name": "ml.r5.24xlarge",
    "vcpuNum": 96
   },
   {
    "_defaultOrder": 47,
    "_isFastLaunch": false,
    "category": "Accelerated computing",
    "gpuNum": 1,
    "hideHardwareSpecs": false,
    "memoryGiB": 16,
    "name": "ml.g5.xlarge",
    "vcpuNum": 4
   },
   {
    "_defaultOrder": 48,
    "_isFastLaunch": false,
    "category": "Accelerated computing",
    "gpuNum": 1,
    "hideHardwareSpecs": false,
    "memoryGiB": 32,
    "name": "ml.g5.2xlarge",
    "vcpuNum": 8
   },
   {
    "_defaultOrder": 49,
    "_isFastLaunch": false,
    "category": "Accelerated computing",
    "gpuNum": 1,
    "hideHardwareSpecs": false,
    "memoryGiB": 64,
    "name": "ml.g5.4xlarge",
    "vcpuNum": 16
   },
   {
    "_defaultOrder": 50,
    "_isFastLaunch": false,
    "category": "Accelerated computing",
    "gpuNum": 1,
    "hideHardwareSpecs": false,
    "memoryGiB": 128,
    "name": "ml.g5.8xlarge",
    "vcpuNum": 32
   },
   {
    "_defaultOrder": 51,
    "_isFastLaunch": false,
    "category": "Accelerated computing",
    "gpuNum": 1,
    "hideHardwareSpecs": false,
    "memoryGiB": 256,
    "name": "ml.g5.16xlarge",
    "vcpuNum": 64
   },
   {
    "_defaultOrder": 52,
    "_isFastLaunch": false,
    "category": "Accelerated computing",
    "gpuNum": 4,
    "hideHardwareSpecs": false,
    "memoryGiB": 192,
    "name": "ml.g5.12xlarge",
    "vcpuNum": 48
   },
   {
    "_defaultOrder": 53,
    "_isFastLaunch": false,
    "category": "Accelerated computing",
    "gpuNum": 4,
    "hideHardwareSpecs": false,
    "memoryGiB": 384,
    "name": "ml.g5.24xlarge",
    "vcpuNum": 96
   },
   {
    "_defaultOrder": 54,
    "_isFastLaunch": false,
    "category": "Accelerated computing",
    "gpuNum": 8,
    "hideHardwareSpecs": false,
    "memoryGiB": 768,
    "name": "ml.g5.48xlarge",
    "vcpuNum": 192
   },
   {
    "_defaultOrder": 55,
    "_isFastLaunch": false,
    "category": "Accelerated computing",
    "gpuNum": 8,
    "hideHardwareSpecs": false,
    "memoryGiB": 1152,
    "name": "ml.p4d.24xlarge",
    "vcpuNum": 96
   },
   {
    "_defaultOrder": 56,
    "_isFastLaunch": false,
    "category": "Accelerated computing",
    "gpuNum": 8,
    "hideHardwareSpecs": false,
    "memoryGiB": 1152,
    "name": "ml.p4de.24xlarge",
    "vcpuNum": 96
   },
   {
    "_defaultOrder": 57,
    "_isFastLaunch": false,
    "category": "Accelerated computing",
    "gpuNum": 0,
    "hideHardwareSpecs": false,
    "memoryGiB": 32,
    "name": "ml.trn1.2xlarge",
    "vcpuNum": 8
   },
   {
    "_defaultOrder": 58,
    "_isFastLaunch": false,
    "category": "Accelerated computing",
    "gpuNum": 0,
    "hideHardwareSpecs": false,
    "memoryGiB": 512,
    "name": "ml.trn1.32xlarge",
    "vcpuNum": 128
   },
   {
    "_defaultOrder": 59,
    "_isFastLaunch": false,
    "category": "Accelerated computing",
    "gpuNum": 0,
    "hideHardwareSpecs": false,
    "memoryGiB": 512,
    "name": "ml.trn1n.32xlarge",
    "vcpuNum": 128
   }
  ],
  "instance_type": "ml.t3.medium",
  "kernelspec": {
   "display_name": "Python 3 (PyTorch 2.0.0 Python 3.10 CPU Optimized)",
   "language": "python",
   "name": "python3__SAGEMAKER_INTERNAL__arn:aws:sagemaker:us-east-1:081325390199:image/pytorch-2.0.0-cpu-py310"
  },
  "language_info": {
   "codemirror_mode": {
    "name": "ipython",
    "version": 3
   },
   "file_extension": ".py",
   "mimetype": "text/x-python",
   "name": "python",
   "nbconvert_exporter": "python",
   "pygments_lexer": "ipython3",
   "version": "3.10.8"
  }
 },
 "nbformat": 4,
 "nbformat_minor": 5
}
