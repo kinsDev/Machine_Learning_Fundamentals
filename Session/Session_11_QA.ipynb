{
  "cells": [
    {
      "cell_type": "markdown",
      "id": "f42cbb94",
      "metadata": {
        "id": "f42cbb94"
      },
      "source": [
        "# Introduction\n",
        "\n",
        "In this project, you will build a neural network of your own design to evaluate the Fashion MNIST dataset.\n",
        "\n",
        "## Imports"
      ]
    },
    {
      "cell_type": "code",
      "execution_count": 1,
      "id": "2dd8be05",
      "metadata": {
        "id": "2dd8be05"
      },
      "outputs": [],
      "source": [
        "## This cell contains the essential imports you will need – DO NOT CHANGE THE CONTENTS! ##\n",
        "import torch\n",
        "import torch.nn as nn\n",
        "import torch.nn.functional as F\n",
        "import torch.optim as optim\n",
        "import torchvision\n",
        "import torchvision.transforms as transforms\n",
        "import matplotlib.pyplot as plt\n",
        "import numpy as np\n",
        "from torchvision import datasets, transforms"
      ]
    },
    {
      "cell_type": "markdown",
      "id": "feb64a68",
      "metadata": {
        "id": "feb64a68"
      },
      "source": [
        "## Load the Dataset\n",
        "\n",
        "Specify your transforms as a list if you intend to.\n",
        "The transforms module is already loaded as `transforms`.\n",
        "\n",
        "FashionMNIST is fortunately included in the torchvision module.\n",
        "Then, you can create your dataset using the `MNIST` object from `torchvision.datasets` ([the documentation is available here](https://pytorch.org/vision/stable/generated/torchvision.datasets.FashionMNIST.html)).\n",
        "Make sure to specify `download=True`!\n",
        "\n",
        "Once your dataset is created, you'll also need to define a `DataLoader` from the `torch.utils.data` module for both the train and the test set."
      ]
    },
    {
      "cell_type": "code",
      "execution_count": 2,
      "id": "cf10f31b",
      "metadata": {
        "colab": {
          "base_uri": "https://localhost:8080/"
        },
        "id": "cf10f31b",
        "outputId": "7ae4ebd5-05a7-42fa-a420-b83a493e21ed"
      },
      "outputs": [
        {
          "output_type": "stream",
          "name": "stdout",
          "text": [
            "Downloading http://fashion-mnist.s3-website.eu-central-1.amazonaws.com/train-images-idx3-ubyte.gz\n",
            "Downloading http://fashion-mnist.s3-website.eu-central-1.amazonaws.com/train-images-idx3-ubyte.gz to /root/Deeplearning with pytorch udacity/FMNIST_Data/FashionMNIST/raw/train-images-idx3-ubyte.gz\n"
          ]
        },
        {
          "output_type": "stream",
          "name": "stderr",
          "text": [
            "100%|██████████| 26421880/26421880 [00:11<00:00, 2203383.21it/s]\n"
          ]
        },
        {
          "output_type": "stream",
          "name": "stdout",
          "text": [
            "Extracting /root/Deeplearning with pytorch udacity/FMNIST_Data/FashionMNIST/raw/train-images-idx3-ubyte.gz to /root/Deeplearning with pytorch udacity/FMNIST_Data/FashionMNIST/raw\n",
            "\n",
            "Downloading http://fashion-mnist.s3-website.eu-central-1.amazonaws.com/train-labels-idx1-ubyte.gz\n",
            "Downloading http://fashion-mnist.s3-website.eu-central-1.amazonaws.com/train-labels-idx1-ubyte.gz to /root/Deeplearning with pytorch udacity/FMNIST_Data/FashionMNIST/raw/train-labels-idx1-ubyte.gz\n"
          ]
        },
        {
          "output_type": "stream",
          "name": "stderr",
          "text": [
            "100%|██████████| 29515/29515 [00:00<00:00, 200318.91it/s]\n"
          ]
        },
        {
          "output_type": "stream",
          "name": "stdout",
          "text": [
            "Extracting /root/Deeplearning with pytorch udacity/FMNIST_Data/FashionMNIST/raw/train-labels-idx1-ubyte.gz to /root/Deeplearning with pytorch udacity/FMNIST_Data/FashionMNIST/raw\n",
            "\n",
            "Downloading http://fashion-mnist.s3-website.eu-central-1.amazonaws.com/t10k-images-idx3-ubyte.gz\n",
            "Downloading http://fashion-mnist.s3-website.eu-central-1.amazonaws.com/t10k-images-idx3-ubyte.gz to /root/Deeplearning with pytorch udacity/FMNIST_Data/FashionMNIST/raw/t10k-images-idx3-ubyte.gz\n"
          ]
        },
        {
          "output_type": "stream",
          "name": "stderr",
          "text": [
            "100%|██████████| 4422102/4422102 [00:02<00:00, 1504910.29it/s]\n"
          ]
        },
        {
          "output_type": "stream",
          "name": "stdout",
          "text": [
            "Extracting /root/Deeplearning with pytorch udacity/FMNIST_Data/FashionMNIST/raw/t10k-images-idx3-ubyte.gz to /root/Deeplearning with pytorch udacity/FMNIST_Data/FashionMNIST/raw\n",
            "\n",
            "Downloading http://fashion-mnist.s3-website.eu-central-1.amazonaws.com/t10k-labels-idx1-ubyte.gz\n",
            "Downloading http://fashion-mnist.s3-website.eu-central-1.amazonaws.com/t10k-labels-idx1-ubyte.gz to /root/Deeplearning with pytorch udacity/FMNIST_Data/FashionMNIST/raw/t10k-labels-idx1-ubyte.gz\n"
          ]
        },
        {
          "output_type": "stream",
          "name": "stderr",
          "text": [
            "100%|██████████| 5148/5148 [00:00<00:00, 6213604.89it/s]"
          ]
        },
        {
          "output_type": "stream",
          "name": "stdout",
          "text": [
            "Extracting /root/Deeplearning with pytorch udacity/FMNIST_Data/FashionMNIST/raw/t10k-labels-idx1-ubyte.gz to /root/Deeplearning with pytorch udacity/FMNIST_Data/FashionMNIST/raw\n",
            "\n"
          ]
        },
        {
          "output_type": "stream",
          "name": "stderr",
          "text": [
            "\n"
          ]
        }
      ],
      "source": [
        "# Define transforms\n",
        "transform = transforms.Compose([transforms.ToTensor()])\n",
        "\n",
        "# Create training set and define training dataloader\n",
        "trainset = datasets.FashionMNIST('~/Deeplearning with pytorch udacity/FMNIST_Data', download=True, train=True, transform=transform)\n",
        "trainloader = torch.utils.data.DataLoader(trainset, batch_size=64, shuffle=True)\n",
        "\n",
        "\n",
        "# Create test set and define test dataloader\n",
        "testset = datasets.FashionMNIST('~/Deeplearning with pytorch udacity/FMNIST_Data', download=True, train=False, transform=transform)\n",
        "testloader = torch.utils.data.DataLoader(testset, batch_size=64, shuffle=True)\n",
        "\n"
      ]
    },
    {
      "cell_type": "code",
      "execution_count": 3,
      "id": "7549be4c",
      "metadata": {
        "colab": {
          "base_uri": "https://localhost:8080/"
        },
        "id": "7549be4c",
        "outputId": "cfe4483b-c88d-42d8-8c93-0f950417775f"
      },
      "outputs": [
        {
          "output_type": "stream",
          "name": "stdout",
          "text": [
            "60000\n",
            "938\n"
          ]
        }
      ],
      "source": [
        "#size of training dataset\n",
        "print(len(trainloader.dataset))\n",
        "print(len(trainloader))\n",
        "#Do you know what is the difference?"
      ]
    },
    {
      "cell_type": "markdown",
      "id": "1ea1067d",
      "metadata": {
        "id": "1ea1067d"
      },
      "source": [
        "Check shapes of Inputs and Outputs"
      ]
    },
    {
      "cell_type": "code",
      "execution_count": 5,
      "id": "68ee18c6",
      "metadata": {
        "colab": {
          "base_uri": "https://localhost:8080/"
        },
        "id": "68ee18c6",
        "outputId": "521d4a7e-d5d2-4e01-ec68-ca61a6d9b2c5"
      },
      "outputs": [
        {
          "output_type": "stream",
          "name": "stdout",
          "text": [
            "<class 'torch.Tensor'>\n",
            "torch.Size([64, 1, 28, 28])\n",
            "torch.Size([64])\n",
            "tensor([2, 6, 9, 6, 9, 8, 5, 2, 2, 2, 5, 8, 5, 1, 9, 5, 7, 0, 8, 9, 8, 0, 7, 1,\n",
            "        6, 9, 9, 1, 5, 4, 7, 9, 9, 4, 3, 4, 8, 0, 2, 7, 8, 0, 8, 5, 7, 5, 1, 4,\n",
            "        4, 1, 5, 9, 3, 7, 3, 4, 7, 0, 5, 4, 7, 3, 8, 7])\n"
          ]
        }
      ],
      "source": [
        "dataiter = iter(trainloader) #queue containing the batches\n",
        "images, labels = next(dataiter) #fetches the next batch in the queue\n",
        "print(type(images))\n",
        "print(images.shape)\n",
        "print(labels.shape)\n",
        "print(labels)\n"
      ]
    },
    {
      "cell_type": "code",
      "execution_count": 3,
      "id": "39fd6112",
      "metadata": {
        "id": "39fd6112"
      },
      "outputs": [],
      "source": [
        "# Create training set and define training dataloader\n",
        "trainset,validset=torch.utils.data.random_split(trainset,[50000,10000])\n",
        "\n",
        "trainloader_new = torch.utils.data.DataLoader(trainset, batch_size=64, shuffle=True)\n",
        "validloader = torch.utils.data.DataLoader(validset, batch_size=64, shuffle=True)\n",
        "\n"
      ]
    },
    {
      "cell_type": "markdown",
      "id": "8414eae1",
      "metadata": {
        "id": "8414eae1"
      },
      "source": [
        "## Explore the Dataset\n",
        "Using matplotlib, numpy, and torch, explore the dimensions of your data.\n",
        "\n",
        "You can view images using the `show5` function defined below – it takes a data loader as an argument.\n",
        "Remember that normalized images will look really weird to you! You may want to try changing your transforms to view images.\n",
        "Typically using no transforms other than `toTensor()` works well for viewing – but not as well for training your network.\n",
        "If `show5` doesn't work, go back and check your code for creating your data loaders and your training/test sets."
      ]
    },
    {
      "cell_type": "code",
      "execution_count": 7,
      "id": "18806cec",
      "metadata": {
        "id": "18806cec"
      },
      "outputs": [],
      "source": [
        "## This cell contains a function for showing 5 images from a dataloader – DO NOT CHANGE THE CONTENTS! ##\n",
        "def show5(img_loader):\n",
        "    dataiter = iter(img_loader)\n",
        "\n",
        "    batch = next(dataiter)\n",
        "    labels = batch[1][0:5]\n",
        "    images = batch[0][0:5]\n",
        "    for i in range(5):\n",
        "        print(int(labels[i].detach()))\n",
        "\n",
        "        image = images[i].numpy()\n",
        "        plt.imshow(image.T.squeeze().T)\n",
        "        plt.show()"
      ]
    },
    {
      "cell_type": "code",
      "execution_count": 8,
      "id": "183ae87a",
      "metadata": {
        "colab": {
          "base_uri": "https://localhost:8080/",
          "height": 1000
        },
        "id": "183ae87a",
        "outputId": "2395ce0f-5947-4682-f772-af68a334f95a"
      },
      "outputs": [
        {
          "output_type": "stream",
          "name": "stdout",
          "text": [
            "6\n"
          ]
        },
        {
          "output_type": "display_data",
          "data": {
            "text/plain": [
              "<Figure size 640x480 with 1 Axes>"
            ],
            "image/png": "[encoded data removed]"
          },
          "metadata": {}
        },
        {
          "output_type": "stream",
          "name": "stdout",
          "text": [
            "2\n"
          ]
        },
        {
          "output_type": "display_data",
          "data": {
            "text/plain": [
              "<Figure size 640x480 with 1 Axes>"
            ],
            "image/png": "[encoded data removed]"
          },
          "metadata": {}
        },
        {
          "output_type": "stream",
          "name": "stdout",
          "text": [
            "6\n"
          ]
        },
        {
          "output_type": "display_data",
          "data": {
            "text/plain": [
              "<Figure size 640x480 with 1 Axes>"
            ],
            "image/png": "[encoded data removed]"
          },
          "metadata": {}
        },
        {
          "output_type": "stream",
          "name": "stdout",
          "text": [
            "6\n"
          ]
        },
        {
          "output_type": "display_data",
          "data": {
            "text/plain": [
              "<Figure size 640x480 with 1 Axes>"
            ],
            "image/png": "[encoded data removed]"
          },
          "metadata": {}
        },
        {
          "output_type": "stream",
          "name": "stdout",
          "text": [
            "4\n"
          ]
        },
        {
          "output_type": "display_data",
          "data": {
            "text/plain": [
              "<Figure size 640x480 with 1 Axes>"
            ],
            "image/png": "[encoded data removed]"
          },
          "metadata": {}
        }
      ],
      "source": [
        "# Explore data\n",
        "## YOUR CODE HERE ##\n",
        "show5(trainloader_new)"
      ]
    },
    {
      "cell_type": "markdown",
      "id": "c9d45f86",
      "metadata": {
        "id": "c9d45f86"
      },
      "source": [
        "## Build your Neural Network\n",
        "Using the layers in `torch.nn` (which has been imported as `nn`) and the `torch.nn.functional` module (imported as `F`), construct a neural network based on the parameters of the dataset.\n",
        "Use any architecture you like.\n",
        "\n",
        "*Note*: If you did not flatten your tensors in your transforms or as part of your preprocessing and you are using only `Linear` layers, make sure to use the `Flatten` layer in your network!"
      ]
    },
    {
      "cell_type": "code",
      "execution_count": 4,
      "id": "a22afe37",
      "metadata": {
        "id": "a22afe37"
      },
      "outputs": [],
      "source": [
        "## YOUR CODE HERE ##\n",
        "class Classifier(nn.Module):\n",
        "    def __init__(self):\n",
        "        super().__init__()\n",
        "        self.fc1 = nn.Linear(784, 256)\n",
        "        self.fc2 = nn.Linear(256, 128)\n",
        "        self.fc3 = nn.Linear(128, 64)\n",
        "        self.fc4 = nn.Linear(64, 10)\n",
        "\n",
        "        # Define dropout layers with a dropout probability (e.g., 0.2)\n",
        "        self.dropout = nn.Dropout(p=0.2)\n",
        "\n",
        "    def forward(self, x):\n",
        "        # make sure input tensor is flattened\n",
        "        x = x.view(x.shape[0], -1)\n",
        "        x = F.relu(self.fc1(x))\n",
        "        x = self.dropout(x)  # Apply dropout after the first layer\n",
        "        x = F.relu(self.fc2(x))\n",
        "        x = self.dropout(x)  # Apply dropout after the second layer\n",
        "        x = F.relu(self.fc3(x))\n",
        "        x = self.dropout(x)  # Apply dropout after the rhird layer\n",
        "        x=self.fc4(x) #output shape ((64,10)) #No dropout added\n",
        "        #print(x.shape)\n",
        "        x = F.log_softmax(x, dim=1) #logsoftmax for each row\n",
        "        #print(x.shape) #output shape ((64,10))\n",
        "        return x"
      ]
    },
    {
      "cell_type": "markdown",
      "id": "b4a2d9ac",
      "metadata": {
        "id": "b4a2d9ac"
      },
      "source": [
        "Specify a loss function and an optimizer, and instantiate the model.\n",
        "\n",
        "If you use a less common loss function, please note why you chose that loss function in a comment."
      ]
    },
    {
      "cell_type": "code",
      "execution_count": 5,
      "id": "1a752df1",
      "metadata": {
        "id": "1a752df1"
      },
      "outputs": [],
      "source": [
        "device = torch.device(\"cuda\" if torch.cuda.is_available() else \"cpu\")\n",
        "## Create Model Instance, Evaluation Criteria, and define the optimizer\n",
        "model = Classifier().to(device)\n",
        "criterion = nn.NLLLoss()\n",
        "optimizer = optim.Adam(model.parameters(), lr=0.003)"
      ]
    },
    {
      "cell_type": "markdown",
      "source": [
        "Network Training\n",
        "\n"
      ],
      "metadata": {
        "id": "8sZfupASCWip"
      },
      "id": "8sZfupASCWip"
    },
    {
      "cell_type": "code",
      "execution_count": 12,
      "id": "48e68352",
      "metadata": {
        "colab": {
          "base_uri": "https://localhost:8080/"
        },
        "id": "48e68352",
        "outputId": "49758d7a-14dd-4cc3-9090-a205d3d49eef"
      },
      "outputs": [
        {
          "output_type": "stream",
          "name": "stdout",
          "text": [
            "Epoch: 0     Training loss: 0.42661706341044675     Validation loss: 0.409308184484008\n",
            "Epoch: 1     Training loss: 0.40712328849698576     Validation loss: 0.3744705470314451\n",
            "Epoch: 2     Training loss: 0.39469004355733045     Validation loss: 0.35886032006163504\n",
            "Epoch: 3     Training loss: 0.38270322707912807     Validation loss: 0.3587158174271796\n",
            "Epoch: 4     Training loss: 0.37380127854588086     Validation loss: 0.3630677131330891\n",
            "Epoch: 5     Training loss: 0.3647743432265718     Validation loss: 0.3567097127247768\n",
            "Epoch: 6     Training loss: 0.36329098477426086     Validation loss: 0.3803136674746586\n",
            "Epoch: 7     Training loss: 0.3610664101227013     Validation loss: 0.3435723897378156\n",
            "Epoch: 8     Training loss: 0.3527265473857255     Validation loss: 0.3585298993405263\n",
            "Epoch: 9     Training loss: 0.34913771967296403     Validation loss: 0.34294235713447735\n",
            "New best model saved with NLLLoss Of 0.34294235713447735\n"
          ]
        }
      ],
      "source": [
        "\n",
        "#Training Loop\n",
        "best_val_loss = float(\"inf\")\n",
        "\n",
        "epochs = 10\n",
        "TLL=[]\n",
        "VLL=[]\n",
        "valid_loss=0;running_loss=0;\n",
        "for e in range(epochs):\n",
        "    running_loss = 0\n",
        "    valid_loss = 0\n",
        "    model.train()\n",
        "    for images, labels in trainloader_new:\n",
        "\n",
        "        optimizer.zero_grad()\n",
        "        log_ps = model(images)\n",
        "        loss = criterion(log_ps, labels)\n",
        "        loss.backward()\n",
        "        optimizer.step()\n",
        "        running_loss += loss.item()\n",
        "    model.eval()\n",
        "    for images, labels in validloader:\n",
        "        log_ps = model(images)\n",
        "        loss = criterion(log_ps, labels) #summing\n",
        "        valid_loss += loss.item()\n",
        "\n",
        "    T=running_loss/len(trainloader_new) #Error/batch\n",
        "    V=valid_loss/len(validloader)    #Error/batch\n",
        "    print(f\"Epoch: {e}\", f\"    Training loss: {T}\",f\"    Validation loss: {V}\")\n",
        "    TLL.append(T)\n",
        "    VLL.append(V)\n",
        "    if V <  best_val_loss:\n",
        "      best_val_loss = V\n",
        "      Model_state_dict = model.state_dict()\n",
        "\n",
        "#Save the best Model of the previously trained 10 Models\n",
        "torch.save(Model_state_dict, 'best_model.pth')\n",
        "print(f\"New best model saved with NLLLoss Of {best_val_loss}\")"
      ]
    },
    {
      "cell_type": "markdown",
      "source": [
        "Now we can load the best Model to test it against the test dataset using?\n"
      ],
      "metadata": {
        "id": "B9sAWgd8H_lc"
      },
      "id": "B9sAWgd8H_lc"
    },
    {
      "cell_type": "code",
      "execution_count": 13,
      "id": "d275e2fe",
      "metadata": {
        "colab": {
          "base_uri": "https://localhost:8080/"
        },
        "id": "d275e2fe",
        "outputId": "3659ddf3-befe-4723-b398-0bd68c3b78c9"
      },
      "outputs": [
        {
          "output_type": "stream",
          "name": "stdout",
          "text": [
            "87.4\n"
          ]
        }
      ],
      "source": [
        "\n",
        "#Load the presaved Best Model\n",
        "model = Classifier()\n",
        "\n",
        "model.load_state_dict(torch.load('best_model.pth'))\n",
        "\n",
        "#Evaluate Model Accuracy using the test dataset\n",
        "correct_per_batch = 0\n",
        "\n",
        "model.eval()\n",
        "for images, labels in testloader:\n",
        "  log_ps = model(images)\n",
        "  ps = torch.exp(log_ps)\n",
        "  Pred_indices = torch.argmax(ps,dim=1)\n",
        "  #print(\"Bach predictions\",Pred_indices)\n",
        "  #print(\"Real predictions\",labels)\n",
        "  correct_per_batch += (Pred_indices == labels).sum().item()\n",
        "\n",
        "#Accuracy\n",
        "correctly_classified = ( correct_per_batch/len(testloader.dataset) )* 100\n",
        "print(correctly_classified)\n"
      ]
    },
    {
      "cell_type": "markdown",
      "source": [
        "Train a CNN for that Model"
      ],
      "metadata": {
        "id": "Tz68BM5Cwabu"
      },
      "id": "Tz68BM5Cwabu"
    },
    {
      "cell_type": "code",
      "execution_count": 18,
      "id": "9a0a2212",
      "metadata": {
        "id": "9a0a2212"
      },
      "outputs": [],
      "source": [
        "class ConvNet(nn.Module):\n",
        "    def __init__(self):\n",
        "        # We optimize dropout rate in a convolutional neural network.\n",
        "        super(ConvNet, self).__init__()\n",
        "\n",
        "        self.conv1 = nn.Conv2d(in_channels = 1, out_channels=16, kernel_size=3, stride=1, padding = \"same\")\n",
        "        ## ToDo: Create another convolution layer  that generates 32 Feature maps name it self.conv2\n",
        "        self.conv2 = nn.Conv2d(in_channels=16,out_channels=32,kernel_size=3,stride=1,padding = \"same\")\n",
        "\n",
        "        ## ToDo: Create a MaxPool Layer of size (2,2) name it self.pool\n",
        "        self.pool = nn.MaxPool2d(kernel_size = 2)\n",
        "\n",
        "        #Defining Fully Connected Layers\n",
        "        self.fc1 = nn.Linear(1568, 512)\n",
        "        self.fc2 = nn.Linear(512, 96)\n",
        "        self.fc3 = nn.Linear(96, 10) # 10 classes\n",
        "\n",
        "        self.drop2d=nn.Dropout2d(p=0.2)\n",
        "        self.drop1d = nn.Dropout1d(p=0.2)\n",
        "\n",
        "\n",
        "    def forward(self, x):\n",
        "        x = F.relu(self.pool(self.conv1(x)))  # 1 x 28 x 28 ->  16 x 28 x 28 ->  16 x 14 x 14\n",
        "        x = F.relu(self.pool(self.conv2(x)))  # 16 x 14 x 14  -->  32 x 14 x 14 ->  32 x 7 x 7\n",
        "        x = self.drop2d(x)\n",
        "\n",
        "        #Flattening the 2D image\n",
        "        x = x.view(x.size(0),-1)             #7x7x32-->1568\n",
        "        x = F.relu(self.fc1(x))              #1568 --> 512\n",
        "        x = F.relu(self.fc2(x))              #512 --> 96\n",
        "        x = self.fc3(x)                      #96--> 10\n",
        "        #Note that No logsoftmax applied, i.e, we can use CrossEntropy\n",
        "\n",
        "        return x"
      ]
    },
    {
      "cell_type": "code",
      "execution_count": 19,
      "id": "8d5b596c",
      "metadata": {
        "id": "8d5b596c",
        "colab": {
          "base_uri": "https://localhost:8080/"
        },
        "outputId": "a70e4b83-57fd-4dc3-d96b-5ad200f8bf2d"
      },
      "outputs": [
        {
          "output_type": "execute_result",
          "data": {
            "text/plain": [
              "ConvNet(\n",
              "  (conv1): Conv2d(1, 16, kernel_size=(3, 3), stride=(1, 1), padding=same)\n",
              "  (conv2): Conv2d(16, 32, kernel_size=(3, 3), stride=(1, 1), padding=same)\n",
              "  (pool): MaxPool2d(kernel_size=2, stride=2, padding=0, dilation=1, ceil_mode=False)\n",
              "  (fc1): Linear(in_features=1568, out_features=512, bias=True)\n",
              "  (fc2): Linear(in_features=512, out_features=96, bias=True)\n",
              "  (fc3): Linear(in_features=96, out_features=10, bias=True)\n",
              "  (drop2d): Dropout2d(p=0.2, inplace=False)\n",
              "  (drop1d): Dropout1d(p=0.2, inplace=False)\n",
              ")"
            ]
          },
          "metadata": {},
          "execution_count": 19
        }
      ],
      "source": [
        "#Instantiate the model\n",
        "CNN_model = ConvNet()\n",
        "CNN_model\n"
      ]
    },
    {
      "cell_type": "code",
      "execution_count": 19,
      "id": "16ab0235",
      "metadata": {
        "id": "16ab0235"
      },
      "outputs": [],
      "source": []
    },
    {
      "cell_type": "markdown",
      "metadata": {
        "id": "3075ca5f"
      },
      "source": [
        "### Check for GPU"
      ],
      "id": "3075ca5f"
    },
    {
      "cell_type": "code",
      "execution_count": 20,
      "metadata": {
        "id": "fa20816f"
      },
      "outputs": [],
      "source": [
        "## To DO Check if GPU exists and upload your model to in case it exists\n",
        "if torch.cuda.is_available():\n",
        "    device = torch.device(\"cuda\")\n",
        "    CNN_model.to(device)\n",
        "else:\n",
        "    device = torch.device(\"cpu\")\n"
      ],
      "id": "fa20816f"
    },
    {
      "cell_type": "markdown",
      "metadata": {
        "id": "628a1efc"
      },
      "source": [
        "### Specify Optimizer and Losse"
      ],
      "id": "628a1efc"
    },
    {
      "cell_type": "code",
      "execution_count": 21,
      "metadata": {
        "id": "f02f7061"
      },
      "outputs": [],
      "source": [
        "optimizer = optim.Adam(CNN_model.parameters(), lr=0.003)\n",
        "criterion= nn.CrossEntropyLoss() #Question: Is using this loss function correct? Or should we use NLLLoss?"
      ],
      "id": "f02f7061"
    },
    {
      "cell_type": "code",
      "execution_count": 22,
      "metadata": {
        "id": "cdf2efe8",
        "outputId": "ab565809-9cfb-46a0-99b9-cf3911e2c98f",
        "colab": {
          "base_uri": "https://localhost:8080/"
        }
      },
      "outputs": [
        {
          "output_type": "stream",
          "name": "stdout",
          "text": [
            "Epoch:1/10 \t AVERAGE TL:0.4785 AVERAGE VL:0.3464 \t AVERAGE TA:82.16 %  AVERAGE VA:87.76 %\n",
            "Epoch:2/10 \t AVERAGE TL:0.3055 AVERAGE VL:0.2923 \t AVERAGE TA:88.74 %  AVERAGE VA:89.39 %\n",
            "Epoch:3/10 \t AVERAGE TL:0.2632 AVERAGE VL:0.2797 \t AVERAGE TA:90.31 %  AVERAGE VA:89.86 %\n",
            "Epoch:4/10 \t AVERAGE TL:0.2339 AVERAGE VL:0.2639 \t AVERAGE TA:91.18 %  AVERAGE VA:90.79 %\n",
            "Epoch:5/10 \t AVERAGE TL:0.2117 AVERAGE VL:0.2833 \t AVERAGE TA:92.08 %  AVERAGE VA:90.54 %\n",
            "Epoch:6/10 \t AVERAGE TL:0.1967 AVERAGE VL:0.2538 \t AVERAGE TA:92.69 %  AVERAGE VA:91.13 %\n",
            "Epoch:7/10 \t AVERAGE TL:0.1807 AVERAGE VL:0.2490 \t AVERAGE TA:93.29 %  AVERAGE VA:91.64 %\n",
            "Epoch:8/10 \t AVERAGE TL:0.1651 AVERAGE VL:0.2915 \t AVERAGE TA:93.83 %  AVERAGE VA:90.60 %\n",
            "Epoch:9/10 \t AVERAGE TL:0.1529 AVERAGE VL:0.3017 \t AVERAGE TA:94.23 %  AVERAGE VA:90.42 %\n",
            "Epoch:10/10 \t AVERAGE TL:0.1443 AVERAGE VL:0.2764 \t AVERAGE TA:94.61 %  AVERAGE VA:91.51 %\n"
          ]
        }
      ],
      "source": [
        "history={'train_loss':[],'valid_loss':[],'train_acc':[],'valid_acc':[]}\n",
        "num_epochs=10\n",
        "\n",
        "for epoch in range(num_epochs):\n",
        "    train_loss,train_correct=0.0,0\n",
        "\n",
        "    model.train()\n",
        "    for images, labels in trainloader_new:\n",
        "\n",
        "        images,labels = images.to(device),labels.to(device)\n",
        "        optimizer.zero_grad()\n",
        "        output = CNN_model(images)\n",
        "        loss = criterion(output,labels)\n",
        "        loss.backward()\n",
        "        optimizer.step()\n",
        "        train_loss += loss.item() * images.size(0)\n",
        "        scores, predictions = torch.max(output.data, 1)\n",
        "        train_correct += (predictions == labels).sum().item()     #Correctly classified Images\n",
        "\n",
        "    valid_loss, val_correct = 0.0, 0\n",
        "\n",
        "    model.eval()\n",
        "    for images, labels in validloader:\n",
        "\n",
        "        images,labels = images.to(device),labels.to(device)\n",
        "        output = CNN_model(images)\n",
        "        loss=criterion(output,labels)\n",
        "        valid_loss+=loss.item()*images.size(0)\n",
        "        scores, predictions = torch.max(output.data,1)\n",
        "        val_correct += (predictions == labels).sum().item()\n",
        "\n",
        "    train_loss = train_loss / len(trainloader_new.sampler)\n",
        "    train_acc = train_correct / len(trainloader_new.sampler)*100\n",
        "    valid_loss = valid_loss / len(validloader.sampler)\n",
        "    valid_acc = val_correct / len(validloader.sampler) * 100\n",
        "\n",
        "    print(\"Epoch:{}/{} \\t AVERAGE TL:{:.4f} AVERAGE VL:{:.4f} \\t AVERAGE TA:{:.2f} %  AVERAGE VA:{:.2f} %\".format(epoch + 1, num_epochs,\n",
        "                                                                                         train_loss,\n",
        "                                                                                         valid_loss,\n",
        "                                                                                         train_acc,\n",
        "                                                                                        valid_acc))\n",
        "    history['train_loss'].append(train_loss)\n",
        "    history['valid_loss'].append(valid_loss)\n",
        "    history['train_acc'].append(train_acc)\n",
        "    history['valid_acc'].append(valid_acc)"
      ],
      "id": "cdf2efe8"
    },
    {
      "cell_type": "markdown",
      "source": [
        "Calculating Testset accuracy"
      ],
      "metadata": {
        "id": "8Mh2l3Bb5GNX"
      },
      "id": "8Mh2l3Bb5GNX"
    },
    {
      "cell_type": "markdown",
      "metadata": {
        "id": "1a37e3b2"
      },
      "source": [
        "### Evaluate model on test set\n"
      ],
      "id": "1a37e3b2"
    },
    {
      "cell_type": "code",
      "execution_count": 23,
      "metadata": {
        "id": "5af0c255",
        "outputId": "c81eebfb-d421-4b14-ad98-da444a0c528c",
        "colab": {
          "base_uri": "https://localhost:8080/"
        }
      },
      "outputs": [
        {
          "output_type": "stream",
          "name": "stdout",
          "text": [
            "Accuracy of the network on the test images: 90.55 %%\n",
            "Loss of the network on the test images: 0.2939\n"
          ]
        }
      ],
      "source": [
        "correct = 0\n",
        "total = 0\n",
        "test_loss = 0\n",
        "with torch.no_grad():\n",
        "    for images, labels in testloader:\n",
        "        images, labels = images.to(device), labels.to(device)\n",
        "        outputs = CNN_model(images)\n",
        "        loss = criterion(outputs,labels)\n",
        "        test_loss += loss.item() * images.size(0)\n",
        "        _, predicted = torch.max(outputs.data, 1)\n",
        "\n",
        "        total += labels.size(0)\n",
        "        correct += (predicted == labels).sum().item()\n",
        "\n",
        "test_loss = test_loss / len(testloader.sampler)\n",
        "\n",
        "print('Accuracy of the network on the test images: {:.2f} %%'.format(100 * correct / total))\n",
        "print('Loss of the network on the test images: {:.4f}'.format(test_loss))"
      ],
      "id": "5af0c255"
    },
    {
      "cell_type": "code",
      "source": [],
      "metadata": {
        "id": "6Mta25FV_FxX"
      },
      "id": "6Mta25FV_FxX",
      "execution_count": null,
      "outputs": []
    }
  ],
  "metadata": {
    "kernelspec": {
      "display_name": "conda_amazonei_pytorch_latest_p37",
      "language": "python",
      "name": "conda_amazonei_pytorch_latest_p37"
    },
    "language_info": {
      "codemirror_mode": {
        "name": "ipython",
        "version": 3
      },
      "file_extension": ".py",
      "mimetype": "text/x-python",
      "name": "python",
      "nbconvert_exporter": "python",
      "pygments_lexer": "ipython3",
      "version": "3.7.10"
    },
    "colab": {
      "provenance": [],
      "gpuType": "T4"
    },
    "accelerator": "GPU"
  },
  "nbformat": 4,
  "nbformat_minor": 5
}