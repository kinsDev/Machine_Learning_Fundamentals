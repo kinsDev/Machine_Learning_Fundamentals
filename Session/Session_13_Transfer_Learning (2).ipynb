{
 "cells": [
  {
   "cell_type": "markdown",
   "metadata": {
    "id": "kviqPwbQ5hEu"
   },
   "source": [
    "Imports"
   ]
  },
  {
   "cell_type": "code",
   "execution_count": 1,
   "metadata": {
    "id": "yzaZ9fk65gM0",
    "tags": []
   },
   "outputs": [],
   "source": [
    "import torch\n",
    "from torch import nn\n",
    "from torch import optim\n",
    "import torch.nn.functional as F\n",
    "from torch.utils.data import DataLoader, Dataset\n",
    "from torchvision import transforms as T\n",
    "from torchvision import datasets\n",
    "import matplotlib.pyplot as plt\n",
    "import PIL"
   ]
  },
  {
   "cell_type": "markdown",
   "metadata": {
    "id": "0WpVMjYzbjcu"
   },
   "source": [
    "# Install Hugging Face Datasets"
   ]
  },
  {
   "cell_type": "code",
   "execution_count": 1,
   "metadata": {
    "colab": {
     "base_uri": "https://localhost:8080/"
    },
    "id": "cJVodpHnMlYI",
    "outputId": "c259e0ce-2db3-4160-aa61-97094fc55d80",
    "tags": []
   },
   "outputs": [
    {
     "name": "stdout",
     "output_type": "stream",
     "text": [
      "Requirement already satisfied: datasets in /opt/conda/envs/sagemaker-distribution/lib/python3.10/site-packages (2.19.1)\n",
      "Requirement already satisfied: filelock in /opt/conda/envs/sagemaker-distribution/lib/python3.10/site-packages (from datasets) (3.14.0)\n",
      "Requirement already satisfied: numpy>=1.17 in /opt/conda/envs/sagemaker-distribution/lib/python3.10/site-packages (from datasets) (1.26.4)\n",
      "Requirement already satisfied: pyarrow>=12.0.0 in /opt/conda/envs/sagemaker-distribution/lib/python3.10/site-packages (from datasets) (15.0.0)\n",
      "Requirement already satisfied: pyarrow-hotfix in /opt/conda/envs/sagemaker-distribution/lib/python3.10/site-packages (from datasets) (0.6)\n",
      "Requirement already satisfied: dill<0.3.9,>=0.3.0 in /opt/conda/envs/sagemaker-distribution/lib/python3.10/site-packages (from datasets) (0.3.8)\n",
      "Requirement already satisfied: pandas in /opt/conda/envs/sagemaker-distribution/lib/python3.10/site-packages (from datasets) (2.1.4)\n",
      "Requirement already satisfied: requests>=2.19.0 in /opt/conda/envs/sagemaker-distribution/lib/python3.10/site-packages (from datasets) (2.31.0)\n",
      "Requirement already satisfied: tqdm>=4.62.1 in /opt/conda/envs/sagemaker-distribution/lib/python3.10/site-packages (from datasets) (4.66.4)\n",
      "Requirement already satisfied: xxhash in /opt/conda/envs/sagemaker-distribution/lib/python3.10/site-packages (from datasets) (3.4.1)\n",
      "Requirement already satisfied: multiprocess in /opt/conda/envs/sagemaker-distribution/lib/python3.10/site-packages (from datasets) (0.70.16)\n",
      "Requirement already satisfied: fsspec<=2024.3.1,>=2023.1.0 in /opt/conda/envs/sagemaker-distribution/lib/python3.10/site-packages (from fsspec[http]<=2024.3.1,>=2023.1.0->datasets) (2023.6.0)\n",
      "Requirement already satisfied: aiohttp in /opt/conda/envs/sagemaker-distribution/lib/python3.10/site-packages (from datasets) (3.9.5)\n",
      "Requirement already satisfied: huggingface-hub>=0.21.2 in /opt/conda/envs/sagemaker-distribution/lib/python3.10/site-packages (from datasets) (0.23.0)\n",
      "Requirement already satisfied: packaging in /opt/conda/envs/sagemaker-distribution/lib/python3.10/site-packages (from datasets) (23.2)\n",
      "Requirement already satisfied: pyyaml>=5.1 in /opt/conda/envs/sagemaker-distribution/lib/python3.10/site-packages (from datasets) (6.0.1)\n",
      "Requirement already satisfied: aiosignal>=1.1.2 in /opt/conda/envs/sagemaker-distribution/lib/python3.10/site-packages (from aiohttp->datasets) (1.3.1)\n",
      "Requirement already satisfied: attrs>=17.3.0 in /opt/conda/envs/sagemaker-distribution/lib/python3.10/site-packages (from aiohttp->datasets) (23.2.0)\n",
      "Requirement already satisfied: frozenlist>=1.1.1 in /opt/conda/envs/sagemaker-distribution/lib/python3.10/site-packages (from aiohttp->datasets) (1.4.1)\n",
      "Requirement already satisfied: multidict<7.0,>=4.5 in /opt/conda/envs/sagemaker-distribution/lib/python3.10/site-packages (from aiohttp->datasets) (6.0.5)\n",
      "Requirement already satisfied: yarl<2.0,>=1.0 in /opt/conda/envs/sagemaker-distribution/lib/python3.10/site-packages (from aiohttp->datasets) (1.9.4)\n",
      "Requirement already satisfied: async-timeout<5.0,>=4.0 in /opt/conda/envs/sagemaker-distribution/lib/python3.10/site-packages (from aiohttp->datasets) (4.0.3)\n",
      "Requirement already satisfied: typing-extensions>=3.7.4.3 in /opt/conda/envs/sagemaker-distribution/lib/python3.10/site-packages (from huggingface-hub>=0.21.2->datasets) (4.11.0)\n",
      "Requirement already satisfied: charset-normalizer<4,>=2 in /opt/conda/envs/sagemaker-distribution/lib/python3.10/site-packages (from requests>=2.19.0->datasets) (3.3.2)\n",
      "Requirement already satisfied: idna<4,>=2.5 in /opt/conda/envs/sagemaker-distribution/lib/python3.10/site-packages (from requests>=2.19.0->datasets) (3.7)\n",
      "Requirement already satisfied: urllib3<3,>=1.21.1 in /opt/conda/envs/sagemaker-distribution/lib/python3.10/site-packages (from requests>=2.19.0->datasets) (1.26.18)\n",
      "Requirement already satisfied: certifi>=2017.4.17 in /opt/conda/envs/sagemaker-distribution/lib/python3.10/site-packages (from requests>=2.19.0->datasets) (2024.2.2)\n",
      "Requirement already satisfied: python-dateutil>=2.8.2 in /opt/conda/envs/sagemaker-distribution/lib/python3.10/site-packages (from pandas->datasets) (2.9.0)\n",
      "Requirement already satisfied: pytz>=2020.1 in /opt/conda/envs/sagemaker-distribution/lib/python3.10/site-packages (from pandas->datasets) (2023.3)\n",
      "Requirement already satisfied: tzdata>=2022.1 in /opt/conda/envs/sagemaker-distribution/lib/python3.10/site-packages (from pandas->datasets) (2024.1)\n",
      "Requirement already satisfied: six>=1.5 in /opt/conda/envs/sagemaker-distribution/lib/python3.10/site-packages (from python-dateutil>=2.8.2->pandas->datasets) (1.16.0)\n"
     ]
    }
   ],
   "source": [
    "#Install the Hugging Face Datasets library if you haven't already:\n",
    "!pip install datasets"
   ]
  },
  {
   "cell_type": "markdown",
   "metadata": {
    "id": "0wom8_HuBMaC"
   },
   "source": [
    "Downloading the [Tiny ImageNet dataset](https://huggingface.co/datasets/zh-plus/tiny-imagenet)"
   ]
  },
  {
   "cell_type": "code",
   "execution_count": 2,
   "metadata": {
    "colab": {
     "base_uri": "https://localhost:8080/",
     "height": 313,
     "referenced_widgets": [
      "9de3f77457a24cc6b71c6dbeecbaf0ed",
      "c4e9a3e36a4947998a7fbc36d79336eb",
      "f221940c11004170980c58642338adbd",
      "8309e0d78b6644299ea94e0c20bd1330",
      "a666e25d80bd4b6eacece095b633dabc",
      "bcd66c498e25433c9407310f2f41c7ec",
      "078b9a3c23ad4ffbbc359d7616e9663f",
      "1107f944d4854ede96384ae960240f9c",
      "01f8d83cbe744765b1192af215ef52fa",
      "a319f68b1c524b5cbc344704409bbc34",
      "ed01e049c628497da2eeb43283dc0d5f",
      "e874e100bff04da9bfdaae9a50454274",
      "bf148bb35d2846b99769c0bd98600edc",
      "958e86d9871a4b3aab631ed66ef181f1",
      "a427399c821f47cc819caaae65a2bc03",
      "06b23651fe6f4efa92dc6e2611b09378",
      "97fb87e33b7d4435bf979c3251859591",
      "3b54732fcb524d96a04cda63f307d325",
      "3cd9a902cd1448358d300f2c6c31f762",
      "c5948cf8962f42d0b624892042b26da2",
      "0d59a04ec8bf43ab9b0911d198060640",
      "863344372cb14c0ab0c54a2527943f67",
      "317fb3add81348f89547951521df2b6d",
      "c9653d915be7411b9c3ea8aa33fe3916",
      "58127916b8d04bd1b0928e8a1d56e86b",
      "a5883a0944ce4da5adcb60f9e3bcf85b",
      "781e1d7eb3c54d6b8383965aac3fb1c4",
      "55c659ea87a341c3bfb658d66c8f2f7f",
      "38b460a289bc4ab482dd09cfdece64a2",
      "d5efc63957334cbf8b16df4ee02e5434",
      "4c029604a13e4c9d971cef4b4940e079",
      "457abdf47c834abc8303ada373fc3064",
      "b6c2709e59b148ccb513b8792888e15b",
      "0de114bdd83b4b668a70c57222536fb9",
      "2f9033644b324a0e80c0c1813da9f4b8",
      "7cc8b8bbdc1845de8f89154c88f077d1",
      "7870e3db22e34e0897df3f5fc650d522",
      "8f22c5da9d1645fcb0ce2e641a02a929",
      "d003f053dc2b464e905e98cca468d735",
      "d98a96eaaf0148c78e71bb90fcb1c6ef",
      "984606ba1f494b20842cb9d6927fda95",
      "0237717840f94e68b4e6ed1a2a1ac040",
      "bfa77665266a4d77a52ac22ede9d8e4d",
      "543019feb3b6499a80b10f0f87203adb",
      "90fbee9f06434d17933f22e4a28e54b3",
      "eec720a3d546441c8da6caca9f5f6c03",
      "11025783ba734c369f26e711461be8f3",
      "e4bff56dbc0f43da8034f6a7c9acbc41",
      "4f1da12a27f346778759efec3629c06d",
      "d57d1a912da040e394a8d5a2e2e58f8b",
      "b961c8be0e524ada8b11446a86eb8fed",
      "0b6aaf74be77418c98986f03a6fba769",
      "198e4a589be744ac8ad57693839a7020",
      "c35587cfbcc9465bae1c9735d9e5fbd9",
      "fed41af9dd0b4fac955d0c81297e3978",
      "1506a5fb7c2c437dab142d330b66aa09",
      "e535dad284b04b94b85d9704d3ec69c2",
      "9249087a9ccd408298eecc4216671456",
      "7b82dbc01e074d6d994ef0c71a156be7",
      "8eed55031d4142d5a0384cde7b85427c",
      "8fe8d8552dd64853b91853264fac86d3",
      "305436f5e52f4c418ea749c5dfd2a53d",
      "8ff6e0ee4892455ca4d94d25ed82dd7f",
      "2cb2016f13db42d18488659083cc538a",
      "a43564718ef543359c5aa54d8a046215",
      "644ac6ba792f461d85a93501fd0cf54b"
     ]
    },
    "id": "jSrxJLYILq9O",
    "outputId": "ac55b130-9f98-4f03-ef61-ee1138936c1f",
    "tags": []
   },
   "outputs": [],
   "source": [
    "from datasets import load_dataset\n",
    "\n",
    "# Load the train split of the Tiny ImageNet dataset\n",
    "# Load the train, and validation of the Tiny ImageNet dataset\n",
    "## we can split the training dataset to be having training and validation datasets\n",
    "\n",
    "train_dataset = load_dataset('zh-plus/tiny-imagenet', split='train')\n",
    "# split the training dataset into training and validation datasets\n",
    "train_dataset, valid_dataset = torch.utils.data.random_split(train_dataset,[90000,10000])\n",
    "\n",
    "test_dataset = load_dataset('zh-plus/tiny-imagenet', split='valid')"
   ]
  },
  {
   "cell_type": "markdown",
   "metadata": {
    "id": "0HvWVGXt2VO8"
   },
   "source": [
    "## Check For Gray scale Images in the dataset"
   ]
  },
  {
   "cell_type": "code",
   "execution_count": null,
   "metadata": {
    "colab": {
     "base_uri": "https://localhost:8080/"
    },
    "id": "Ra9k3AZozzPk",
    "outputId": "1e21787d-ed62-487b-a5e8-064442629095"
   },
   "outputs": [
    {
     "name": "stdout",
     "output_type": "stream",
     "text": [
      "Dataset contains 1646 Gray scale images\n"
     ]
    }
   ],
   "source": [
    "# Define a transform to convert images to tensors\n",
    "transform = T.ToTensor()\n",
    "\n",
    "# Function to check the size and number of channels of images in a dataset\n",
    "def check_image_sizes_and_channels(dataset):\n",
    "  counter_gray = 0\n",
    "  for idx in range(len(dataset)): #idx in [0 ----89999]\n",
    "        image = dataset[idx]['image']\n",
    "        image_tensor = transform(image)\n",
    "        channels, height, width = image_tensor.shape\n",
    "        if channels != 3:\n",
    "            counter_gray += 1\n",
    "            #print(channels)\n",
    "  print (f\"Dataset contains {counter_gray} Gray scale images\")\n",
    "\n",
    "# Check image sizes and number of channels in the training dataset\n",
    "check_image_sizes_and_channels(train_dataset)"
   ]
  },
  {
   "cell_type": "markdown",
   "metadata": {
    "id": "Amal4akg3awh"
   },
   "source": [
    "Filter the train,test, valid datasets from gray-scale images"
   ]
  },
  {
   "cell_type": "code",
   "execution_count": 3,
   "metadata": {
    "colab": {
     "base_uri": "https://localhost:8080/"
    },
    "id": "iUDmo5eW3neo",
    "outputId": "e4656031-e9ec-466a-8e07-45c8f6c3b8d4",
    "tags": []
   },
   "outputs": [
    {
     "name": "stdout",
     "output_type": "stream",
     "text": [
      "Number of images in the filtered training dataset: 88356\n",
      "Number of images in the filtered validation dataset: 9823\n",
      "Number of images in the filtered testing dataset: 9832\n"
     ]
    }
   ],
   "source": [
    "# Define a transform to convert images to tensors\n",
    "transform = T.ToTensor()\n",
    "\n",
    "# Function to filter out grayscale images\n",
    "def filter_rgb_images(dataset):\n",
    "    filtered_dataset = []\n",
    "    for idx in range(len(dataset)):\n",
    "        image = dataset[idx]['image']\n",
    "        image_tensor = transform(image)\n",
    "        channels, height, width = image_tensor.shape\n",
    "        if channels == 3:\n",
    "            filtered_dataset.append(dataset[idx])\n",
    "\n",
    "    return filtered_dataset\n",
    "\n",
    "# Filter the training, testing and validation datasets\n",
    "filtered_train_dataset = filter_rgb_images(train_dataset)\n",
    "filtered_valid_dataset = filter_rgb_images(valid_dataset)\n",
    "filtered_test_dataset = filter_rgb_images(test_dataset)\n",
    "\n",
    "# Display the number of images in the filtered datasets\n",
    "print(f\"Number of images in the filtered training dataset: {len(filtered_train_dataset)}\")\n",
    "print(f\"Number of images in the filtered validation dataset: {len(filtered_valid_dataset)}\")\n",
    "print(f\"Number of images in the filtered testing dataset: {len(filtered_test_dataset)}\")"
   ]
  },
  {
   "cell_type": "code",
   "execution_count": null,
   "metadata": {
    "colab": {
     "base_uri": "https://localhost:8080/"
    },
    "id": "foi83OG5atf2",
    "outputId": "8d624334-57a0-42f5-e203-effd16a4da3a"
   },
   "outputs": [
    {
     "data": {
      "text/plain": [
       "torch.Size([3, 64, 64])"
      ]
     },
     "execution_count": 6,
     "metadata": {},
     "output_type": "execute_result"
    }
   ],
   "source": [
    "transform(filtered_train_dataset[4]['image']).shape"
   ]
  },
  {
   "cell_type": "code",
   "execution_count": null,
   "metadata": {
    "colab": {
     "base_uri": "https://localhost:8080/"
    },
    "id": "0s9ZIXlQ5mcc",
    "outputId": "73098896-b21f-45b6-e807-09c9f099469f"
   },
   "outputs": [
    {
     "name": "stdout",
     "output_type": "stream",
     "text": [
      "torch.Size([3, 64, 64])\n"
     ]
    }
   ],
   "source": [
    "#Find shape of each image\n",
    "print(transform(filtered_train_dataset[0]['image']).shape)\n"
   ]
  },
  {
   "cell_type": "code",
   "execution_count": null,
   "metadata": {
    "colab": {
     "base_uri": "https://localhost:8080/"
    },
    "id": "gg58F0LGeOBc",
    "outputId": "a5f332b3-e870-43ed-e63a-407742a747ca"
   },
   "outputs": [
    {
     "name": "stdout",
     "output_type": "stream",
     "text": [
      "149\n"
     ]
    }
   ],
   "source": [
    "#Show some images and labels (200 classes For tiny ImageNet)\n",
    "#filtered_train_dataset[5]['image']\n",
    "print(filtered_train_dataset[5]['label'])"
   ]
  },
  {
   "cell_type": "markdown",
   "metadata": {
    "id": "alZ2EjOFB7sv"
   },
   "source": [
    "# Integrate the dataset with PyTorch for use in a neural network\n"
   ]
  },
  {
   "cell_type": "markdown",
   "metadata": {
    "id": "ETHrjD2DNDTX"
   },
   "source": [
    "\n",
    "1.   Create Custom DataClass For that dataset\n",
    "2.   Create DataLoaders using the DataClasses\n",
    "\n",
    "\n",
    "\n",
    "\n",
    "---\n",
    "\n",
    "\n",
    "\n",
    "\n"
   ]
  },
  {
   "cell_type": "code",
   "execution_count": 4,
   "metadata": {
    "id": "F7wVjhtENHgK",
    "tags": []
   },
   "outputs": [],
   "source": [
    "#Create Custom Dataset object Since Tiny Image net doesn't have a Pytorch Dataset Object already created\n",
    "#Unlike Fashion Mnist and Hand written Digits\n",
    "\n",
    "class TinyImageNetDataset(Dataset):\n",
    "    def __init__(self, dataset, transform=None):\n",
    "        self.dataset = dataset\n",
    "        self.transform = transform\n",
    "\n",
    "    def __len__(self):\n",
    "        return len(self.dataset)\n",
    "\n",
    "    def __getitem__(self, idx):\n",
    "        image = self.dataset[idx]['image']\n",
    "        label = self.dataset[idx]['label']\n",
    "\n",
    "        if self.transform:\n",
    "            image = self.transform(image)\n",
    "\n",
    "        return image, label"
   ]
  },
  {
   "cell_type": "markdown",
   "metadata": {
    "id": "7N1jFqKj0Uxv"
   },
   "source": [
    "Adding all together"
   ]
  },
  {
   "cell_type": "code",
   "execution_count": 5,
   "metadata": {
    "id": "fZT3SKMa0TWz",
    "tags": []
   },
   "outputs": [],
   "source": [
    "#Data Augmentation is done for the training datset and not for validation or testing, Correct?\n",
    "\n",
    "import torchvision.transforms as T\n",
    "train_transform = T.Compose([T.RandomAffine(translate =(0.1,0.1), degrees=0,  interpolation = T.InterpolationMode.BILINEAR ),\n",
    "                                T.ColorJitter(brightness=(0.5,1),contrast=(0.5,1)),\n",
    "                                T.RandomHorizontalFlip(p=0.2),\n",
    "                                T.Resize(68),\n",
    "                                T.CenterCrop(64),\n",
    "                                T.ToTensor(),\n",
    "                                T.Normalize((0.4914, 0.4822, 0.4465), (0.2470, 0.2435, 0.2616)),\n",
    "                               ])\n",
    "\n",
    "valid_transform = T.Compose ([T.Resize(68),\n",
    "    T.CenterCrop(64),\n",
    "    T.ToTensor(),\n",
    "    T.Normalize(mean=[0.485, 0.456, 0.406], std=[0.229, 0.224, 0.225]),\n",
    "])"
   ]
  },
  {
   "cell_type": "code",
   "execution_count": 6,
   "metadata": {
    "id": "xz3XW6F90FNs",
    "tags": []
   },
   "outputs": [],
   "source": [
    "#ToDo: Initialize the three data classes and Three dataloaders\n",
    "train_dataClass = TinyImageNetDataset(filtered_train_dataset, transform = train_transform)\n",
    "test_dataClass = TinyImageNetDataset(filtered_test_dataset, transform   = valid_transform)\n",
    "valid_dataClass = TinyImageNetDataset(filtered_valid_dataset, transform = valid_transform)\n",
    "\n",
    "#Create DataLoader For Each Dataset\n",
    "TrainLoader = DataLoader(train_dataClass, batch_size=32, shuffle=True)\n",
    "TestLoader  = DataLoader(test_dataClass, batch_size=32, shuffle=True)\n",
    "ValidLoader = DataLoader(valid_dataClass, batch_size=32, shuffle=True)\n",
    "\n"
   ]
  },
  {
   "cell_type": "markdown",
   "metadata": {
    "id": "a0JYkCfP2dRk"
   },
   "source": [
    "# Batch Normalization in CNN Architecture"
   ]
  },
  {
   "cell_type": "code",
   "execution_count": 7,
   "metadata": {
    "colab": {
     "base_uri": "https://localhost:8080/"
    },
    "id": "R-2IOF5b2cDl",
    "outputId": "cc258b88-ab68-433a-d4e6-d26de548ca20",
    "tags": []
   },
   "outputs": [
    {
     "data": {
      "text/plain": [
       "MyCNN(\n",
       "  (conv1): Conv2d(3, 16, kernel_size=(3, 3), stride=(1, 1), padding=(1, 1))\n",
       "  (bn1): BatchNorm2d(16, eps=1e-05, momentum=0.1, affine=True, track_running_stats=True)\n",
       "  (conv2): Conv2d(16, 32, kernel_size=(3, 3), stride=(1, 1), padding=(1, 1))\n",
       "  (bn2): BatchNorm2d(32, eps=1e-05, momentum=0.1, affine=True, track_running_stats=True)\n",
       "  (drop): Dropout2d(p=0.2, inplace=False)\n",
       "  (pool): MaxPool2d(kernel_size=2, stride=2, padding=0, dilation=1, ceil_mode=False)\n",
       "  (fc1): Linear(in_features=8192, out_features=4096, bias=True)\n",
       "  (bn3): BatchNorm1d(4096, eps=1e-05, momentum=0.1, affine=True, track_running_stats=True)\n",
       "  (fc2): Linear(in_features=4096, out_features=1024, bias=True)\n",
       "  (bn4): BatchNorm1d(1024, eps=1e-05, momentum=0.1, affine=True, track_running_stats=True)\n",
       "  (fc3): Linear(in_features=1024, out_features=200, bias=True)\n",
       ")"
      ]
     },
     "execution_count": 7,
     "metadata": {},
     "output_type": "execute_result"
    }
   ],
   "source": [
    "device = torch.device('cuda' if torch.cuda.is_available() else 'cpu')\n",
    "\n",
    "class MyCNN(nn.Module):\n",
    "    def __init__(self):\n",
    "        # We optimize dropout rate in a convolutional neural network.\n",
    "        super(MyCNN, self).__init__()\n",
    "\n",
    "        self.conv1 = nn.Conv2d(in_channels = 3, out_channels=16, kernel_size=3, stride=1, padding= 1)\n",
    "        self.bn1 = nn.BatchNorm2d(16)\n",
    "\n",
    "        self.conv2 = nn.Conv2d(in_channels=16,out_channels=32,kernel_size=3,stride=1,padding=1)\n",
    "        #ToDo: Create a seconed Batch normalization layer called self.bn2\n",
    "        self.bn2 = nn.BatchNorm2d(32)\n",
    "\n",
    "        self.drop=nn.Dropout2d(p=0.2)\n",
    "\n",
    "        ## ToDo: Create a MaxPool Layer of size (2,2) name it self.pool\n",
    "        self.pool = nn.MaxPool2d(kernel_size = 2)\n",
    "\n",
    "        self.fc1 = nn.Linear(8192, 4096)  #2^12 = 4096\n",
    "        self.bn3 = nn.BatchNorm1d(4096)   ###### Notice BatchNorm1d\n",
    "        self.fc2 = nn.Linear(4096, 1024)  #1024 = 2^10\n",
    "        self.bn4 = nn.BatchNorm1d(1024)   ###### Notice BatchNorm1d\n",
    "        self.fc3 = nn.Linear(1024, 200)   # 200 classes\n",
    "\n",
    "\n",
    "    def forward(self, x):\n",
    "\n",
    "        x = self.pool(self.bn1(F.relu(self.conv1(x))))  #  3 x 64 x 64 ->  16 x 64 x 64 ->  16 x 32 x 32\n",
    "        x = self.pool(self.bn2(F.relu(self.conv2(x))))  # 16 x 32 x 32   -->  32 x 32 x 32 ->  32 x 16 x 16\n",
    "        x = self.drop(x)\n",
    "\n",
    "        x = x.view(x.size(0),-1)             #32 x 16 x 16 -->8192\n",
    "\n",
    "        x = self.bn3(F.relu(self.fc1(x)))    #8192 ->4096\n",
    "        x = self.bn4(F.relu(self.fc2(x)))    #4096 ->1024\n",
    "        x = self.fc3(x)                      #1024--> 200 #No Softmax or Logsoftmax activation layer added\n",
    "\n",
    "        return x\n",
    "\n",
    "# Do not change the name of yo'ur model or later cells may fail!\n",
    "model = MyCNN()\n",
    "model.to(device)"
   ]
  },
  {
   "cell_type": "markdown",
   "metadata": {
    "id": "cb39f18e"
   },
   "source": [
    "### Specify Optimizer and Losse"
   ]
  },
  {
   "cell_type": "code",
   "execution_count": 8,
   "metadata": {
    "id": "8eb26e6d",
    "tags": []
   },
   "outputs": [],
   "source": [
    "#Use adam Optimizer (LR=0.002) and Cross Entropy as a loss function\n",
    "optimizer = optim.Adam(model.parameters(), lr=0.002)\n",
    "criterion =  nn.CrossEntropyLoss()"
   ]
  },
  {
   "cell_type": "code",
   "execution_count": 9,
   "metadata": {
    "colab": {
     "base_uri": "https://localhost:8080/"
    },
    "id": "2e2999f4",
    "outputId": "66a70a5a-d0e6-4d9e-dbae-9b5c0ce024a1",
    "tags": []
   },
   "outputs": [
    {
     "name": "stdout",
     "output_type": "stream",
     "text": [
      "Epoch:1/10 \t AVERAGE TL:4.7273 AVERAGE VL:4.1668 \t AVERAGE TA:6.95 %  AVERAGE VA:12.00 %\n",
      "Epoch:2/10 \t AVERAGE TL:4.0885 AVERAGE VL:3.8219 \t AVERAGE TA:12.79 %  AVERAGE VA:16.97 %\n",
      "Epoch:3/10 \t AVERAGE TL:3.8965 AVERAGE VL:4.3139 \t AVERAGE TA:15.59 %  AVERAGE VA:13.48 %\n",
      "Epoch:4/10 \t AVERAGE TL:3.7769 AVERAGE VL:3.6776 \t AVERAGE TA:17.45 %  AVERAGE VA:20.20 %\n",
      "Epoch:5/10 \t AVERAGE TL:3.6415 AVERAGE VL:3.5132 \t AVERAGE TA:19.62 %  AVERAGE VA:22.29 %\n",
      "Epoch:6/10 \t AVERAGE TL:3.6561 AVERAGE VL:3.7063 \t AVERAGE TA:19.58 %  AVERAGE VA:22.41 %\n",
      "Epoch:7/10 \t AVERAGE TL:3.5916 AVERAGE VL:3.5746 \t AVERAGE TA:20.52 %  AVERAGE VA:22.73 %\n",
      "Epoch:8/10 \t AVERAGE TL:3.5117 AVERAGE VL:3.8832 \t AVERAGE TA:21.71 %  AVERAGE VA:19.19 %\n",
      "Epoch:9/10 \t AVERAGE TL:3.5279 AVERAGE VL:4.7527 \t AVERAGE TA:21.66 %  AVERAGE VA:21.40 %\n",
      "Epoch:10/10 \t AVERAGE TL:3.4569 AVERAGE VL:9.4826 \t AVERAGE TA:22.72 %  AVERAGE VA:24.15 %\n"
     ]
    }
   ],
   "source": [
    "# Saving the model with the highest Validation accuracy\n",
    "# Tracing Losses and accuracies and saving them in a dictionary called \"history\"\n",
    "\n",
    "history={'train_loss':[],'valid_loss':[],'train_acc':[],'valid_acc':[]}\n",
    "num_epochs=10\n",
    "Validation_loss=float(\"inf\")\n",
    "\n",
    "for epoch in range(num_epochs):\n",
    "    train_loss,train_correct=0.0,0\n",
    "\n",
    "    model.train()\n",
    "    for images, labels in TrainLoader:\n",
    "\n",
    "        images,labels = images.to(device),labels.to(device)\n",
    "        optimizer.zero_grad()\n",
    "        output = model(images)\n",
    "        loss = criterion(output,labels)\n",
    "        loss.backward()\n",
    "        optimizer.step()\n",
    "        train_loss += loss.item() * images.size(0)\n",
    "        scores, predictions = torch.max(output.data, 1)\n",
    "        train_correct += (predictions == labels).sum().item()     #Correctly classified Images\n",
    "\n",
    "    valid_loss, val_correct = 0.0, 0\n",
    "\n",
    "    model.eval()\n",
    "    for images, labels in ValidLoader:\n",
    "\n",
    "        images,labels = images.to(device),labels.to(device)\n",
    "        output = model(images)\n",
    "        loss=criterion(output,labels)\n",
    "        valid_loss+=loss.item()*images.size(0)\n",
    "        scores, predictions = torch.max(output.data,1)\n",
    "        val_correct += (predictions == labels).sum().item()\n",
    "\n",
    "    train_loss = train_loss / len(TrainLoader.sampler)\n",
    "    train_acc = train_correct / len(TrainLoader.sampler)*100\n",
    "    valid_loss = valid_loss / len(ValidLoader.sampler)\n",
    "    valid_acc = val_correct / len(ValidLoader.sampler) * 100\n",
    "\n",
    "    print(\"Epoch:{}/{} \\t AVERAGE TL:{:.4f} AVERAGE VL:{:.4f} \\t AVERAGE TA:{:.2f} %  AVERAGE VA:{:.2f} %\".format(epoch + 1, num_epochs,\n",
    "                                                                                         train_loss,\n",
    "                                                                                         valid_loss,\n",
    "                                                                                         train_acc,\n",
    "                                                                                        valid_acc))\n",
    "    #Check for best validation loss and use corresponding model\n",
    "    if valid_loss< Validation_loss:\n",
    "        Validation_loss=valid_loss\n",
    "        best_model_state = model.state_dict()\n",
    "\n",
    "    history['train_loss'].append(train_loss)\n",
    "    history['valid_loss'].append(valid_loss)\n",
    "    history['train_acc'].append(train_acc)\n",
    "    history['valid_acc'].append(valid_acc)\n",
    "\n",
    "torch.save(best_model_state, 'Best_model.pth')"
   ]
  },
  {
   "cell_type": "markdown",
   "metadata": {
    "id": "575c09d6"
   },
   "source": [
    "### Complexity Graph"
   ]
  },
  {
   "cell_type": "code",
   "execution_count": 10,
   "metadata": {
    "colab": {
     "base_uri": "https://localhost:8080/",
     "height": 1000
    },
    "id": "7d527711",
    "outputId": "4d5c92a2-ea8d-4ffd-dd5f-cc6233833c36",
    "tags": []
   },
   "outputs": [
    {
     "data": {
      "image/png": "[encoded data removed]",
      "text/plain": [
       "<Figure size 1800x1200 with 1 Axes>"
      ]
     },
     "metadata": {},
     "output_type": "display_data"
    }
   ],
   "source": [
    "\n",
    "epochs=10\n",
    "fig=plt.figure(figsize=(9,6),dpi=200)\n",
    "x=[epoch for epoch in range(epochs)]\n",
    "plt.plot(x,history['train_loss'],'b',label='Training Loss')\n",
    "plt.plot(x,history['valid_loss'],'b',linestyle='dashed',label='Validation Loss')\n",
    "\n",
    "plt.xlabel(\"Epochs\",fontweight='bold',labelpad=10)\n",
    "plt.ylabel(\"Loss\",fontweight='bold',labelpad=10)\n",
    "plt.xlim(xmin = 0)\n",
    "\n",
    "plt.legend(prop={'size': 8,'weight':'bold'},loc=\"best\")\n",
    "\n",
    "plt.savefig(r'Losses.png',bbox_inches=\"tight\")\n",
    "plt.show()"
   ]
  },
  {
   "cell_type": "markdown",
   "metadata": {
    "id": "d4b32c0a"
   },
   "source": [
    "### Testing your model"
   ]
  },
  {
   "cell_type": "code",
   "execution_count": 11,
   "metadata": {
    "colab": {
     "base_uri": "https://localhost:8080/"
    },
    "id": "5187d2a3",
    "outputId": "17f6d399-dab2-4ea4-9d84-38c97a95efd2",
    "tags": []
   },
   "outputs": [
    {
     "name": "stdout",
     "output_type": "stream",
     "text": [
      "Accuracy of the network on the test images: 23.58 %%\n",
      "Loss of the network on the test images: 9.9127\n"
     ]
    }
   ],
   "source": [
    "model.load_state_dict(torch.load('Best_model.pth', map_location=device))\n",
    "\n",
    "correct = 0\n",
    "total = 0\n",
    "test_loss = 0\n",
    "with torch.no_grad():\n",
    "\n",
    "    for images, labels in TestLoader:\n",
    "        images, labels = images.to(device), labels.to(device)\n",
    "        outputs = model(images)\n",
    "        loss = criterion(outputs,labels)\n",
    "        test_loss += loss.item() * images.size(0)\n",
    "        _, predicted = torch.max(outputs.data, 1)\n",
    "\n",
    "        total += labels.size(0)\n",
    "        correct += (predicted == labels).sum().item()\n",
    "\n",
    "test_loss = test_loss / len(TestLoader.sampler)\n",
    "\n",
    "print('Accuracy of the network on the test images: {:.2f} %%'.format(100 * correct / total))\n",
    "print('Loss of the network on the test images: {:.4f}'.format(test_loss))"
   ]
  },
  {
   "cell_type": "markdown",
   "metadata": {
    "id": "edb256a7"
   },
   "source": [
    "### Add SE Block"
   ]
  },
  {
   "cell_type": "code",
   "execution_count": 27,
   "metadata": {
    "id": "9027e8fe",
    "tags": []
   },
   "outputs": [],
   "source": [
    "class SEBlock(nn.Module):\n",
    "    def __init__(self,in_channels):\n",
    "        super(SEBlock, self).__init__()\n",
    "        self.in_channels = in_channels\n",
    "        self.global_avg_pool = nn.AdaptiveAvgPool2d(1) #Averaging the pixels in one channel to give one final output\n",
    "        self.fc1 = nn.Linear(self.in_channels , 8)  #n.channels\n",
    "        self.fc2 = nn.Linear(8 , self.in_channels)  #n.channels\n",
    "\n",
    "    def forward(self,x):\n",
    "        se_tensor = self.global_avg_pool(x)                              # (Batches, Channels)\n",
    "        se_tensor = se_tensor.view(se_tensor.size(0), -1)                #Put in 1D array\n",
    "        se_tensor = F.relu(self.fc1(se_tensor))                          #(Batches, Channels)\n",
    "        se_tensor = torch.sigmoid(self.fc2(se_tensor))\n",
    "        # Reshape to (batch_size, channels, 1, 1) to multiply by input\n",
    "        se_tensor = se_tensor.view(se_tensor.size(0), se_tensor.size(1), 1, 1)\n",
    "        # Multiply the original feature maps by the SE tensor\n",
    "        x = x * se_tensor\n",
    "        return x"
   ]
  },
  {
   "cell_type": "markdown",
   "metadata": {
    "id": "59ab353c"
   },
   "source": [
    "### Create CNN Model architecture"
   ]
  },
  {
   "cell_type": "code",
   "execution_count": 28,
   "metadata": {
    "colab": {
     "base_uri": "https://localhost:8080/"
    },
    "id": "664bf230",
    "outputId": "c6620985-7916-412c-e19b-2d8871170898",
    "tags": []
   },
   "outputs": [
    {
     "data": {
      "text/plain": [
       "MyCNN(\n",
       "  (conv1): Conv2d(3, 16, kernel_size=(3, 3), stride=(1, 1), padding=(1, 1))\n",
       "  (bn1): BatchNorm2d(16, eps=1e-05, momentum=0.1, affine=True, track_running_stats=True)\n",
       "  (se_block1): SEBlock(\n",
       "    (global_avg_pool): AdaptiveAvgPool2d(output_size=1)\n",
       "    (fc1): Linear(in_features=16, out_features=8, bias=True)\n",
       "    (fc2): Linear(in_features=8, out_features=16, bias=True)\n",
       "  )\n",
       "  (conv2): Conv2d(16, 32, kernel_size=(3, 3), stride=(1, 1), padding=(1, 1))\n",
       "  (bn2): BatchNorm2d(32, eps=1e-05, momentum=0.1, affine=True, track_running_stats=True)\n",
       "  (se_block2): SEBlock(\n",
       "    (global_avg_pool): AdaptiveAvgPool2d(output_size=1)\n",
       "    (fc1): Linear(in_features=32, out_features=8, bias=True)\n",
       "    (fc2): Linear(in_features=8, out_features=32, bias=True)\n",
       "  )\n",
       "  (drop): Dropout2d(p=0.2, inplace=False)\n",
       "  (pool): MaxPool2d(kernel_size=2, stride=2, padding=0, dilation=1, ceil_mode=False)\n",
       "  (fc1): Linear(in_features=8192, out_features=4096, bias=True)\n",
       "  (bn3): BatchNorm1d(4096, eps=1e-05, momentum=0.1, affine=True, track_running_stats=True)\n",
       "  (fc2): Linear(in_features=4096, out_features=1024, bias=True)\n",
       "  (bn4): BatchNorm1d(1024, eps=1e-05, momentum=0.1, affine=True, track_running_stats=True)\n",
       "  (fc3): Linear(in_features=1024, out_features=200, bias=True)\n",
       ")"
      ]
     },
     "execution_count": 28,
     "metadata": {},
     "output_type": "execute_result"
    }
   ],
   "source": [
    "class MyCNN(nn.Module):\n",
    "    def __init__(self):\n",
    "        # We optimize dropout rate in a convolutional neural network.\n",
    "        super(MyCNN, self).__init__()\n",
    "\n",
    "        self.conv1 = nn.Conv2d(in_channels = 3, out_channels=16, kernel_size=3, stride=1, padding= 1)\n",
    "        self.bn1 = nn.BatchNorm2d(16)\n",
    "        self.se_block1 = SEBlock(in_channels=16)\n",
    "\n",
    "\n",
    "        self.conv2 = nn.Conv2d(in_channels=16,out_channels=32,kernel_size=3,stride=1,padding=1)\n",
    "        self.bn2 = nn.BatchNorm2d(32)\n",
    "        self.se_block2 = SEBlock(in_channels=32)\n",
    "\n",
    "        self.drop=nn.Dropout2d(p=0.2)\n",
    "\n",
    "        self.pool = nn.MaxPool2d(kernel_size = 2)\n",
    "\n",
    "        self.fc1 = nn.Linear(8192, 4096) #2^12 = 4096\n",
    "        self.bn3 = nn.BatchNorm1d(4096)   ###### Notice BatchNorm1d\n",
    "        self.fc2 = nn.Linear(4096, 1024) #1024 = 2^10\n",
    "        self.bn4 = nn.BatchNorm1d(1024)   ###### Notice BatchNorm1d\n",
    "        self.fc3 = nn.Linear(1024, 200)   # 200 classes\n",
    "\n",
    "    def forward(self, x):\n",
    "\n",
    "        x = self.bn1(F.relu(self.conv1(x)))\n",
    "        x = self.se_block1(x)\n",
    "        x = self.pool(x)\n",
    "\n",
    "        x = self.bn2(F.relu(self.conv2(x)))\n",
    "        x = self.se_block2(x)\n",
    "        x = self.pool(x)\n",
    "        \n",
    "        x = self.drop(x)\n",
    "\n",
    "        x = x.view(x.size(0),-1)                    #32 x 16 x 16 -->8192\n",
    "\n",
    "        x = self.bn3(F.relu(self.fc1(x)))           #8192 ->4096\n",
    "        x = self.bn4(F.relu(self.fc2(x)))           #4096 ->1024\n",
    "        x = self.fc3(x)                             #1024--> 200 #No Softmax or Logsoftmax activation layer added\n",
    "\n",
    "        return x\n",
    "\n",
    "# Do not change the name of your model or later cells may fail!\n",
    "model = MyCNN()\n",
    "model.to(device)"
   ]
  },
  {
   "cell_type": "markdown",
   "metadata": {
    "id": "sNTWOf0jQLUo"
   },
   "source": [
    "### Specify Optimizer and Losse"
   ]
  },
  {
   "cell_type": "code",
   "execution_count": 30,
   "metadata": {
    "id": "2kvM42qRQLUo",
    "tags": []
   },
   "outputs": [],
   "source": [
    "#Use adam Optimizer (LR=0.002) and Cross Entropy as a loss function\n",
    "optimizer = optim.Adam(model.parameters(), lr=0.002)\n",
    "criterion =  nn.CrossEntropyLoss()"
   ]
  },
  {
   "cell_type": "code",
   "execution_count": 31,
   "metadata": {
    "colab": {
     "base_uri": "https://localhost:8080/"
    },
    "id": "unkSvw4_QLUp",
    "outputId": "373908ff-8c30-4e35-eaf8-79f78526d910",
    "tags": []
   },
   "outputs": [
    {
     "name": "stdout",
     "output_type": "stream",
     "text": [
      "Epoch:1/10 \t AVERAGE TL:4.7553 AVERAGE VL:4.2411 \t AVERAGE TA:6.91 %  AVERAGE VA:11.79 %\n",
      "Epoch:2/10 \t AVERAGE TL:4.0029 AVERAGE VL:3.8547 \t AVERAGE TA:13.87 %  AVERAGE VA:16.25 %\n",
      "Epoch:3/10 \t AVERAGE TL:3.8107 AVERAGE VL:3.6071 \t AVERAGE TA:16.98 %  AVERAGE VA:20.34 %\n",
      "Epoch:4/10 \t AVERAGE TL:3.6642 AVERAGE VL:3.6663 \t AVERAGE TA:19.27 %  AVERAGE VA:20.63 %\n",
      "Epoch:5/10 \t AVERAGE TL:3.5410 AVERAGE VL:3.4505 \t AVERAGE TA:21.08 %  AVERAGE VA:23.83 %\n",
      "Epoch:6/10 \t AVERAGE TL:3.4846 AVERAGE VL:3.4306 \t AVERAGE TA:22.31 %  AVERAGE VA:24.49 %\n",
      "Epoch:7/10 \t AVERAGE TL:3.3679 AVERAGE VL:3.4926 \t AVERAGE TA:24.17 %  AVERAGE VA:23.63 %\n",
      "Epoch:8/10 \t AVERAGE TL:3.3596 AVERAGE VL:3.3704 \t AVERAGE TA:24.27 %  AVERAGE VA:25.72 %\n",
      "Epoch:9/10 \t AVERAGE TL:3.2714 AVERAGE VL:3.4589 \t AVERAGE TA:25.80 %  AVERAGE VA:24.91 %\n",
      "Epoch:10/10 \t AVERAGE TL:3.3011 AVERAGE VL:3.3114 \t AVERAGE TA:25.50 %  AVERAGE VA:27.25 %\n"
     ]
    }
   ],
   "source": [
    "# Saving the model with the highest Validation accuracy\n",
    "# Tracing Losses and accuracies and saving them in a dictionary called \"history\"\n",
    "\n",
    "history={'train_loss':[],'valid_loss':[],'train_acc':[],'valid_acc':[]}\n",
    "num_epochs=10\n",
    "Validation_loss=float(\"inf\")\n",
    "\n",
    "for epoch in range(num_epochs):\n",
    "    train_loss,train_correct=0.0,0\n",
    "\n",
    "    model.train()\n",
    "    for images, labels in TrainLoader:\n",
    "\n",
    "        images,labels = images.to(device),labels.to(device)\n",
    "        optimizer.zero_grad()\n",
    "        output = model(images)\n",
    "        loss = criterion(output,labels)\n",
    "        loss.backward()\n",
    "        optimizer.step()\n",
    "        train_loss += loss.item() * images.size(0)\n",
    "        scores, predictions = torch.max(output.data, 1)\n",
    "        train_correct += (predictions == labels).sum().item()     #Correctly classified Images\n",
    "\n",
    "    valid_loss, val_correct = 0.0, 0\n",
    "\n",
    "    model.eval()\n",
    "    for images, labels in ValidLoader:\n",
    "\n",
    "        images,labels = images.to(device),labels.to(device)\n",
    "        output = model(images)\n",
    "        loss=criterion(output,labels)\n",
    "        valid_loss+=loss.item()*images.size(0)\n",
    "        scores, predictions = torch.max(output.data,1)\n",
    "        val_correct += (predictions == labels).sum().item()\n",
    "\n",
    "    train_loss = train_loss / len(TrainLoader.sampler)\n",
    "    train_acc = train_correct / len(TrainLoader.sampler)*100\n",
    "    valid_loss = valid_loss / len(ValidLoader.sampler)\n",
    "    valid_acc = val_correct / len(ValidLoader.sampler) * 100\n",
    "\n",
    "    print(\"Epoch:{}/{} \\t AVERAGE TL:{:.4f} AVERAGE VL:{:.4f} \\t AVERAGE TA:{:.2f} %  AVERAGE VA:{:.2f} %\".format(epoch + 1, num_epochs,\n",
    "                                                                                         train_loss,\n",
    "                                                                                         valid_loss,\n",
    "                                                                                         train_acc,\n",
    "                                                                                        valid_acc))\n",
    "    #Check for best validation loss and use corresponding model\n",
    "    if valid_loss< Validation_loss:\n",
    "        Validation_loss=valid_loss\n",
    "        best_model_state = model.state_dict()\n",
    "\n",
    "    history['train_loss'].append(train_loss)\n",
    "    history['valid_loss'].append(valid_loss)\n",
    "    history['train_acc'].append(train_acc)\n",
    "    history['valid_acc'].append(valid_acc)\n",
    "\n",
    "torch.save(best_model_state, 'Best_model.pth')"
   ]
  },
  {
   "cell_type": "markdown",
   "metadata": {},
   "source": [
    "## Transfer Learning "
   ]
  },
  {
   "cell_type": "markdown",
   "metadata": {
    "id": "K2qbtOPRQR30"
   },
   "source": [
    "We will use ResNet 18 that was trained previously. We can see the model architecture on [ Netron](https://netron.app/). The dataset it was trained on was of size 224 x 224\n"
   ]
  },
  {
   "cell_type": "code",
   "execution_count": 34,
   "metadata": {
    "tags": []
   },
   "outputs": [],
   "source": [
    "import torchvision.models\n",
    "model = torchvision.models.resnet18()"
   ]
  },
  {
   "cell_type": "code",
   "execution_count": 50,
   "metadata": {
    "tags": []
   },
   "outputs": [
    {
     "name": "stdout",
     "output_type": "stream",
     "text": [
      "1000\n",
      "512\n"
     ]
    }
   ],
   "source": [
    "print(model.fc.out_features)\n",
    "print(model.fc.in_features)"
   ]
  },
  {
   "cell_type": "code",
   "execution_count": 51,
   "metadata": {
    "tags": []
   },
   "outputs": [],
   "source": [
    "# Fake image needed for torch.jit.trace\n",
    "# (adjust the size of the image from 224x224 to what the\n",
    "# network expects if needed)\n",
    "random_image = torch.rand((1, 3, 224, 224))\n",
    "\n",
    "scripted = torch.jit.trace(model, random_image)\n",
    "torch.jit.save(scripted, \"my_network.pt\")"
   ]
  },
  {
   "cell_type": "code",
   "execution_count": 35,
   "metadata": {
    "tags": []
   },
   "outputs": [],
   "source": [
    "#ToDo: Change the number of classes to be identical to the ones you have in your dataset\n",
    "num_classes= 200\n",
    "model.fc = nn.Linear(model.fc.in_features, num_classes) "
   ]
  },
  {
   "cell_type": "markdown",
   "metadata": {},
   "source": [
    "Freezing the model parameters but not the final layer. "
   ]
  },
  {
   "cell_type": "code",
   "execution_count": 53,
   "metadata": {
    "tags": []
   },
   "outputs": [],
   "source": [
    "#Parameter freezing\n",
    "for param in model.parameters():\n",
    "    param.requires_grad = False\n",
    "#Don't freeze FC layer parameters:\n",
    "for param in model.fc.parameters():\n",
    "    param.requires_grad = True"
   ]
  },
  {
   "cell_type": "markdown",
   "metadata": {},
   "source": [
    "Resnet 18 was trained on 224 x 224 images"
   ]
  },
  {
   "cell_type": "code",
   "execution_count": 36,
   "metadata": {
    "tags": []
   },
   "outputs": [],
   "source": [
    "#Data Augmentation is done for the training datset and not for validation or testing, Correct?\n",
    "#ToDo: Resize the images to be of size 24 x 24\n",
    "import torchvision.transforms as T\n",
    "train_transform = T.Compose([T.Resize((224,224)),\n",
    "                             T.RandomAffine(translate =(0.1,0.1), degrees=0,  interpolation = T.InterpolationMode.BILINEAR ),\n",
    "                             T.ColorJitter(brightness=(0.5,1),contrast=(0.5,1)),\n",
    "                             T.RandomHorizontalFlip(p=0.2),\n",
    "                             T.ToTensor(),\n",
    "                             T.Normalize((0.4914, 0.4822, 0.4465), (0.2470, 0.2435, 0.2616)),\n",
    "                               ])\n",
    "\n",
    "valid_transform = T.Compose ([T.Resize((224,224)),\n",
    "    T.ToTensor(),\n",
    "    T.Normalize(mean=[0.485, 0.456, 0.406], std=[0.229, 0.224, 0.225]),\n",
    "])"
   ]
  },
  {
   "cell_type": "code",
   "execution_count": 55,
   "metadata": {
    "tags": []
   },
   "outputs": [],
   "source": [
    "#Initialize the three data classes and Three dataloaders\n",
    "train_dataClass = TinyImageNetDataset(filtered_train_dataset, transform = train_transform)\n",
    "test_dataClass = TinyImageNetDataset(filtered_test_dataset, transform   = valid_transform)\n",
    "valid_dataClass = TinyImageNetDataset(filtered_valid_dataset, transform = valid_transform)\n",
    "\n",
    "#Create DataLoader For Each Dataset\n",
    "TrainLoader = DataLoader(train_dataClass, batch_size=32, shuffle=True)\n",
    "TestLoader  = DataLoader(test_dataClass, batch_size=32, shuffle=True)\n",
    "ValidLoader = DataLoader(valid_dataClass, batch_size=32, shuffle=True)\n"
   ]
  },
  {
   "cell_type": "code",
   "execution_count": 44,
   "metadata": {
    "tags": []
   },
   "outputs": [],
   "source": []
  },
  {
   "cell_type": "code",
   "execution_count": 56,
   "metadata": {
    "tags": []
   },
   "outputs": [],
   "source": [
    "#Use adam Optimizer (LR=0.002) and Cross Entropy as a loss function\n",
    "optimizer = optim.Adam(model.parameters(), lr=0.002)\n",
    "criterion =  nn.CrossEntropyLoss()"
   ]
  },
  {
   "cell_type": "code",
   "execution_count": 11,
   "metadata": {
    "tags": []
   },
   "outputs": [
    {
     "ename": "NameError",
     "evalue": "name 'model' is not defined",
     "output_type": "error",
     "traceback": [
      "\u001b[0;31m---------------------------------------------------------------------------\u001b[0m",
      "\u001b[0;31mNameError\u001b[0m                                 Traceback (most recent call last)",
      "Cell \u001b[0;32mIn[11], line 3\u001b[0m\n\u001b[1;32m      1\u001b[0m \u001b[38;5;66;03m# Move the model to GPU if available\u001b[39;00m\n\u001b[1;32m      2\u001b[0m device \u001b[38;5;241m=\u001b[39m torch\u001b[38;5;241m.\u001b[39mdevice(\u001b[38;5;124m\"\u001b[39m\u001b[38;5;124mcuda\u001b[39m\u001b[38;5;124m\"\u001b[39m \u001b[38;5;28;01mif\u001b[39;00m torch\u001b[38;5;241m.\u001b[39mcuda\u001b[38;5;241m.\u001b[39mis_available() \u001b[38;5;28;01melse\u001b[39;00m \u001b[38;5;124m\"\u001b[39m\u001b[38;5;124mcpu\u001b[39m\u001b[38;5;124m\"\u001b[39m)\n\u001b[0;32m----> 3\u001b[0m \u001b[43mmodel\u001b[49m\u001b[38;5;241m.\u001b[39mto(device)\n\u001b[1;32m      4\u001b[0m \u001b[38;5;28mprint\u001b[39m(device)\n",
      "\u001b[0;31mNameError\u001b[0m: name 'model' is not defined"
     ]
    }
   ],
   "source": [
    "# Move the model to GPU if available\n",
    "device = torch.device(\"cuda\" if torch.cuda.is_available() else \"cpu\")\n",
    "model.to(device)\n",
    "print(device)"
   ]
  },
  {
   "cell_type": "code",
   "execution_count": 47,
   "metadata": {
    "tags": []
   },
   "outputs": [
    {
     "name": "stdout",
     "output_type": "stream",
     "text": [
      "Epoch:1/10 \t AVERAGE TL:5.5667 AVERAGE VL:7.8806 \t AVERAGE TA:1.81 %  AVERAGE VA:2.05 %\n",
      "Epoch:2/10 \t AVERAGE TL:5.3872 AVERAGE VL:7.8113 \t AVERAGE TA:2.72 %  AVERAGE VA:1.96 %\n",
      "Epoch:3/10 \t AVERAGE TL:5.3264 AVERAGE VL:7.8667 \t AVERAGE TA:3.08 %  AVERAGE VA:2.83 %\n",
      "Epoch:4/10 \t AVERAGE TL:5.2886 AVERAGE VL:8.3007 \t AVERAGE TA:3.50 %  AVERAGE VA:2.57 %\n",
      "Epoch:5/10 \t AVERAGE TL:5.2621 AVERAGE VL:7.9920 \t AVERAGE TA:3.67 %  AVERAGE VA:2.57 %\n",
      "Epoch:6/10 \t AVERAGE TL:5.2455 AVERAGE VL:7.9034 \t AVERAGE TA:3.65 %  AVERAGE VA:2.84 %\n",
      "Epoch:7/10 \t AVERAGE TL:5.2291 AVERAGE VL:7.6587 \t AVERAGE TA:4.01 %  AVERAGE VA:3.03 %\n",
      "Epoch:8/10 \t AVERAGE TL:5.2209 AVERAGE VL:8.2873 \t AVERAGE TA:4.01 %  AVERAGE VA:3.20 %\n",
      "Epoch:9/10 \t AVERAGE TL:5.2094 AVERAGE VL:8.1248 \t AVERAGE TA:4.05 %  AVERAGE VA:2.95 %\n",
      "Epoch:10/10 \t AVERAGE TL:5.1938 AVERAGE VL:7.9964 \t AVERAGE TA:4.26 %  AVERAGE VA:2.80 %\n"
     ]
    }
   ],
   "source": [
    "# Saving the model with the highest Validation accuracy\n",
    "# Tracing Losses and accuracies and saving them in a dictionary called \"history\"\n",
    "\n",
    "history={'train_loss':[],'valid_loss':[],'train_acc':[],'valid_acc':[]}\n",
    "num_epochs=10\n",
    "Validation_loss=float(\"inf\")\n",
    "\n",
    "for epoch in range(num_epochs):\n",
    "    train_loss,train_correct=0.0,0\n",
    "\n",
    "    model.train()\n",
    "    for images, labels in TrainLoader:\n",
    "\n",
    "        images,labels = images.to(device),labels.to(device)\n",
    "        optimizer.zero_grad()\n",
    "        output = model(images)\n",
    "        loss = criterion(output,labels)\n",
    "        loss.backward()\n",
    "        optimizer.step()\n",
    "        train_loss += loss.item() * images.size(0)\n",
    "        scores, predictions = torch.max(output.data, 1)\n",
    "        train_correct += (predictions == labels).sum().item()     #Correctly classified Images\n",
    "\n",
    "    valid_loss, val_correct = 0.0, 0\n",
    "\n",
    "    model.eval()\n",
    "    for images, labels in ValidLoader:\n",
    "\n",
    "        images,labels = images.to(device),labels.to(device)\n",
    "        output = model(images)\n",
    "        loss=criterion(output,labels)\n",
    "        valid_loss+=loss.item()*images.size(0)\n",
    "        scores, predictions = torch.max(output.data,1)\n",
    "        val_correct += (predictions == labels).sum().item()\n",
    "\n",
    "    train_loss = train_loss / len(TrainLoader.sampler)\n",
    "    train_acc = train_correct / len(TrainLoader.sampler)*100\n",
    "    valid_loss = valid_loss / len(ValidLoader.sampler)\n",
    "    valid_acc = val_correct / len(ValidLoader.sampler) * 100\n",
    "\n",
    "    print(\"Epoch:{}/{} \\t AVERAGE TL:{:.4f} AVERAGE VL:{:.4f} \\t AVERAGE TA:{:.2f} %  AVERAGE VA:{:.2f} %\".format(epoch + 1, num_epochs,\n",
    "                                                                                         train_loss,\n",
    "                                                                                         valid_loss,\n",
    "                                                                                         train_acc,\n",
    "                                                                                        valid_acc))\n",
    "    #Check for best validation loss and use corresponding model\n",
    "    if valid_loss< Validation_loss:\n",
    "        Validation_loss=valid_loss\n",
    "        best_model_state = model.state_dict()\n",
    "\n",
    "    history['train_loss'].append(train_loss)\n",
    "    history['valid_loss'].append(valid_loss)\n",
    "    history['train_acc'].append(train_acc)\n",
    "    history['valid_acc'].append(valid_acc)\n",
    "\n",
    "torch.save(best_model_state, 'Best_model.pth')"
   ]
  },
  {
   "cell_type": "code",
   "execution_count": null,
   "metadata": {},
   "outputs": [],
   "source": []
  }
 ],
 "metadata": {
  "accelerator": "GPU",
  "colab": {
   "gpuType": "T4",
   "provenance": []
  },
  "kernelspec": {
   "display_name": "sagemaker-distribution:Python",
   "language": "python",
   "name": "conda-env-sagemaker-distribution-py"
  },
  "language_info": {
   "codemirror_mode": {
    "name": "ipython",
    "version": 3
   },
   "file_extension": ".py",
   "mimetype": "text/x-python",
   "name": "python",
   "nbconvert_exporter": "python",
   "pygments_lexer": "ipython3",
   "version": "3.10.14"
  },
  "widgets": {
   "application/vnd.jupyter.widget-state+json": {
    "01f8d83cbe744765b1192af215ef52fa": {
     "model_module": "@jupyter-widgets/controls",
     "model_module_version": "1.5.0",
     "model_name": "ProgressStyleModel",
     "state": {
      "_model_module": "@jupyter-widgets/controls",
      "_model_module_version": "1.5.0",
      "_model_name": "ProgressStyleModel",
      "_view_count": null,
      "_view_module": "@jupyter-widgets/base",
      "_view_module_version": "1.2.0",
      "_view_name": "StyleView",
      "bar_color": null,
      "description_width": ""
     }
    },
    "0237717840f94e68b4e6ed1a2a1ac040": {
     "model_module": "@jupyter-widgets/controls",
     "model_module_version": "1.5.0",
     "model_name": "ProgressStyleModel",
     "state": {
      "_model_module": "@jupyter-widgets/controls",
      "_model_module_version": "1.5.0",
      "_model_name": "ProgressStyleModel",
      "_view_count": null,
      "_view_module": "@jupyter-widgets/base",
      "_view_module_version": "1.2.0",
      "_view_name": "StyleView",
      "bar_color": null,
      "description_width": ""
     }
    },
    "06b23651fe6f4efa92dc6e2611b09378": {
     "model_module": "@jupyter-widgets/base",
     "model_module_version": "1.2.0",
     "model_name": "LayoutModel",
     "state": {
      "_model_module": "@jupyter-widgets/base",
      "_model_module_version": "1.2.0",
      "_model_name": "LayoutModel",
      "_view_count": null,
      "_view_module": "@jupyter-widgets/base",
      "_view_module_version": "1.2.0",
      "_view_name": "LayoutView",
      "align_content": null,
      "align_items": null,
      "align_self": null,
      "border": null,
      "bottom": null,
      "display": null,
      "flex": null,
      "flex_flow": null,
      "grid_area": null,
      "grid_auto_columns": null,
      "grid_auto_flow": null,
      "grid_auto_rows": null,
      "grid_column": null,
      "grid_gap": null,
      "grid_row": null,
      "grid_template_areas": null,
      "grid_template_columns": null,
      "grid_template_rows": null,
      "height": null,
      "justify_content": null,
      "justify_items": null,
      "left": null,
      "margin": null,
      "max_height": null,
      "max_width": null,
      "min_height": null,
      "min_width": null,
      "object_fit": null,
      "object_position": null,
      "order": null,
      "overflow": null,
      "overflow_x": null,
      "overflow_y": null,
      "padding": null,
      "right": null,
      "top": null,
      "visibility": null,
      "width": null
     }
    },
    "078b9a3c23ad4ffbbc359d7616e9663f": {
     "model_module": "@jupyter-widgets/controls",
     "model_module_version": "1.5.0",
     "model_name": "DescriptionStyleModel",
     "state": {
      "_model_module": "@jupyter-widgets/controls",
      "_model_module_version": "1.5.0",
      "_model_name": "DescriptionStyleModel",
      "_view_count": null,
      "_view_module": "@jupyter-widgets/base",
      "_view_module_version": "1.2.0",
      "_view_name": "StyleView",
      "description_width": ""
     }
    },
    "0b6aaf74be77418c98986f03a6fba769": {
     "model_module": "@jupyter-widgets/base",
     "model_module_version": "1.2.0",
     "model_name": "LayoutModel",
     "state": {
      "_model_module": "@jupyter-widgets/base",
      "_model_module_version": "1.2.0",
      "_model_name": "LayoutModel",
      "_view_count": null,
      "_view_module": "@jupyter-widgets/base",
      "_view_module_version": "1.2.0",
      "_view_name": "LayoutView",
      "align_content": null,
      "align_items": null,
      "align_self": null,
      "border": null,
      "bottom": null,
      "display": null,
      "flex": null,
      "flex_flow": null,
      "grid_area": null,
      "grid_auto_columns": null,
      "grid_auto_flow": null,
      "grid_auto_rows": null,
      "grid_column": null,
      "grid_gap": null,
      "grid_row": null,
      "grid_template_areas": null,
      "grid_template_columns": null,
      "grid_template_rows": null,
      "height": null,
      "justify_content": null,
      "justify_items": null,
      "left": null,
      "margin": null,
      "max_height": null,
      "max_width": null,
      "min_height": null,
      "min_width": null,
      "object_fit": null,
      "object_position": null,
      "order": null,
      "overflow": null,
      "overflow_x": null,
      "overflow_y": null,
      "padding": null,
      "right": null,
      "top": null,
      "visibility": null,
      "width": null
     }
    },
    "0d59a04ec8bf43ab9b0911d198060640": {
     "model_module": "@jupyter-widgets/base",
     "model_module_version": "1.2.0",
     "model_name": "LayoutModel",
     "state": {
      "_model_module": "@jupyter-widgets/base",
      "_model_module_version": "1.2.0",
      "_model_name": "LayoutModel",
      "_view_count": null,
      "_view_module": "@jupyter-widgets/base",
      "_view_module_version": "1.2.0",
      "_view_name": "LayoutView",
      "align_content": null,
      "align_items": null,
      "align_self": null,
      "border": null,
      "bottom": null,
      "display": null,
      "flex": null,
      "flex_flow": null,
      "grid_area": null,
      "grid_auto_columns": null,
      "grid_auto_flow": null,
      "grid_auto_rows": null,
      "grid_column": null,
      "grid_gap": null,
      "grid_row": null,
      "grid_template_areas": null,
      "grid_template_columns": null,
      "grid_template_rows": null,
      "height": null,
      "justify_content": null,
      "justify_items": null,
      "left": null,
      "margin": null,
      "max_height": null,
      "max_width": null,
      "min_height": null,
      "min_width": null,
      "object_fit": null,
      "object_position": null,
      "order": null,
      "overflow": null,
      "overflow_x": null,
      "overflow_y": null,
      "padding": null,
      "right": null,
      "top": null,
      "visibility": null,
      "width": null
     }
    },
    "0de114bdd83b4b668a70c57222536fb9": {
     "model_module": "@jupyter-widgets/controls",
     "model_module_version": "1.5.0",
     "model_name": "HBoxModel",
     "state": {
      "_dom_classes": [],
      "_model_module": "@jupyter-widgets/controls",
      "_model_module_version": "1.5.0",
      "_model_name": "HBoxModel",
      "_view_count": null,
      "_view_module": "@jupyter-widgets/controls",
      "_view_module_version": "1.5.0",
      "_view_name": "HBoxView",
      "box_style": "",
      "children": [
       "IPY_MODEL_2f9033644b324a0e80c0c1813da9f4b8",
       "IPY_MODEL_7cc8b8bbdc1845de8f89154c88f077d1",
       "IPY_MODEL_7870e3db22e34e0897df3f5fc650d522"
      ],
      "layout": "IPY_MODEL_8f22c5da9d1645fcb0ce2e641a02a929"
     }
    },
    "11025783ba734c369f26e711461be8f3": {
     "model_module": "@jupyter-widgets/controls",
     "model_module_version": "1.5.0",
     "model_name": "FloatProgressModel",
     "state": {
      "_dom_classes": [],
      "_model_module": "@jupyter-widgets/controls",
      "_model_module_version": "1.5.0",
      "_model_name": "FloatProgressModel",
      "_view_count": null,
      "_view_module": "@jupyter-widgets/controls",
      "_view_module_version": "1.5.0",
      "_view_name": "ProgressView",
      "bar_style": "success",
      "description": "",
      "description_tooltip": null,
      "layout": "IPY_MODEL_0b6aaf74be77418c98986f03a6fba769",
      "max": 100000,
      "min": 0,
      "orientation": "horizontal",
      "style": "IPY_MODEL_198e4a589be744ac8ad57693839a7020",
      "value": 100000
     }
    },
    "1107f944d4854ede96384ae960240f9c": {
     "model_module": "@jupyter-widgets/base",
     "model_module_version": "1.2.0",
     "model_name": "LayoutModel",
     "state": {
      "_model_module": "@jupyter-widgets/base",
      "_model_module_version": "1.2.0",
      "_model_name": "LayoutModel",
      "_view_count": null,
      "_view_module": "@jupyter-widgets/base",
      "_view_module_version": "1.2.0",
      "_view_name": "LayoutView",
      "align_content": null,
      "align_items": null,
      "align_self": null,
      "border": null,
      "bottom": null,
      "display": null,
      "flex": null,
      "flex_flow": null,
      "grid_area": null,
      "grid_auto_columns": null,
      "grid_auto_flow": null,
      "grid_auto_rows": null,
      "grid_column": null,
      "grid_gap": null,
      "grid_row": null,
      "grid_template_areas": null,
      "grid_template_columns": null,
      "grid_template_rows": null,
      "height": null,
      "justify_content": null,
      "justify_items": null,
      "left": null,
      "margin": null,
      "max_height": null,
      "max_width": null,
      "min_height": null,
      "min_width": null,
      "object_fit": null,
      "object_position": null,
      "order": null,
      "overflow": null,
      "overflow_x": null,
      "overflow_y": null,
      "padding": null,
      "right": null,
      "top": null,
      "visibility": null,
      "width": null
     }
    },
    "1506a5fb7c2c437dab142d330b66aa09": {
     "model_module": "@jupyter-widgets/controls",
     "model_module_version": "1.5.0",
     "model_name": "HBoxModel",
     "state": {
      "_dom_classes": [],
      "_model_module": "@jupyter-widgets/controls",
      "_model_module_version": "1.5.0",
      "_model_name": "HBoxModel",
      "_view_count": null,
      "_view_module": "@jupyter-widgets/controls",
      "_view_module_version": "1.5.0",
      "_view_name": "HBoxView",
      "box_style": "",
      "children": [
       "IPY_MODEL_e535dad284b04b94b85d9704d3ec69c2",
       "IPY_MODEL_9249087a9ccd408298eecc4216671456",
       "IPY_MODEL_7b82dbc01e074d6d994ef0c71a156be7"
      ],
      "layout": "IPY_MODEL_8eed55031d4142d5a0384cde7b85427c"
     }
    },
    "198e4a589be744ac8ad57693839a7020": {
     "model_module": "@jupyter-widgets/controls",
     "model_module_version": "1.5.0",
     "model_name": "ProgressStyleModel",
     "state": {
      "_model_module": "@jupyter-widgets/controls",
      "_model_module_version": "1.5.0",
      "_model_name": "ProgressStyleModel",
      "_view_count": null,
      "_view_module": "@jupyter-widgets/base",
      "_view_module_version": "1.2.0",
      "_view_name": "StyleView",
      "bar_color": null,
      "description_width": ""
     }
    },
    "2cb2016f13db42d18488659083cc538a": {
     "model_module": "@jupyter-widgets/controls",
     "model_module_version": "1.5.0",
     "model_name": "ProgressStyleModel",
     "state": {
      "_model_module": "@jupyter-widgets/controls",
      "_model_module_version": "1.5.0",
      "_model_name": "ProgressStyleModel",
      "_view_count": null,
      "_view_module": "@jupyter-widgets/base",
      "_view_module_version": "1.2.0",
      "_view_name": "StyleView",
      "bar_color": null,
      "description_width": ""
     }
    },
    "2f9033644b324a0e80c0c1813da9f4b8": {
     "model_module": "@jupyter-widgets/controls",
     "model_module_version": "1.5.0",
     "model_name": "HTMLModel",
     "state": {
      "_dom_classes": [],
      "_model_module": "@jupyter-widgets/controls",
      "_model_module_version": "1.5.0",
      "_model_name": "HTMLModel",
      "_view_count": null,
      "_view_module": "@jupyter-widgets/controls",
      "_view_module_version": "1.5.0",
      "_view_name": "HTMLView",
      "description": "",
      "description_tooltip": null,
      "layout": "IPY_MODEL_d003f053dc2b464e905e98cca468d735",
      "placeholder": "​",
      "style": "IPY_MODEL_d98a96eaaf0148c78e71bb90fcb1c6ef",
      "value": "Downloading data: 100%"
     }
    },
    "305436f5e52f4c418ea749c5dfd2a53d": {
     "model_module": "@jupyter-widgets/controls",
     "model_module_version": "1.5.0",
     "model_name": "DescriptionStyleModel",
     "state": {
      "_model_module": "@jupyter-widgets/controls",
      "_model_module_version": "1.5.0",
      "_model_name": "DescriptionStyleModel",
      "_view_count": null,
      "_view_module": "@jupyter-widgets/base",
      "_view_module_version": "1.2.0",
      "_view_name": "StyleView",
      "description_width": ""
     }
    },
    "317fb3add81348f89547951521df2b6d": {
     "model_module": "@jupyter-widgets/controls",
     "model_module_version": "1.5.0",
     "model_name": "HBoxModel",
     "state": {
      "_dom_classes": [],
      "_model_module": "@jupyter-widgets/controls",
      "_model_module_version": "1.5.0",
      "_model_name": "HBoxModel",
      "_view_count": null,
      "_view_module": "@jupyter-widgets/controls",
      "_view_module_version": "1.5.0",
      "_view_name": "HBoxView",
      "box_style": "",
      "children": [
       "IPY_MODEL_c9653d915be7411b9c3ea8aa33fe3916",
       "IPY_MODEL_58127916b8d04bd1b0928e8a1d56e86b",
       "IPY_MODEL_a5883a0944ce4da5adcb60f9e3bcf85b"
      ],
      "layout": "IPY_MODEL_781e1d7eb3c54d6b8383965aac3fb1c4"
     }
    },
    "38b460a289bc4ab482dd09cfdece64a2": {
     "model_module": "@jupyter-widgets/controls",
     "model_module_version": "1.5.0",
     "model_name": "DescriptionStyleModel",
     "state": {
      "_model_module": "@jupyter-widgets/controls",
      "_model_module_version": "1.5.0",
      "_model_name": "DescriptionStyleModel",
      "_view_count": null,
      "_view_module": "@jupyter-widgets/base",
      "_view_module_version": "1.2.0",
      "_view_name": "StyleView",
      "description_width": ""
     }
    },
    "3b54732fcb524d96a04cda63f307d325": {
     "model_module": "@jupyter-widgets/controls",
     "model_module_version": "1.5.0",
     "model_name": "DescriptionStyleModel",
     "state": {
      "_model_module": "@jupyter-widgets/controls",
      "_model_module_version": "1.5.0",
      "_model_name": "DescriptionStyleModel",
      "_view_count": null,
      "_view_module": "@jupyter-widgets/base",
      "_view_module_version": "1.2.0",
      "_view_name": "StyleView",
      "description_width": ""
     }
    },
    "3cd9a902cd1448358d300f2c6c31f762": {
     "model_module": "@jupyter-widgets/base",
     "model_module_version": "1.2.0",
     "model_name": "LayoutModel",
     "state": {
      "_model_module": "@jupyter-widgets/base",
      "_model_module_version": "1.2.0",
      "_model_name": "LayoutModel",
      "_view_count": null,
      "_view_module": "@jupyter-widgets/base",
      "_view_module_version": "1.2.0",
      "_view_name": "LayoutView",
      "align_content": null,
      "align_items": null,
      "align_self": null,
      "border": null,
      "bottom": null,
      "display": null,
      "flex": null,
      "flex_flow": null,
      "grid_area": null,
      "grid_auto_columns": null,
      "grid_auto_flow": null,
      "grid_auto_rows": null,
      "grid_column": null,
      "grid_gap": null,
      "grid_row": null,
      "grid_template_areas": null,
      "grid_template_columns": null,
      "grid_template_rows": null,
      "height": null,
      "justify_content": null,
      "justify_items": null,
      "left": null,
      "margin": null,
      "max_height": null,
      "max_width": null,
      "min_height": null,
      "min_width": null,
      "object_fit": null,
      "object_position": null,
      "order": null,
      "overflow": null,
      "overflow_x": null,
      "overflow_y": null,
      "padding": null,
      "right": null,
      "top": null,
      "visibility": null,
      "width": null
     }
    },
    "457abdf47c834abc8303ada373fc3064": {
     "model_module": "@jupyter-widgets/base",
     "model_module_version": "1.2.0",
     "model_name": "LayoutModel",
     "state": {
      "_model_module": "@jupyter-widgets/base",
      "_model_module_version": "1.2.0",
      "_model_name": "LayoutModel",
      "_view_count": null,
      "_view_module": "@jupyter-widgets/base",
      "_view_module_version": "1.2.0",
      "_view_name": "LayoutView",
      "align_content": null,
      "align_items": null,
      "align_self": null,
      "border": null,
      "bottom": null,
      "display": null,
      "flex": null,
      "flex_flow": null,
      "grid_area": null,
      "grid_auto_columns": null,
      "grid_auto_flow": null,
      "grid_auto_rows": null,
      "grid_column": null,
      "grid_gap": null,
      "grid_row": null,
      "grid_template_areas": null,
      "grid_template_columns": null,
      "grid_template_rows": null,
      "height": null,
      "justify_content": null,
      "justify_items": null,
      "left": null,
      "margin": null,
      "max_height": null,
      "max_width": null,
      "min_height": null,
      "min_width": null,
      "object_fit": null,
      "object_position": null,
      "order": null,
      "overflow": null,
      "overflow_x": null,
      "overflow_y": null,
      "padding": null,
      "right": null,
      "top": null,
      "visibility": null,
      "width": null
     }
    },
    "4c029604a13e4c9d971cef4b4940e079": {
     "model_module": "@jupyter-widgets/controls",
     "model_module_version": "1.5.0",
     "model_name": "ProgressStyleModel",
     "state": {
      "_model_module": "@jupyter-widgets/controls",
      "_model_module_version": "1.5.0",
      "_model_name": "ProgressStyleModel",
      "_view_count": null,
      "_view_module": "@jupyter-widgets/base",
      "_view_module_version": "1.2.0",
      "_view_name": "StyleView",
      "bar_color": null,
      "description_width": ""
     }
    },
    "4f1da12a27f346778759efec3629c06d": {
     "model_module": "@jupyter-widgets/base",
     "model_module_version": "1.2.0",
     "model_name": "LayoutModel",
     "state": {
      "_model_module": "@jupyter-widgets/base",
      "_model_module_version": "1.2.0",
      "_model_name": "LayoutModel",
      "_view_count": null,
      "_view_module": "@jupyter-widgets/base",
      "_view_module_version": "1.2.0",
      "_view_name": "LayoutView",
      "align_content": null,
      "align_items": null,
      "align_self": null,
      "border": null,
      "bottom": null,
      "display": null,
      "flex": null,
      "flex_flow": null,
      "grid_area": null,
      "grid_auto_columns": null,
      "grid_auto_flow": null,
      "grid_auto_rows": null,
      "grid_column": null,
      "grid_gap": null,
      "grid_row": null,
      "grid_template_areas": null,
      "grid_template_columns": null,
      "grid_template_rows": null,
      "height": null,
      "justify_content": null,
      "justify_items": null,
      "left": null,
      "margin": null,
      "max_height": null,
      "max_width": null,
      "min_height": null,
      "min_width": null,
      "object_fit": null,
      "object_position": null,
      "order": null,
      "overflow": null,
      "overflow_x": null,
      "overflow_y": null,
      "padding": null,
      "right": null,
      "top": null,
      "visibility": null,
      "width": null
     }
    },
    "543019feb3b6499a80b10f0f87203adb": {
     "model_module": "@jupyter-widgets/controls",
     "model_module_version": "1.5.0",
     "model_name": "DescriptionStyleModel",
     "state": {
      "_model_module": "@jupyter-widgets/controls",
      "_model_module_version": "1.5.0",
      "_model_name": "DescriptionStyleModel",
      "_view_count": null,
      "_view_module": "@jupyter-widgets/base",
      "_view_module_version": "1.2.0",
      "_view_name": "StyleView",
      "description_width": ""
     }
    },
    "55c659ea87a341c3bfb658d66c8f2f7f": {
     "model_module": "@jupyter-widgets/base",
     "model_module_version": "1.2.0",
     "model_name": "LayoutModel",
     "state": {
      "_model_module": "@jupyter-widgets/base",
      "_model_module_version": "1.2.0",
      "_model_name": "LayoutModel",
      "_view_count": null,
      "_view_module": "@jupyter-widgets/base",
      "_view_module_version": "1.2.0",
      "_view_name": "LayoutView",
      "align_content": null,
      "align_items": null,
      "align_self": null,
      "border": null,
      "bottom": null,
      "display": null,
      "flex": null,
      "flex_flow": null,
      "grid_area": null,
      "grid_auto_columns": null,
      "grid_auto_flow": null,
      "grid_auto_rows": null,
      "grid_column": null,
      "grid_gap": null,
      "grid_row": null,
      "grid_template_areas": null,
      "grid_template_columns": null,
      "grid_template_rows": null,
      "height": null,
      "justify_content": null,
      "justify_items": null,
      "left": null,
      "margin": null,
      "max_height": null,
      "max_width": null,
      "min_height": null,
      "min_width": null,
      "object_fit": null,
      "object_position": null,
      "order": null,
      "overflow": null,
      "overflow_x": null,
      "overflow_y": null,
      "padding": null,
      "right": null,
      "top": null,
      "visibility": null,
      "width": null
     }
    },
    "58127916b8d04bd1b0928e8a1d56e86b": {
     "model_module": "@jupyter-widgets/controls",
     "model_module_version": "1.5.0",
     "model_name": "FloatProgressModel",
     "state": {
      "_dom_classes": [],
      "_model_module": "@jupyter-widgets/controls",
      "_model_module_version": "1.5.0",
      "_model_name": "FloatProgressModel",
      "_view_count": null,
      "_view_module": "@jupyter-widgets/controls",
      "_view_module_version": "1.5.0",
      "_view_name": "ProgressView",
      "bar_style": "success",
      "description": "",
      "description_tooltip": null,
      "layout": "IPY_MODEL_d5efc63957334cbf8b16df4ee02e5434",
      "max": 146480414,
      "min": 0,
      "orientation": "horizontal",
      "style": "IPY_MODEL_4c029604a13e4c9d971cef4b4940e079",
      "value": 146480414
     }
    },
    "644ac6ba792f461d85a93501fd0cf54b": {
     "model_module": "@jupyter-widgets/controls",
     "model_module_version": "1.5.0",
     "model_name": "DescriptionStyleModel",
     "state": {
      "_model_module": "@jupyter-widgets/controls",
      "_model_module_version": "1.5.0",
      "_model_name": "DescriptionStyleModel",
      "_view_count": null,
      "_view_module": "@jupyter-widgets/base",
      "_view_module_version": "1.2.0",
      "_view_name": "StyleView",
      "description_width": ""
     }
    },
    "781e1d7eb3c54d6b8383965aac3fb1c4": {
     "model_module": "@jupyter-widgets/base",
     "model_module_version": "1.2.0",
     "model_name": "LayoutModel",
     "state": {
      "_model_module": "@jupyter-widgets/base",
      "_model_module_version": "1.2.0",
      "_model_name": "LayoutModel",
      "_view_count": null,
      "_view_module": "@jupyter-widgets/base",
      "_view_module_version": "1.2.0",
      "_view_name": "LayoutView",
      "align_content": null,
      "align_items": null,
      "align_self": null,
      "border": null,
      "bottom": null,
      "display": null,
      "flex": null,
      "flex_flow": null,
      "grid_area": null,
      "grid_auto_columns": null,
      "grid_auto_flow": null,
      "grid_auto_rows": null,
      "grid_column": null,
      "grid_gap": null,
      "grid_row": null,
      "grid_template_areas": null,
      "grid_template_columns": null,
      "grid_template_rows": null,
      "height": null,
      "justify_content": null,
      "justify_items": null,
      "left": null,
      "margin": null,
      "max_height": null,
      "max_width": null,
      "min_height": null,
      "min_width": null,
      "object_fit": null,
      "object_position": null,
      "order": null,
      "overflow": null,
      "overflow_x": null,
      "overflow_y": null,
      "padding": null,
      "right": null,
      "top": null,
      "visibility": null,
      "width": null
     }
    },
    "7870e3db22e34e0897df3f5fc650d522": {
     "model_module": "@jupyter-widgets/controls",
     "model_module_version": "1.5.0",
     "model_name": "HTMLModel",
     "state": {
      "_dom_classes": [],
      "_model_module": "@jupyter-widgets/controls",
      "_model_module_version": "1.5.0",
      "_model_name": "HTMLModel",
      "_view_count": null,
      "_view_module": "@jupyter-widgets/controls",
      "_view_module_version": "1.5.0",
      "_view_name": "HTMLView",
      "description": "",
      "description_tooltip": null,
      "layout": "IPY_MODEL_bfa77665266a4d77a52ac22ede9d8e4d",
      "placeholder": "​",
      "style": "IPY_MODEL_543019feb3b6499a80b10f0f87203adb",
      "value": " 14.6M/14.6M [00:00&lt;00:00, 44.5MB/s]"
     }
    },
    "7b82dbc01e074d6d994ef0c71a156be7": {
     "model_module": "@jupyter-widgets/controls",
     "model_module_version": "1.5.0",
     "model_name": "HTMLModel",
     "state": {
      "_dom_classes": [],
      "_model_module": "@jupyter-widgets/controls",
      "_model_module_version": "1.5.0",
      "_model_name": "HTMLModel",
      "_view_count": null,
      "_view_module": "@jupyter-widgets/controls",
      "_view_module_version": "1.5.0",
      "_view_name": "HTMLView",
      "description": "",
      "description_tooltip": null,
      "layout": "IPY_MODEL_a43564718ef543359c5aa54d8a046215",
      "placeholder": "​",
      "style": "IPY_MODEL_644ac6ba792f461d85a93501fd0cf54b",
      "value": " 10000/10000 [00:00&lt;00:00, 91140.50 examples/s]"
     }
    },
    "7cc8b8bbdc1845de8f89154c88f077d1": {
     "model_module": "@jupyter-widgets/controls",
     "model_module_version": "1.5.0",
     "model_name": "FloatProgressModel",
     "state": {
      "_dom_classes": [],
      "_model_module": "@jupyter-widgets/controls",
      "_model_module_version": "1.5.0",
      "_model_name": "FloatProgressModel",
      "_view_count": null,
      "_view_module": "@jupyter-widgets/controls",
      "_view_module_version": "1.5.0",
      "_view_name": "ProgressView",
      "bar_style": "success",
      "description": "",
      "description_tooltip": null,
      "layout": "IPY_MODEL_984606ba1f494b20842cb9d6927fda95",
      "max": 14587497,
      "min": 0,
      "orientation": "horizontal",
      "style": "IPY_MODEL_0237717840f94e68b4e6ed1a2a1ac040",
      "value": 14587497
     }
    },
    "8309e0d78b6644299ea94e0c20bd1330": {
     "model_module": "@jupyter-widgets/controls",
     "model_module_version": "1.5.0",
     "model_name": "HTMLModel",
     "state": {
      "_dom_classes": [],
      "_model_module": "@jupyter-widgets/controls",
      "_model_module_version": "1.5.0",
      "_model_name": "HTMLModel",
      "_view_count": null,
      "_view_module": "@jupyter-widgets/controls",
      "_view_module_version": "1.5.0",
      "_view_name": "HTMLView",
      "description": "",
      "description_tooltip": null,
      "layout": "IPY_MODEL_a319f68b1c524b5cbc344704409bbc34",
      "placeholder": "​",
      "style": "IPY_MODEL_ed01e049c628497da2eeb43283dc0d5f",
      "value": " 3.90k/3.90k [00:00&lt;00:00, 89.1kB/s]"
     }
    },
    "863344372cb14c0ab0c54a2527943f67": {
     "model_module": "@jupyter-widgets/controls",
     "model_module_version": "1.5.0",
     "model_name": "DescriptionStyleModel",
     "state": {
      "_model_module": "@jupyter-widgets/controls",
      "_model_module_version": "1.5.0",
      "_model_name": "DescriptionStyleModel",
      "_view_count": null,
      "_view_module": "@jupyter-widgets/base",
      "_view_module_version": "1.2.0",
      "_view_name": "StyleView",
      "description_width": ""
     }
    },
    "8eed55031d4142d5a0384cde7b85427c": {
     "model_module": "@jupyter-widgets/base",
     "model_module_version": "1.2.0",
     "model_name": "LayoutModel",
     "state": {
      "_model_module": "@jupyter-widgets/base",
      "_model_module_version": "1.2.0",
      "_model_name": "LayoutModel",
      "_view_count": null,
      "_view_module": "@jupyter-widgets/base",
      "_view_module_version": "1.2.0",
      "_view_name": "LayoutView",
      "align_content": null,
      "align_items": null,
      "align_self": null,
      "border": null,
      "bottom": null,
      "display": null,
      "flex": null,
      "flex_flow": null,
      "grid_area": null,
      "grid_auto_columns": null,
      "grid_auto_flow": null,
      "grid_auto_rows": null,
      "grid_column": null,
      "grid_gap": null,
      "grid_row": null,
      "grid_template_areas": null,
      "grid_template_columns": null,
      "grid_template_rows": null,
      "height": null,
      "justify_content": null,
      "justify_items": null,
      "left": null,
      "margin": null,
      "max_height": null,
      "max_width": null,
      "min_height": null,
      "min_width": null,
      "object_fit": null,
      "object_position": null,
      "order": null,
      "overflow": null,
      "overflow_x": null,
      "overflow_y": null,
      "padding": null,
      "right": null,
      "top": null,
      "visibility": null,
      "width": null
     }
    },
    "8f22c5da9d1645fcb0ce2e641a02a929": {
     "model_module": "@jupyter-widgets/base",
     "model_module_version": "1.2.0",
     "model_name": "LayoutModel",
     "state": {
      "_model_module": "@jupyter-widgets/base",
      "_model_module_version": "1.2.0",
      "_model_name": "LayoutModel",
      "_view_count": null,
      "_view_module": "@jupyter-widgets/base",
      "_view_module_version": "1.2.0",
      "_view_name": "LayoutView",
      "align_content": null,
      "align_items": null,
      "align_self": null,
      "border": null,
      "bottom": null,
      "display": null,
      "flex": null,
      "flex_flow": null,
      "grid_area": null,
      "grid_auto_columns": null,
      "grid_auto_flow": null,
      "grid_auto_rows": null,
      "grid_column": null,
      "grid_gap": null,
      "grid_row": null,
      "grid_template_areas": null,
      "grid_template_columns": null,
      "grid_template_rows": null,
      "height": null,
      "justify_content": null,
      "justify_items": null,
      "left": null,
      "margin": null,
      "max_height": null,
      "max_width": null,
      "min_height": null,
      "min_width": null,
      "object_fit": null,
      "object_position": null,
      "order": null,
      "overflow": null,
      "overflow_x": null,
      "overflow_y": null,
      "padding": null,
      "right": null,
      "top": null,
      "visibility": null,
      "width": null
     }
    },
    "8fe8d8552dd64853b91853264fac86d3": {
     "model_module": "@jupyter-widgets/base",
     "model_module_version": "1.2.0",
     "model_name": "LayoutModel",
     "state": {
      "_model_module": "@jupyter-widgets/base",
      "_model_module_version": "1.2.0",
      "_model_name": "LayoutModel",
      "_view_count": null,
      "_view_module": "@jupyter-widgets/base",
      "_view_module_version": "1.2.0",
      "_view_name": "LayoutView",
      "align_content": null,
      "align_items": null,
      "align_self": null,
      "border": null,
      "bottom": null,
      "display": null,
      "flex": null,
      "flex_flow": null,
      "grid_area": null,
      "grid_auto_columns": null,
      "grid_auto_flow": null,
      "grid_auto_rows": null,
      "grid_column": null,
      "grid_gap": null,
      "grid_row": null,
      "grid_template_areas": null,
      "grid_template_columns": null,
      "grid_template_rows": null,
      "height": null,
      "justify_content": null,
      "justify_items": null,
      "left": null,
      "margin": null,
      "max_height": null,
      "max_width": null,
      "min_height": null,
      "min_width": null,
      "object_fit": null,
      "object_position": null,
      "order": null,
      "overflow": null,
      "overflow_x": null,
      "overflow_y": null,
      "padding": null,
      "right": null,
      "top": null,
      "visibility": null,
      "width": null
     }
    },
    "8ff6e0ee4892455ca4d94d25ed82dd7f": {
     "model_module": "@jupyter-widgets/base",
     "model_module_version": "1.2.0",
     "model_name": "LayoutModel",
     "state": {
      "_model_module": "@jupyter-widgets/base",
      "_model_module_version": "1.2.0",
      "_model_name": "LayoutModel",
      "_view_count": null,
      "_view_module": "@jupyter-widgets/base",
      "_view_module_version": "1.2.0",
      "_view_name": "LayoutView",
      "align_content": null,
      "align_items": null,
      "align_self": null,
      "border": null,
      "bottom": null,
      "display": null,
      "flex": null,
      "flex_flow": null,
      "grid_area": null,
      "grid_auto_columns": null,
      "grid_auto_flow": null,
      "grid_auto_rows": null,
      "grid_column": null,
      "grid_gap": null,
      "grid_row": null,
      "grid_template_areas": null,
      "grid_template_columns": null,
      "grid_template_rows": null,
      "height": null,
      "justify_content": null,
      "justify_items": null,
      "left": null,
      "margin": null,
      "max_height": null,
      "max_width": null,
      "min_height": null,
      "min_width": null,
      "object_fit": null,
      "object_position": null,
      "order": null,
      "overflow": null,
      "overflow_x": null,
      "overflow_y": null,
      "padding": null,
      "right": null,
      "top": null,
      "visibility": null,
      "width": null
     }
    },
    "90fbee9f06434d17933f22e4a28e54b3": {
     "model_module": "@jupyter-widgets/controls",
     "model_module_version": "1.5.0",
     "model_name": "HBoxModel",
     "state": {
      "_dom_classes": [],
      "_model_module": "@jupyter-widgets/controls",
      "_model_module_version": "1.5.0",
      "_model_name": "HBoxModel",
      "_view_count": null,
      "_view_module": "@jupyter-widgets/controls",
      "_view_module_version": "1.5.0",
      "_view_name": "HBoxView",
      "box_style": "",
      "children": [
       "IPY_MODEL_eec720a3d546441c8da6caca9f5f6c03",
       "IPY_MODEL_11025783ba734c369f26e711461be8f3",
       "IPY_MODEL_e4bff56dbc0f43da8034f6a7c9acbc41"
      ],
      "layout": "IPY_MODEL_4f1da12a27f346778759efec3629c06d"
     }
    },
    "9249087a9ccd408298eecc4216671456": {
     "model_module": "@jupyter-widgets/controls",
     "model_module_version": "1.5.0",
     "model_name": "FloatProgressModel",
     "state": {
      "_dom_classes": [],
      "_model_module": "@jupyter-widgets/controls",
      "_model_module_version": "1.5.0",
      "_model_name": "FloatProgressModel",
      "_view_count": null,
      "_view_module": "@jupyter-widgets/controls",
      "_view_module_version": "1.5.0",
      "_view_name": "ProgressView",
      "bar_style": "success",
      "description": "",
      "description_tooltip": null,
      "layout": "IPY_MODEL_8ff6e0ee4892455ca4d94d25ed82dd7f",
      "max": 10000,
      "min": 0,
      "orientation": "horizontal",
      "style": "IPY_MODEL_2cb2016f13db42d18488659083cc538a",
      "value": 10000
     }
    },
    "958e86d9871a4b3aab631ed66ef181f1": {
     "model_module": "@jupyter-widgets/controls",
     "model_module_version": "1.5.0",
     "model_name": "FloatProgressModel",
     "state": {
      "_dom_classes": [],
      "_model_module": "@jupyter-widgets/controls",
      "_model_module_version": "1.5.0",
      "_model_name": "FloatProgressModel",
      "_view_count": null,
      "_view_module": "@jupyter-widgets/controls",
      "_view_module_version": "1.5.0",
      "_view_name": "ProgressView",
      "bar_style": "success",
      "description": "",
      "description_tooltip": null,
      "layout": "IPY_MODEL_3cd9a902cd1448358d300f2c6c31f762",
      "max": 3522,
      "min": 0,
      "orientation": "horizontal",
      "style": "IPY_MODEL_c5948cf8962f42d0b624892042b26da2",
      "value": 3522
     }
    },
    "97fb87e33b7d4435bf979c3251859591": {
     "model_module": "@jupyter-widgets/base",
     "model_module_version": "1.2.0",
     "model_name": "LayoutModel",
     "state": {
      "_model_module": "@jupyter-widgets/base",
      "_model_module_version": "1.2.0",
      "_model_name": "LayoutModel",
      "_view_count": null,
      "_view_module": "@jupyter-widgets/base",
      "_view_module_version": "1.2.0",
      "_view_name": "LayoutView",
      "align_content": null,
      "align_items": null,
      "align_self": null,
      "border": null,
      "bottom": null,
      "display": null,
      "flex": null,
      "flex_flow": null,
      "grid_area": null,
      "grid_auto_columns": null,
      "grid_auto_flow": null,
      "grid_auto_rows": null,
      "grid_column": null,
      "grid_gap": null,
      "grid_row": null,
      "grid_template_areas": null,
      "grid_template_columns": null,
      "grid_template_rows": null,
      "height": null,
      "justify_content": null,
      "justify_items": null,
      "left": null,
      "margin": null,
      "max_height": null,
      "max_width": null,
      "min_height": null,
      "min_width": null,
      "object_fit": null,
      "object_position": null,
      "order": null,
      "overflow": null,
      "overflow_x": null,
      "overflow_y": null,
      "padding": null,
      "right": null,
      "top": null,
      "visibility": null,
      "width": null
     }
    },
    "984606ba1f494b20842cb9d6927fda95": {
     "model_module": "@jupyter-widgets/base",
     "model_module_version": "1.2.0",
     "model_name": "LayoutModel",
     "state": {
      "_model_module": "@jupyter-widgets/base",
      "_model_module_version": "1.2.0",
      "_model_name": "LayoutModel",
      "_view_count": null,
      "_view_module": "@jupyter-widgets/base",
      "_view_module_version": "1.2.0",
      "_view_name": "LayoutView",
      "align_content": null,
      "align_items": null,
      "align_self": null,
      "border": null,
      "bottom": null,
      "display": null,
      "flex": null,
      "flex_flow": null,
      "grid_area": null,
      "grid_auto_columns": null,
      "grid_auto_flow": null,
      "grid_auto_rows": null,
      "grid_column": null,
      "grid_gap": null,
      "grid_row": null,
      "grid_template_areas": null,
      "grid_template_columns": null,
      "grid_template_rows": null,
      "height": null,
      "justify_content": null,
      "justify_items": null,
      "left": null,
      "margin": null,
      "max_height": null,
      "max_width": null,
      "min_height": null,
      "min_width": null,
      "object_fit": null,
      "object_position": null,
      "order": null,
      "overflow": null,
      "overflow_x": null,
      "overflow_y": null,
      "padding": null,
      "right": null,
      "top": null,
      "visibility": null,
      "width": null
     }
    },
    "9de3f77457a24cc6b71c6dbeecbaf0ed": {
     "model_module": "@jupyter-widgets/controls",
     "model_module_version": "1.5.0",
     "model_name": "HBoxModel",
     "state": {
      "_dom_classes": [],
      "_model_module": "@jupyter-widgets/controls",
      "_model_module_version": "1.5.0",
      "_model_name": "HBoxModel",
      "_view_count": null,
      "_view_module": "@jupyter-widgets/controls",
      "_view_module_version": "1.5.0",
      "_view_name": "HBoxView",
      "box_style": "",
      "children": [
       "IPY_MODEL_c4e9a3e36a4947998a7fbc36d79336eb",
       "IPY_MODEL_f221940c11004170980c58642338adbd",
       "IPY_MODEL_8309e0d78b6644299ea94e0c20bd1330"
      ],
      "layout": "IPY_MODEL_a666e25d80bd4b6eacece095b633dabc"
     }
    },
    "a319f68b1c524b5cbc344704409bbc34": {
     "model_module": "@jupyter-widgets/base",
     "model_module_version": "1.2.0",
     "model_name": "LayoutModel",
     "state": {
      "_model_module": "@jupyter-widgets/base",
      "_model_module_version": "1.2.0",
      "_model_name": "LayoutModel",
      "_view_count": null,
      "_view_module": "@jupyter-widgets/base",
      "_view_module_version": "1.2.0",
      "_view_name": "LayoutView",
      "align_content": null,
      "align_items": null,
      "align_self": null,
      "border": null,
      "bottom": null,
      "display": null,
      "flex": null,
      "flex_flow": null,
      "grid_area": null,
      "grid_auto_columns": null,
      "grid_auto_flow": null,
      "grid_auto_rows": null,
      "grid_column": null,
      "grid_gap": null,
      "grid_row": null,
      "grid_template_areas": null,
      "grid_template_columns": null,
      "grid_template_rows": null,
      "height": null,
      "justify_content": null,
      "justify_items": null,
      "left": null,
      "margin": null,
      "max_height": null,
      "max_width": null,
      "min_height": null,
      "min_width": null,
      "object_fit": null,
      "object_position": null,
      "order": null,
      "overflow": null,
      "overflow_x": null,
      "overflow_y": null,
      "padding": null,
      "right": null,
      "top": null,
      "visibility": null,
      "width": null
     }
    },
    "a427399c821f47cc819caaae65a2bc03": {
     "model_module": "@jupyter-widgets/controls",
     "model_module_version": "1.5.0",
     "model_name": "HTMLModel",
     "state": {
      "_dom_classes": [],
      "_model_module": "@jupyter-widgets/controls",
      "_model_module_version": "1.5.0",
      "_model_name": "HTMLModel",
      "_view_count": null,
      "_view_module": "@jupyter-widgets/controls",
      "_view_module_version": "1.5.0",
      "_view_name": "HTMLView",
      "description": "",
      "description_tooltip": null,
      "layout": "IPY_MODEL_0d59a04ec8bf43ab9b0911d198060640",
      "placeholder": "​",
      "style": "IPY_MODEL_863344372cb14c0ab0c54a2527943f67",
      "value": " 3.52k/3.52k [00:00&lt;00:00, 42.1kB/s]"
     }
    },
    "a43564718ef543359c5aa54d8a046215": {
     "model_module": "@jupyter-widgets/base",
     "model_module_version": "1.2.0",
     "model_name": "LayoutModel",
     "state": {
      "_model_module": "@jupyter-widgets/base",
      "_model_module_version": "1.2.0",
      "_model_name": "LayoutModel",
      "_view_count": null,
      "_view_module": "@jupyter-widgets/base",
      "_view_module_version": "1.2.0",
      "_view_name": "LayoutView",
      "align_content": null,
      "align_items": null,
      "align_self": null,
      "border": null,
      "bottom": null,
      "display": null,
      "flex": null,
      "flex_flow": null,
      "grid_area": null,
      "grid_auto_columns": null,
      "grid_auto_flow": null,
      "grid_auto_rows": null,
      "grid_column": null,
      "grid_gap": null,
      "grid_row": null,
      "grid_template_areas": null,
      "grid_template_columns": null,
      "grid_template_rows": null,
      "height": null,
      "justify_content": null,
      "justify_items": null,
      "left": null,
      "margin": null,
      "max_height": null,
      "max_width": null,
      "min_height": null,
      "min_width": null,
      "object_fit": null,
      "object_position": null,
      "order": null,
      "overflow": null,
      "overflow_x": null,
      "overflow_y": null,
      "padding": null,
      "right": null,
      "top": null,
      "visibility": null,
      "width": null
     }
    },
    "a5883a0944ce4da5adcb60f9e3bcf85b": {
     "model_module": "@jupyter-widgets/controls",
     "model_module_version": "1.5.0",
     "model_name": "HTMLModel",
     "state": {
      "_dom_classes": [],
      "_model_module": "@jupyter-widgets/controls",
      "_model_module_version": "1.5.0",
      "_model_name": "HTMLModel",
      "_view_count": null,
      "_view_module": "@jupyter-widgets/controls",
      "_view_module_version": "1.5.0",
      "_view_name": "HTMLView",
      "description": "",
      "description_tooltip": null,
      "layout": "IPY_MODEL_457abdf47c834abc8303ada373fc3064",
      "placeholder": "​",
      "style": "IPY_MODEL_b6c2709e59b148ccb513b8792888e15b",
      "value": " 146M/146M [00:01&lt;00:00, 173MB/s]"
     }
    },
    "a666e25d80bd4b6eacece095b633dabc": {
     "model_module": "@jupyter-widgets/base",
     "model_module_version": "1.2.0",
     "model_name": "LayoutModel",
     "state": {
      "_model_module": "@jupyter-widgets/base",
      "_model_module_version": "1.2.0",
      "_model_name": "LayoutModel",
      "_view_count": null,
      "_view_module": "@jupyter-widgets/base",
      "_view_module_version": "1.2.0",
      "_view_name": "LayoutView",
      "align_content": null,
      "align_items": null,
      "align_self": null,
      "border": null,
      "bottom": null,
      "display": null,
      "flex": null,
      "flex_flow": null,
      "grid_area": null,
      "grid_auto_columns": null,
      "grid_auto_flow": null,
      "grid_auto_rows": null,
      "grid_column": null,
      "grid_gap": null,
      "grid_row": null,
      "grid_template_areas": null,
      "grid_template_columns": null,
      "grid_template_rows": null,
      "height": null,
      "justify_content": null,
      "justify_items": null,
      "left": null,
      "margin": null,
      "max_height": null,
      "max_width": null,
      "min_height": null,
      "min_width": null,
      "object_fit": null,
      "object_position": null,
      "order": null,
      "overflow": null,
      "overflow_x": null,
      "overflow_y": null,
      "padding": null,
      "right": null,
      "top": null,
      "visibility": null,
      "width": null
     }
    },
    "b6c2709e59b148ccb513b8792888e15b": {
     "model_module": "@jupyter-widgets/controls",
     "model_module_version": "1.5.0",
     "model_name": "DescriptionStyleModel",
     "state": {
      "_model_module": "@jupyter-widgets/controls",
      "_model_module_version": "1.5.0",
      "_model_name": "DescriptionStyleModel",
      "_view_count": null,
      "_view_module": "@jupyter-widgets/base",
      "_view_module_version": "1.2.0",
      "_view_name": "StyleView",
      "description_width": ""
     }
    },
    "b961c8be0e524ada8b11446a86eb8fed": {
     "model_module": "@jupyter-widgets/controls",
     "model_module_version": "1.5.0",
     "model_name": "DescriptionStyleModel",
     "state": {
      "_model_module": "@jupyter-widgets/controls",
      "_model_module_version": "1.5.0",
      "_model_name": "DescriptionStyleModel",
      "_view_count": null,
      "_view_module": "@jupyter-widgets/base",
      "_view_module_version": "1.2.0",
      "_view_name": "StyleView",
      "description_width": ""
     }
    },
    "bcd66c498e25433c9407310f2f41c7ec": {
     "model_module": "@jupyter-widgets/base",
     "model_module_version": "1.2.0",
     "model_name": "LayoutModel",
     "state": {
      "_model_module": "@jupyter-widgets/base",
      "_model_module_version": "1.2.0",
      "_model_name": "LayoutModel",
      "_view_count": null,
      "_view_module": "@jupyter-widgets/base",
      "_view_module_version": "1.2.0",
      "_view_name": "LayoutView",
      "align_content": null,
      "align_items": null,
      "align_self": null,
      "border": null,
      "bottom": null,
      "display": null,
      "flex": null,
      "flex_flow": null,
      "grid_area": null,
      "grid_auto_columns": null,
      "grid_auto_flow": null,
      "grid_auto_rows": null,
      "grid_column": null,
      "grid_gap": null,
      "grid_row": null,
      "grid_template_areas": null,
      "grid_template_columns": null,
      "grid_template_rows": null,
      "height": null,
      "justify_content": null,
      "justify_items": null,
      "left": null,
      "margin": null,
      "max_height": null,
      "max_width": null,
      "min_height": null,
      "min_width": null,
      "object_fit": null,
      "object_position": null,
      "order": null,
      "overflow": null,
      "overflow_x": null,
      "overflow_y": null,
      "padding": null,
      "right": null,
      "top": null,
      "visibility": null,
      "width": null
     }
    },
    "bf148bb35d2846b99769c0bd98600edc": {
     "model_module": "@jupyter-widgets/controls",
     "model_module_version": "1.5.0",
     "model_name": "HTMLModel",
     "state": {
      "_dom_classes": [],
      "_model_module": "@jupyter-widgets/controls",
      "_model_module_version": "1.5.0",
      "_model_name": "HTMLModel",
      "_view_count": null,
      "_view_module": "@jupyter-widgets/controls",
      "_view_module_version": "1.5.0",
      "_view_name": "HTMLView",
      "description": "",
      "description_tooltip": null,
      "layout": "IPY_MODEL_97fb87e33b7d4435bf979c3251859591",
      "placeholder": "​",
      "style": "IPY_MODEL_3b54732fcb524d96a04cda63f307d325",
      "value": "Downloading metadata: 100%"
     }
    },
    "bfa77665266a4d77a52ac22ede9d8e4d": {
     "model_module": "@jupyter-widgets/base",
     "model_module_version": "1.2.0",
     "model_name": "LayoutModel",
     "state": {
      "_model_module": "@jupyter-widgets/base",
      "_model_module_version": "1.2.0",
      "_model_name": "LayoutModel",
      "_view_count": null,
      "_view_module": "@jupyter-widgets/base",
      "_view_module_version": "1.2.0",
      "_view_name": "LayoutView",
      "align_content": null,
      "align_items": null,
      "align_self": null,
      "border": null,
      "bottom": null,
      "display": null,
      "flex": null,
      "flex_flow": null,
      "grid_area": null,
      "grid_auto_columns": null,
      "grid_auto_flow": null,
      "grid_auto_rows": null,
      "grid_column": null,
      "grid_gap": null,
      "grid_row": null,
      "grid_template_areas": null,
      "grid_template_columns": null,
      "grid_template_rows": null,
      "height": null,
      "justify_content": null,
      "justify_items": null,
      "left": null,
      "margin": null,
      "max_height": null,
      "max_width": null,
      "min_height": null,
      "min_width": null,
      "object_fit": null,
      "object_position": null,
      "order": null,
      "overflow": null,
      "overflow_x": null,
      "overflow_y": null,
      "padding": null,
      "right": null,
      "top": null,
      "visibility": null,
      "width": null
     }
    },
    "c35587cfbcc9465bae1c9735d9e5fbd9": {
     "model_module": "@jupyter-widgets/base",
     "model_module_version": "1.2.0",
     "model_name": "LayoutModel",
     "state": {
      "_model_module": "@jupyter-widgets/base",
      "_model_module_version": "1.2.0",
      "_model_name": "LayoutModel",
      "_view_count": null,
      "_view_module": "@jupyter-widgets/base",
      "_view_module_version": "1.2.0",
      "_view_name": "LayoutView",
      "align_content": null,
      "align_items": null,
      "align_self": null,
      "border": null,
      "bottom": null,
      "display": null,
      "flex": null,
      "flex_flow": null,
      "grid_area": null,
      "grid_auto_columns": null,
      "grid_auto_flow": null,
      "grid_auto_rows": null,
      "grid_column": null,
      "grid_gap": null,
      "grid_row": null,
      "grid_template_areas": null,
      "grid_template_columns": null,
      "grid_template_rows": null,
      "height": null,
      "justify_content": null,
      "justify_items": null,
      "left": null,
      "margin": null,
      "max_height": null,
      "max_width": null,
      "min_height": null,
      "min_width": null,
      "object_fit": null,
      "object_position": null,
      "order": null,
      "overflow": null,
      "overflow_x": null,
      "overflow_y": null,
      "padding": null,
      "right": null,
      "top": null,
      "visibility": null,
      "width": null
     }
    },
    "c4e9a3e36a4947998a7fbc36d79336eb": {
     "model_module": "@jupyter-widgets/controls",
     "model_module_version": "1.5.0",
     "model_name": "HTMLModel",
     "state": {
      "_dom_classes": [],
      "_model_module": "@jupyter-widgets/controls",
      "_model_module_version": "1.5.0",
      "_model_name": "HTMLModel",
      "_view_count": null,
      "_view_module": "@jupyter-widgets/controls",
      "_view_module_version": "1.5.0",
      "_view_name": "HTMLView",
      "description": "",
      "description_tooltip": null,
      "layout": "IPY_MODEL_bcd66c498e25433c9407310f2f41c7ec",
      "placeholder": "​",
      "style": "IPY_MODEL_078b9a3c23ad4ffbbc359d7616e9663f",
      "value": "Downloading readme: 100%"
     }
    },
    "c5948cf8962f42d0b624892042b26da2": {
     "model_module": "@jupyter-widgets/controls",
     "model_module_version": "1.5.0",
     "model_name": "ProgressStyleModel",
     "state": {
      "_model_module": "@jupyter-widgets/controls",
      "_model_module_version": "1.5.0",
      "_model_name": "ProgressStyleModel",
      "_view_count": null,
      "_view_module": "@jupyter-widgets/base",
      "_view_module_version": "1.2.0",
      "_view_name": "StyleView",
      "bar_color": null,
      "description_width": ""
     }
    },
    "c9653d915be7411b9c3ea8aa33fe3916": {
     "model_module": "@jupyter-widgets/controls",
     "model_module_version": "1.5.0",
     "model_name": "HTMLModel",
     "state": {
      "_dom_classes": [],
      "_model_module": "@jupyter-widgets/controls",
      "_model_module_version": "1.5.0",
      "_model_name": "HTMLModel",
      "_view_count": null,
      "_view_module": "@jupyter-widgets/controls",
      "_view_module_version": "1.5.0",
      "_view_name": "HTMLView",
      "description": "",
      "description_tooltip": null,
      "layout": "IPY_MODEL_55c659ea87a341c3bfb658d66c8f2f7f",
      "placeholder": "​",
      "style": "IPY_MODEL_38b460a289bc4ab482dd09cfdece64a2",
      "value": "Downloading data: 100%"
     }
    },
    "d003f053dc2b464e905e98cca468d735": {
     "model_module": "@jupyter-widgets/base",
     "model_module_version": "1.2.0",
     "model_name": "LayoutModel",
     "state": {
      "_model_module": "@jupyter-widgets/base",
      "_model_module_version": "1.2.0",
      "_model_name": "LayoutModel",
      "_view_count": null,
      "_view_module": "@jupyter-widgets/base",
      "_view_module_version": "1.2.0",
      "_view_name": "LayoutView",
      "align_content": null,
      "align_items": null,
      "align_self": null,
      "border": null,
      "bottom": null,
      "display": null,
      "flex": null,
      "flex_flow": null,
      "grid_area": null,
      "grid_auto_columns": null,
      "grid_auto_flow": null,
      "grid_auto_rows": null,
      "grid_column": null,
      "grid_gap": null,
      "grid_row": null,
      "grid_template_areas": null,
      "grid_template_columns": null,
      "grid_template_rows": null,
      "height": null,
      "justify_content": null,
      "justify_items": null,
      "left": null,
      "margin": null,
      "max_height": null,
      "max_width": null,
      "min_height": null,
      "min_width": null,
      "object_fit": null,
      "object_position": null,
      "order": null,
      "overflow": null,
      "overflow_x": null,
      "overflow_y": null,
      "padding": null,
      "right": null,
      "top": null,
      "visibility": null,
      "width": null
     }
    },
    "d57d1a912da040e394a8d5a2e2e58f8b": {
     "model_module": "@jupyter-widgets/base",
     "model_module_version": "1.2.0",
     "model_name": "LayoutModel",
     "state": {
      "_model_module": "@jupyter-widgets/base",
      "_model_module_version": "1.2.0",
      "_model_name": "LayoutModel",
      "_view_count": null,
      "_view_module": "@jupyter-widgets/base",
      "_view_module_version": "1.2.0",
      "_view_name": "LayoutView",
      "align_content": null,
      "align_items": null,
      "align_self": null,
      "border": null,
      "bottom": null,
      "display": null,
      "flex": null,
      "flex_flow": null,
      "grid_area": null,
      "grid_auto_columns": null,
      "grid_auto_flow": null,
      "grid_auto_rows": null,
      "grid_column": null,
      "grid_gap": null,
      "grid_row": null,
      "grid_template_areas": null,
      "grid_template_columns": null,
      "grid_template_rows": null,
      "height": null,
      "justify_content": null,
      "justify_items": null,
      "left": null,
      "margin": null,
      "max_height": null,
      "max_width": null,
      "min_height": null,
      "min_width": null,
      "object_fit": null,
      "object_position": null,
      "order": null,
      "overflow": null,
      "overflow_x": null,
      "overflow_y": null,
      "padding": null,
      "right": null,
      "top": null,
      "visibility": null,
      "width": null
     }
    },
    "d5efc63957334cbf8b16df4ee02e5434": {
     "model_module": "@jupyter-widgets/base",
     "model_module_version": "1.2.0",
     "model_name": "LayoutModel",
     "state": {
      "_model_module": "@jupyter-widgets/base",
      "_model_module_version": "1.2.0",
      "_model_name": "LayoutModel",
      "_view_count": null,
      "_view_module": "@jupyter-widgets/base",
      "_view_module_version": "1.2.0",
      "_view_name": "LayoutView",
      "align_content": null,
      "align_items": null,
      "align_self": null,
      "border": null,
      "bottom": null,
      "display": null,
      "flex": null,
      "flex_flow": null,
      "grid_area": null,
      "grid_auto_columns": null,
      "grid_auto_flow": null,
      "grid_auto_rows": null,
      "grid_column": null,
      "grid_gap": null,
      "grid_row": null,
      "grid_template_areas": null,
      "grid_template_columns": null,
      "grid_template_rows": null,
      "height": null,
      "justify_content": null,
      "justify_items": null,
      "left": null,
      "margin": null,
      "max_height": null,
      "max_width": null,
      "min_height": null,
      "min_width": null,
      "object_fit": null,
      "object_position": null,
      "order": null,
      "overflow": null,
      "overflow_x": null,
      "overflow_y": null,
      "padding": null,
      "right": null,
      "top": null,
      "visibility": null,
      "width": null
     }
    },
    "d98a96eaaf0148c78e71bb90fcb1c6ef": {
     "model_module": "@jupyter-widgets/controls",
     "model_module_version": "1.5.0",
     "model_name": "DescriptionStyleModel",
     "state": {
      "_model_module": "@jupyter-widgets/controls",
      "_model_module_version": "1.5.0",
      "_model_name": "DescriptionStyleModel",
      "_view_count": null,
      "_view_module": "@jupyter-widgets/base",
      "_view_module_version": "1.2.0",
      "_view_name": "StyleView",
      "description_width": ""
     }
    },
    "e4bff56dbc0f43da8034f6a7c9acbc41": {
     "model_module": "@jupyter-widgets/controls",
     "model_module_version": "1.5.0",
     "model_name": "HTMLModel",
     "state": {
      "_dom_classes": [],
      "_model_module": "@jupyter-widgets/controls",
      "_model_module_version": "1.5.0",
      "_model_name": "HTMLModel",
      "_view_count": null,
      "_view_module": "@jupyter-widgets/controls",
      "_view_module_version": "1.5.0",
      "_view_name": "HTMLView",
      "description": "",
      "description_tooltip": null,
      "layout": "IPY_MODEL_c35587cfbcc9465bae1c9735d9e5fbd9",
      "placeholder": "​",
      "style": "IPY_MODEL_fed41af9dd0b4fac955d0c81297e3978",
      "value": " 100000/100000 [00:01&lt;00:00, 72496.03 examples/s]"
     }
    },
    "e535dad284b04b94b85d9704d3ec69c2": {
     "model_module": "@jupyter-widgets/controls",
     "model_module_version": "1.5.0",
     "model_name": "HTMLModel",
     "state": {
      "_dom_classes": [],
      "_model_module": "@jupyter-widgets/controls",
      "_model_module_version": "1.5.0",
      "_model_name": "HTMLModel",
      "_view_count": null,
      "_view_module": "@jupyter-widgets/controls",
      "_view_module_version": "1.5.0",
      "_view_name": "HTMLView",
      "description": "",
      "description_tooltip": null,
      "layout": "IPY_MODEL_8fe8d8552dd64853b91853264fac86d3",
      "placeholder": "​",
      "style": "IPY_MODEL_305436f5e52f4c418ea749c5dfd2a53d",
      "value": "Generating valid split: 100%"
     }
    },
    "e874e100bff04da9bfdaae9a50454274": {
     "model_module": "@jupyter-widgets/controls",
     "model_module_version": "1.5.0",
     "model_name": "HBoxModel",
     "state": {
      "_dom_classes": [],
      "_model_module": "@jupyter-widgets/controls",
      "_model_module_version": "1.5.0",
      "_model_name": "HBoxModel",
      "_view_count": null,
      "_view_module": "@jupyter-widgets/controls",
      "_view_module_version": "1.5.0",
      "_view_name": "HBoxView",
      "box_style": "",
      "children": [
       "IPY_MODEL_bf148bb35d2846b99769c0bd98600edc",
       "IPY_MODEL_958e86d9871a4b3aab631ed66ef181f1",
       "IPY_MODEL_a427399c821f47cc819caaae65a2bc03"
      ],
      "layout": "IPY_MODEL_06b23651fe6f4efa92dc6e2611b09378"
     }
    },
    "ed01e049c628497da2eeb43283dc0d5f": {
     "model_module": "@jupyter-widgets/controls",
     "model_module_version": "1.5.0",
     "model_name": "DescriptionStyleModel",
     "state": {
      "_model_module": "@jupyter-widgets/controls",
      "_model_module_version": "1.5.0",
      "_model_name": "DescriptionStyleModel",
      "_view_count": null,
      "_view_module": "@jupyter-widgets/base",
      "_view_module_version": "1.2.0",
      "_view_name": "StyleView",
      "description_width": ""
     }
    },
    "eec720a3d546441c8da6caca9f5f6c03": {
     "model_module": "@jupyter-widgets/controls",
     "model_module_version": "1.5.0",
     "model_name": "HTMLModel",
     "state": {
      "_dom_classes": [],
      "_model_module": "@jupyter-widgets/controls",
      "_model_module_version": "1.5.0",
      "_model_name": "HTMLModel",
      "_view_count": null,
      "_view_module": "@jupyter-widgets/controls",
      "_view_module_version": "1.5.0",
      "_view_name": "HTMLView",
      "description": "",
      "description_tooltip": null,
      "layout": "IPY_MODEL_d57d1a912da040e394a8d5a2e2e58f8b",
      "placeholder": "​",
      "style": "IPY_MODEL_b961c8be0e524ada8b11446a86eb8fed",
      "value": "Generating train split: 100%"
     }
    },
    "f221940c11004170980c58642338adbd": {
     "model_module": "@jupyter-widgets/controls",
     "model_module_version": "1.5.0",
     "model_name": "FloatProgressModel",
     "state": {
      "_dom_classes": [],
      "_model_module": "@jupyter-widgets/controls",
      "_model_module_version": "1.5.0",
      "_model_name": "FloatProgressModel",
      "_view_count": null,
      "_view_module": "@jupyter-widgets/controls",
      "_view_module_version": "1.5.0",
      "_view_name": "ProgressView",
      "bar_style": "success",
      "description": "",
      "description_tooltip": null,
      "layout": "IPY_MODEL_1107f944d4854ede96384ae960240f9c",
      "max": 3900,
      "min": 0,
      "orientation": "horizontal",
      "style": "IPY_MODEL_01f8d83cbe744765b1192af215ef52fa",
      "value": 3900
     }
    },
    "fed41af9dd0b4fac955d0c81297e3978": {
     "model_module": "@jupyter-widgets/controls",
     "model_module_version": "1.5.0",
     "model_name": "DescriptionStyleModel",
     "state": {
      "_model_module": "@jupyter-widgets/controls",
      "_model_module_version": "1.5.0",
      "_model_name": "DescriptionStyleModel",
      "_view_count": null,
      "_view_module": "@jupyter-widgets/base",
      "_view_module_version": "1.2.0",
      "_view_name": "StyleView",
      "description_width": ""
     }
    }
   }
  }
 },
 "nbformat": 4,
 "nbformat_minor": 4
}
