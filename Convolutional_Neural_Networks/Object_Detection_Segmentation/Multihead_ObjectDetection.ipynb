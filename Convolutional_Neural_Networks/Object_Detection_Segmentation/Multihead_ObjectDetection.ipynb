{
 "cells": [
  {
   "cell_type": "markdown",
   "source": [
    "# This is a Multihead Object Detection Schema"
   ],
   "metadata": {
    "collapsed": false
   },
   "id": "aa6144c9f686f6e3"
  },
  {
   "cell_type": "code",
   "outputs": [],
   "source": [
    "from onedal._onedal_py_host.decision_forest.classification import model\n",
    "\n",
    "\n",
    "class MultiHead(nn.Module):\n",
    "    # Defining the backbone\n",
    "    def __init__(self):\n",
    "        super().__init__()\n",
    "        self.backbone = nn.Sequential(..., nn.Flatten())\n",
    "        \n",
    "        # Classification head\n",
    "        self.class_head = nn.Sequential(..., nn.Linear(out_feature, n_classes))\n",
    "        \n",
    "        # Localization head\n",
    "        self.loc_head = nn.Sequential(..., nn.Linear(out_feature, 4))\n",
    "        \n",
    "    def forward(self, x):\n",
    "        x = self.backbone(x)\n",
    "        \n",
    "        class_scores = self.class_head(x)\n",
    "        bounding_box = self.loc_head(x)\n",
    "        \n",
    "        return class_scores, bounding_box"
   ],
   "metadata": {
    "collapsed": false
   },
   "id": "cb67c1a617c42855"
  },
  {
   "cell_type": "markdown",
   "source": [
    "# Implemeting Multi-Head Loss in PyTorch\n",
    "\n",
    "- Since we have two heads, one for classification and the other one for localization"
   ],
   "metadata": {
    "collapsed": false
   },
   "id": "6c2c6497693491ab"
  },
  {
   "cell_type": "code",
   "outputs": [],
   "source": [
    "# classification Loss\n",
    "class_loss = nn.CrossEntropyLoss()\n",
    "\n",
    "# localization loss\n",
    "loc_loss = nn.MSELoss()\n",
    "\n",
    "# during training\n",
    "...\n",
    "for images, labels in train_data_loader:\n",
    "    ...\n",
    "    # Get predictions\n",
    "    class_scores, bounding_box = model(images)\n",
    "    \n",
    "    # compute sum of the losses\n",
    "    loss = class_loss(class_scores) + alpha * loc_loss(bounding_box)\n",
    "    \n",
    "    # Backpropagation\n",
    "    loss.backward()\n",
    "    \n",
    "    optimizer.step()"
   ],
   "metadata": {
    "collapsed": false
   },
   "id": "d07361579cacac2"
  }
 ],
 "metadata": {
  "kernelspec": {
   "display_name": "Python 3",
   "language": "python",
   "name": "python3"
  },
  "language_info": {
   "codemirror_mode": {
    "name": "ipython",
    "version": 2
   },
   "file_extension": ".py",
   "mimetype": "text/x-python",
   "name": "python",
   "nbconvert_exporter": "python",
   "pygments_lexer": "ipython2",
   "version": "2.7.6"
  }
 },
 "nbformat": 4,
 "nbformat_minor": 5
}
