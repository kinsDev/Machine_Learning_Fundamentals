{
 "cells": [
  {
   "cell_type": "markdown",
   "source": [
    "# This is a Multihead Object Detection Schema"
   ],
   "metadata": {
    "collapsed": false
   },
   "id": "aa6144c9f686f6e3"
  },
  {
   "cell_type": "code",
   "outputs": [],
   "source": [
    "class MultiHead(nn.Module):\n",
    "    # Defining the backbone\n",
    "    def __init__(self):\n",
    "        super().__init__()\n",
    "        self.backbone = nn.Sequential(..., nn.Flatten())\n",
    "        \n",
    "        # Classification head\n",
    "        self.class_head = nn.Sequential(..., nn.Linear(out_feature, n_classes))\n",
    "        \n",
    "        # Localization head\n",
    "        self.loc_head = nn.Sequential(..., nn.Linear(out_feature, 4))\n",
    "        \n",
    "    def forward(self, x):\n",
    "        x = self.backbone(x)\n",
    "        \n",
    "        class_scores = self.class_head(x)\n",
    "        bounding_box = self.loc_head(x)\n",
    "        \n",
    "        return class_scores, bounding_box"
   ],
   "metadata": {
    "collapsed": false
   },
   "id": "cb67c1a617c42855"
  }
 ],
 "metadata": {
  "kernelspec": {
   "display_name": "Python 3",
   "language": "python",
   "name": "python3"
  },
  "language_info": {
   "codemirror_mode": {
    "name": "ipython",
    "version": 2
   },
   "file_extension": ".py",
   "mimetype": "text/x-python",
   "name": "python",
   "nbconvert_exporter": "python",
   "pygments_lexer": "ipython2",
   "version": "2.7.6"
  }
 },
 "nbformat": 4,
 "nbformat_minor": 5
}
