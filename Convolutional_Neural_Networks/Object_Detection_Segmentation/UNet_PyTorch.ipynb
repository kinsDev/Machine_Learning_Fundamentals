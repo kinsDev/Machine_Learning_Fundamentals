{
 "cells": [
  {
   "cell_type": "code",
   "execution_count": null,
   "id": "initial_id",
   "metadata": {
    "collapsed": true
   },
   "outputs": [],
   "source": [
    "import segmentation_models_pytorch as smp\n",
    "\n",
    "# Binary Segmentation\n",
    "binary = True\n",
    "n_classes = 1\n",
    "\n",
    "model = smp.Unet(\n",
    "    encoder_name = \"resnet50\", # could be efficientNet\n",
    "    encoder_weights = \"imagenet\",\n",
    "    in_channels = 3,\n",
    "    classes = n_classes if binary else n_classes + 1\n",
    ")\n",
    "\n",
    "# The Dice Loss\n",
    "loss = smp.losses.DiceLoss(smp.losses.BINARY_MODE, from_logits=True)"
   ]
  }
 ],
 "metadata": {
  "kernelspec": {
   "display_name": "Python 3",
   "language": "python",
   "name": "python3"
  },
  "language_info": {
   "codemirror_mode": {
    "name": "ipython",
    "version": 2
   },
   "file_extension": ".py",
   "mimetype": "text/x-python",
   "name": "python",
   "nbconvert_exporter": "python",
   "pygments_lexer": "ipython2",
   "version": "2.7.6"
  }
 },
 "nbformat": 4,
 "nbformat_minor": 5
}
