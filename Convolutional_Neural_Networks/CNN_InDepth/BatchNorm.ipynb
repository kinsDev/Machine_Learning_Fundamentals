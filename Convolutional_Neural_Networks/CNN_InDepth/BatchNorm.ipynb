{
 "cells": [
  {
   "cell_type": "markdown",
   "source": [
    "# Pros of BatchNorm\n",
    "1. Easily added to most architectures\n",
    "2. Faster training - larger learning rate, fewer epochs\n",
    "3. Reduce sensitivity to initialization\n",
    "4. Small regularization effect\n",
    "\n",
    "\n",
    "# Cons of BatchNorm\n",
    "1. Breaks with a small batch size because the meand and standard deviation become too noisy\n",
    "2. Cumbersome - batch nomralization is used differently in training and inference\n",
    "3. It's slow due to added computation during inference time\n",
    "\n",
    "- These advantages of using BatchNorm generally outweigh these disadvantages, so BatchNorm is widely used in almost all CNN implementations today."
   ],
   "metadata": {
    "collapsed": false
   },
   "id": "757d568b63804e0b"
  },
  {
   "cell_type": "code",
   "outputs": [],
   "source": [
    "# BatchNorm for CNN Layers\n",
    "self.conv1 = nn.Sequential(\n",
    "    nn.Conv2d(input_channels = 3, output_channels = 16, kernel_size = 3, padding = 1),\n",
    "    nn.BatchNorm2d(16),\n",
    "    nn.MaxPool2d(kernel_size = 2, stride = 1), # nn.MaxPool2d(2, 2),\n",
    "    nn.ReLU(),\n",
    "    nn.Dropout2d(0.2)\n",
    ")"
   ],
   "metadata": {
    "collapsed": false
   },
   "id": "ac49924b3b5ad270"
  }
 ],
 "metadata": {
  "kernelspec": {
   "display_name": "Python 3",
   "language": "python",
   "name": "python3"
  },
  "language_info": {
   "codemirror_mode": {
    "name": "ipython",
    "version": 2
   },
   "file_extension": ".py",
   "mimetype": "text/x-python",
   "name": "python",
   "nbconvert_exporter": "python",
   "pygments_lexer": "ipython2",
   "version": "2.7.6"
  }
 },
 "nbformat": 4,
 "nbformat_minor": 5
}
