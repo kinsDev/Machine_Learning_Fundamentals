{
 "cells": [
  {
   "cell_type": "code",
   "execution_count": null,
   "id": "initial_id",
   "metadata": {
    "collapsed": true
   },
   "outputs": [],
   "source": [
    "import pandas as pd\n",
    "import xgboost as xgb\n",
    "\n",
    "# create a dataframe\n",
    "df = pd.DataFrame(\n",
    "    [[1, 2, 0], [3, 4, 1], [5, 6, 0], [7, 8, 1]],\n",
    "    columns=[\"num\", \"amount\", \"target\"]\n",
    ")\n",
    "\n",
    "# DMatrix is the structure that XGBoost understands\n",
    "df_xgb = xgb.DMatrix(\n",
    "    df[[\"num\", \"amount\"]], label = df[\"target\"] # just like the other algorithms, we are using features and target\n",
    ")\n",
    "\n",
    "# objective dictates how the model will train in this case its a classifier\n",
    "params = { # setting hyperparameters for the XGBoost algorithm\n",
    "    \"eval_metric\": \"logloss\",\n",
    "    \"objective\": \"binary:hinge\"\n",
    "}\n",
    "bst = xgb.train(params, df_xgb) # train\n",
    "bst.predict(df_xgb) # predict"
   ]
  },
  {
   "cell_type": "code",
   "outputs": [],
   "source": [],
   "metadata": {
    "collapsed": false
   },
   "id": "1adb2119a9693d1b"
  }
 ],
 "metadata": {
  "kernelspec": {
   "display_name": "Python 3",
   "language": "python",
   "name": "python3"
  },
  "language_info": {
   "codemirror_mode": {
    "name": "ipython",
    "version": 2
   },
   "file_extension": ".py",
   "mimetype": "text/x-python",
   "name": "python",
   "nbconvert_exporter": "python",
   "pygments_lexer": "ipython2",
   "version": "2.7.6"
  }
 },
 "nbformat": 4,
 "nbformat_minor": 5
}
