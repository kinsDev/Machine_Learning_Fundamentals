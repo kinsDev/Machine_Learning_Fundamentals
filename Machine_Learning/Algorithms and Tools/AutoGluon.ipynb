{
 "cells": [
  {
   "cell_type": "code",
   "execution_count": null,
   "id": "initial_id",
   "metadata": {
    "collapsed": true
   },
   "outputs": [],
   "source": [
    "import pandas as pd\n",
    "from autogluon.tabular import TabularPrdeictor\n",
    "\n",
    "# create or use a dataframe\n",
    "df = pd.DataFrame(\n",
    "    [[1, 2, 0], [3, 4, 1], [5, 6, 0], [7, 8, 1]],\n",
    "    columns=[\"num\", \"amount\", \"target\"]\n",
    ")\n",
    "\n",
    "# fit the data\n",
    "predictor = TabularPrdeictor(label = \"target\").fit(\n",
    "    train_data=df,\n",
    "    time_limit = 60,\n",
    "    presets = \"best_quality\"\n",
    ")\n",
    "\n",
    "# Output the summary of created model\n",
    "predictor.fit_summary()\n",
    "\n",
    "# evaluate best model from hyperparameter search\n",
    "performance = predictor.evaluate(df)\n",
    "performance"
   ]
  }
 ],
 "metadata": {
  "kernelspec": {
   "display_name": "Python 3",
   "language": "python",
   "name": "python3"
  },
  "language_info": {
   "codemirror_mode": {
    "name": "ipython",
    "version": 2
   },
   "file_extension": ".py",
   "mimetype": "text/x-python",
   "name": "python",
   "nbconvert_exporter": "python",
   "pygments_lexer": "ipython2",
   "version": "2.7.6"
  }
 },
 "nbformat": 4,
 "nbformat_minor": 5
}
