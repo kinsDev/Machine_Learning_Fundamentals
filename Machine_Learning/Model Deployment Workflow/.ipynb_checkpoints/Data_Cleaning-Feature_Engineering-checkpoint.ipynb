{
 "cells": [
  {
   "cell_type": "code",
   "execution_count": 1,
   "id": "initial_id",
   "metadata": {
    "collapsed": true,
    "ExecuteTime": {
     "end_time": "2024-05-05T14:17:20.965132800Z",
     "start_time": "2024-05-05T14:17:17.388104400Z"
    }
   },
   "outputs": [],
   "source": [
    "import random\n",
    "from datetime import datetime\n",
    "import pandas as pd\n",
    "import numpy as np\n",
    "\n",
    "from sklearn.datasets import make_regression\n",
    "from sklearn.model_selection import train_test_split\n",
    "from sklearn.preprocessing import StandardScaler"
   ]
  },
  {
   "cell_type": "code",
   "outputs": [],
   "source": [
    "# Reading the dataset\n",
    "df = pd.read_csv(\"data.csv\")"
   ],
   "metadata": {
    "collapsed": false,
    "ExecuteTime": {
     "end_time": "2024-05-05T14:18:55.630896200Z",
     "start_time": "2024-05-05T14:18:55.483282500Z"
    }
   },
   "id": "aeba80809c81f468",
   "execution_count": 2
  },
  {
   "cell_type": "code",
   "outputs": [
    {
     "data": {
      "text/plain": "   feature0  feature1  feature2        date weather      target\n0  0.274647 -0.603620  0.688897  2021-01-01   sunny   41.269783\n1 -0.307691  0.269024 -0.566440  2021-01-01   sunny -147.974545\n2  0.477809 -0.060138  1.974100  2021-01-01  cloudy  204.597486\n3 -0.603840 -1.149554 -1.188424  2021-01-01  cloudy -119.535892\n4  0.104714  0.228053 -0.422315  2021-01-01  cloudy  -34.253007",
      "text/html": "<div>\n<style scoped>\n    .dataframe tbody tr th:only-of-type {\n        vertical-align: middle;\n    }\n\n    .dataframe tbody tr th {\n        vertical-align: top;\n    }\n\n    .dataframe thead th {\n        text-align: right;\n    }\n</style>\n<table border=\"1\" class=\"dataframe\">\n  <thead>\n    <tr style=\"text-align: right;\">\n      <th></th>\n      <th>feature0</th>\n      <th>feature1</th>\n      <th>feature2</th>\n      <th>date</th>\n      <th>weather</th>\n      <th>target</th>\n    </tr>\n  </thead>\n  <tbody>\n    <tr>\n      <th>0</th>\n      <td>0.274647</td>\n      <td>-0.603620</td>\n      <td>0.688897</td>\n      <td>2021-01-01</td>\n      <td>sunny</td>\n      <td>41.269783</td>\n    </tr>\n    <tr>\n      <th>1</th>\n      <td>-0.307691</td>\n      <td>0.269024</td>\n      <td>-0.566440</td>\n      <td>2021-01-01</td>\n      <td>sunny</td>\n      <td>-147.974545</td>\n    </tr>\n    <tr>\n      <th>2</th>\n      <td>0.477809</td>\n      <td>-0.060138</td>\n      <td>1.974100</td>\n      <td>2021-01-01</td>\n      <td>cloudy</td>\n      <td>204.597486</td>\n    </tr>\n    <tr>\n      <th>3</th>\n      <td>-0.603840</td>\n      <td>-1.149554</td>\n      <td>-1.188424</td>\n      <td>2021-01-01</td>\n      <td>cloudy</td>\n      <td>-119.535892</td>\n    </tr>\n    <tr>\n      <th>4</th>\n      <td>0.104714</td>\n      <td>0.228053</td>\n      <td>-0.422315</td>\n      <td>2021-01-01</td>\n      <td>cloudy</td>\n      <td>-34.253007</td>\n    </tr>\n  </tbody>\n</table>\n</div>"
     },
     "execution_count": 3,
     "metadata": {},
     "output_type": "execute_result"
    }
   ],
   "source": [
    "# Always good to check to see if the data looks right\n",
    "df.head()"
   ],
   "metadata": {
    "collapsed": false,
    "ExecuteTime": {
     "end_time": "2024-05-05T14:19:07.688568Z",
     "start_time": "2024-05-05T14:19:07.558369900Z"
    }
   },
   "id": "81c7b9f3ae3204f",
   "execution_count": 3
  },
  {
   "cell_type": "code",
   "outputs": [],
   "source": [],
   "metadata": {
    "collapsed": false
   },
   "id": "4d593ba2aa62d968"
  }
 ],
 "metadata": {
  "kernelspec": {
   "display_name": "Python 3",
   "language": "python",
   "name": "python3"
  },
  "language_info": {
   "codemirror_mode": {
    "name": "ipython",
    "version": 2
   },
   "file_extension": ".py",
   "mimetype": "text/x-python",
   "name": "python",
   "nbconvert_exporter": "python",
   "pygments_lexer": "ipython2",
   "version": "2.7.6"
  }
 },
 "nbformat": 4,
 "nbformat_minor": 5
}
