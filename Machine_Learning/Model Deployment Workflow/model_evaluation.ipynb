{
 "cells": [
  {
   "cell_type": "markdown",
   "metadata": {
    "editable": true
   },
   "source": [
    "# Exercise: Model Training and Evaluation\n",
    "\n",
    "Now that we have the data fundamentals for creating, cleaning, and modifying our datasets, we can train and evaluate a model, in this case it's a linear regression model.\n",
    "\n",
    "Your tasks for this exercise are:\n",
    "1. Create a dataframe with the regression dataset, include the features and target within the same dataframe.\n",
    "2. Create a 60% Train / 20% Validation / 20% Test dataset group using the `train_test_split` method.\n",
    "3. Fit the LinearRegression model on the training set.\n",
    "4. Evaluate the model on the validation set.\n",
    "5. Evaluate the model on the test set."
   ],
   "id": "1cf626334c1a54d4"
  },
  {
   "cell_type": "code",
   "execution_count": 2,
   "metadata": {
    "editable": true,
    "ExecuteTime": {
     "end_time": "2024-05-07T10:47:29.109836100Z",
     "start_time": "2024-05-07T10:47:11.305669700Z"
    }
   },
   "outputs": [],
   "source": [
    "import pandas as pd\n",
    "from sklearn.datasets import make_regression\n",
    "from sklearn.model_selection import train_test_split\n",
    "from sklearn.linear_model import LinearRegression"
   ],
   "id": "86fe0debbf645fb9"
  },
  {
   "cell_type": "code",
   "outputs": [
    {
     "data": {
      "text/plain": "<function sklearn.datasets._samples_generator.make_regression(n_samples=100, n_features=100, *, n_informative=10, n_targets=1, bias=0.0, effective_rank=None, tail_strength=0.5, noise=0.0, shuffle=True, coef=False, random_state=None)>"
     },
     "execution_count": 3,
     "metadata": {},
     "output_type": "execute_result"
    }
   ],
   "source": [
    "make_regression"
   ],
   "metadata": {
    "collapsed": false,
    "ExecuteTime": {
     "end_time": "2024-05-07T10:47:58.094379Z",
     "start_time": "2024-05-07T10:47:57.978135900Z"
    }
   },
   "id": "53fcea806e612977",
   "execution_count": 3
  },
  {
   "cell_type": "code",
   "execution_count": 4,
   "metadata": {
    "editable": true,
    "ExecuteTime": {
     "end_time": "2024-05-07T10:50:12.632227500Z",
     "start_time": "2024-05-07T10:50:12.007251800Z"
    }
   },
   "outputs": [],
   "source": [
    "# represent make_regression in a variable\n",
    "regression_dataset = make_regression(\n",
    "    n_samples = 10000,\n",
    "    n_features = 10,\n",
    "    n_informative = 5,\n",
    "    bias = 0,\n",
    "    noise = 50,\n",
    "    n_targets = 1,\n",
    "    random_state = 0\n",
    ")"
   ],
   "id": "6d17230937958c00"
  },
  {
   "cell_type": "code",
   "execution_count": 5,
   "metadata": {
    "editable": true,
    "ExecuteTime": {
     "end_time": "2024-05-07T10:51:29.956920900Z",
     "start_time": "2024-05-07T10:51:29.929370500Z"
    }
   },
   "outputs": [],
   "source": [
    "# Create a dataframe using the regression_dataset\n",
    "df = pd.DataFrame(regression_dataset[0]) # a dataframe needs to have features and targets\n",
    "df[\"target\"] = regression_dataset[1]"
   ],
   "id": "94059d0cef57e149"
  },
  {
   "cell_type": "code",
   "execution_count": 6,
   "metadata": {
    "editable": true,
    "ExecuteTime": {
     "end_time": "2024-05-07T10:51:32.301824800Z",
     "start_time": "2024-05-07T10:51:32.174311800Z"
    }
   },
   "outputs": [
    {
     "data": {
      "text/plain": "          0         1         2         3         4         5         6  \\\n0 -1.039309 -0.533254  0.006352 -0.130216 -0.672371 -1.227693 -1.605115   \n1  0.906268  1.112101 -0.816500  0.461619  0.883569  1.125719 -0.993897   \n2  0.334137  0.320004 -0.248267 -0.317444  0.834343  1.381073  0.901058   \n3  0.250441 -1.215110 -1.562450  0.162566 -1.630155 -0.449801 -1.033361   \n4 -1.440993 -0.388298 -0.431737  0.518420 -0.405904 -0.785488  1.008090   \n\n          7         8         9      target  \n0  0.313087  1.709311  1.486217 -178.292995  \n1  0.999854 -1.919401 -1.137031   26.576198  \n2 -0.655725  0.340868 -1.481551  109.506527  \n3 -0.671750 -1.331549 -0.979638 -490.615441  \n4 -0.695019  1.885108 -0.913755   53.950271  ",
      "text/html": "<div>\n<style scoped>\n    .dataframe tbody tr th:only-of-type {\n        vertical-align: middle;\n    }\n\n    .dataframe tbody tr th {\n        vertical-align: top;\n    }\n\n    .dataframe thead th {\n        text-align: right;\n    }\n</style>\n<table border=\"1\" class=\"dataframe\">\n  <thead>\n    <tr style=\"text-align: right;\">\n      <th></th>\n      <th>0</th>\n      <th>1</th>\n      <th>2</th>\n      <th>3</th>\n      <th>4</th>\n      <th>5</th>\n      <th>6</th>\n      <th>7</th>\n      <th>8</th>\n      <th>9</th>\n      <th>target</th>\n    </tr>\n  </thead>\n  <tbody>\n    <tr>\n      <th>0</th>\n      <td>-1.039309</td>\n      <td>-0.533254</td>\n      <td>0.006352</td>\n      <td>-0.130216</td>\n      <td>-0.672371</td>\n      <td>-1.227693</td>\n      <td>-1.605115</td>\n      <td>0.313087</td>\n      <td>1.709311</td>\n      <td>1.486217</td>\n      <td>-178.292995</td>\n    </tr>\n    <tr>\n      <th>1</th>\n      <td>0.906268</td>\n      <td>1.112101</td>\n      <td>-0.816500</td>\n      <td>0.461619</td>\n      <td>0.883569</td>\n      <td>1.125719</td>\n      <td>-0.993897</td>\n      <td>0.999854</td>\n      <td>-1.919401</td>\n      <td>-1.137031</td>\n      <td>26.576198</td>\n    </tr>\n    <tr>\n      <th>2</th>\n      <td>0.334137</td>\n      <td>0.320004</td>\n      <td>-0.248267</td>\n      <td>-0.317444</td>\n      <td>0.834343</td>\n      <td>1.381073</td>\n      <td>0.901058</td>\n      <td>-0.655725</td>\n      <td>0.340868</td>\n      <td>-1.481551</td>\n      <td>109.506527</td>\n    </tr>\n    <tr>\n      <th>3</th>\n      <td>0.250441</td>\n      <td>-1.215110</td>\n      <td>-1.562450</td>\n      <td>0.162566</td>\n      <td>-1.630155</td>\n      <td>-0.449801</td>\n      <td>-1.033361</td>\n      <td>-0.671750</td>\n      <td>-1.331549</td>\n      <td>-0.979638</td>\n      <td>-490.615441</td>\n    </tr>\n    <tr>\n      <th>4</th>\n      <td>-1.440993</td>\n      <td>-0.388298</td>\n      <td>-0.431737</td>\n      <td>0.518420</td>\n      <td>-0.405904</td>\n      <td>-0.785488</td>\n      <td>1.008090</td>\n      <td>-0.695019</td>\n      <td>1.885108</td>\n      <td>-0.913755</td>\n      <td>53.950271</td>\n    </tr>\n  </tbody>\n</table>\n</div>"
     },
     "execution_count": 6,
     "metadata": {},
     "output_type": "execute_result"
    }
   ],
   "source": [
    "# `.head()` to view what the dataset looks like\n",
    "df.head()"
   ],
   "id": "cd73976e0ec10209"
  },
  {
   "cell_type": "code",
   "execution_count": 19,
   "metadata": {
    "editable": true,
    "ExecuteTime": {
     "end_time": "2024-05-07T10:59:50.885928600Z",
     "start_time": "2024-05-07T10:59:50.869769300Z"
    }
   },
   "outputs": [],
   "source": [
    "# train: 0.8 | test: 0.2\n",
    "df_train, df_test = train_test_split(\n",
    "    df, \n",
    "    test_size=0.2,\n",
    "    random_state=0\n",
    ")\n",
    "\n",
    "# train: 0.6 | validation: 0.2\n",
    "df_train, df_val = train_test_split(\n",
    "    df_train,\n",
    "    test_size=0.2,\n",
    "    random_state = 0\n",
    ")\n",
    "\n",
    "# Final dataset sizes: train: 0.6, validation: 0.2, text: 0.2,"
   ],
   "id": "825ce0160685ae32"
  },
  {
   "cell_type": "code",
   "execution_count": 20,
   "metadata": {
    "editable": true,
    "ExecuteTime": {
     "end_time": "2024-05-07T10:59:51.660903700Z",
     "start_time": "2024-05-07T10:59:51.656065700Z"
    }
   },
   "outputs": [
    {
     "name": "stdout",
     "output_type": "stream",
     "text": [
      "Train: (6400, 11)\n",
      "Validation: (1600, 11)\n",
      "Test: (2000, 11)\n"
     ]
    }
   ],
   "source": [
    "# Output each shape to confirm the size of train/validation/test\n",
    "print(f\"Train: {df_train.shape}\")\n",
    "print(f\"Validation: {df_val.shape}\")\n",
    "print(f\"Test: {df_test.shape}\")"
   ],
   "id": "73801365b6e6cdef"
  },
  {
   "cell_type": "code",
   "execution_count": 21,
   "metadata": {
    "editable": true,
    "ExecuteTime": {
     "end_time": "2024-05-07T10:59:52.965550500Z",
     "start_time": "2024-05-07T10:59:52.931584800Z"
    }
   },
   "outputs": [
    {
     "name": "stderr",
     "output_type": "stream",
     "text": [
      "D:\\Anaconda3\\Lib\\site-packages\\sklearn\\utils\\validation.py:767: FutureWarning: is_sparse is deprecated and will be removed in a future version. Check `isinstance(dtype, pd.SparseDtype)` instead.\n",
      "  if not hasattr(array, \"sparse\") and array.dtypes.apply(is_sparse).any():\n",
      "D:\\Anaconda3\\Lib\\site-packages\\sklearn\\utils\\validation.py:605: FutureWarning: is_sparse is deprecated and will be removed in a future version. Check `isinstance(dtype, pd.SparseDtype)` instead.\n",
      "  if is_sparse(pd_dtype):\n",
      "D:\\Anaconda3\\Lib\\site-packages\\sklearn\\utils\\validation.py:614: FutureWarning: is_sparse is deprecated and will be removed in a future version. Check `isinstance(dtype, pd.SparseDtype)` instead.\n",
      "  if is_sparse(pd_dtype) or not is_extension_array_dtype(pd_dtype):\n",
      "D:\\Anaconda3\\Lib\\site-packages\\sklearn\\utils\\validation.py:605: FutureWarning: is_sparse is deprecated and will be removed in a future version. Check `isinstance(dtype, pd.SparseDtype)` instead.\n",
      "  if is_sparse(pd_dtype):\n",
      "D:\\Anaconda3\\Lib\\site-packages\\sklearn\\utils\\validation.py:614: FutureWarning: is_sparse is deprecated and will be removed in a future version. Check `isinstance(dtype, pd.SparseDtype)` instead.\n",
      "  if is_sparse(pd_dtype) or not is_extension_array_dtype(pd_dtype):\n"
     ]
    }
   ],
   "source": [
    "# Train the linear model by fitting it on the dataframe features and dataframe target\n",
    "reg = LinearRegression().fit(df_train[list(range(10))], df_train[\"target\"])"
   ],
   "id": "69c27acaa4356cb6"
  },
  {
   "cell_type": "code",
   "execution_count": 22,
   "metadata": {
    "editable": true,
    "ExecuteTime": {
     "end_time": "2024-05-07T10:59:54.564801400Z",
     "start_time": "2024-05-07T10:59:54.549665900Z"
    }
   },
   "outputs": [
    {
     "name": "stderr",
     "output_type": "stream",
     "text": [
      "D:\\Anaconda3\\Lib\\site-packages\\sklearn\\utils\\validation.py:767: FutureWarning: is_sparse is deprecated and will be removed in a future version. Check `isinstance(dtype, pd.SparseDtype)` instead.\n",
      "  if not hasattr(array, \"sparse\") and array.dtypes.apply(is_sparse).any():\n",
      "D:\\Anaconda3\\Lib\\site-packages\\sklearn\\utils\\validation.py:605: FutureWarning: is_sparse is deprecated and will be removed in a future version. Check `isinstance(dtype, pd.SparseDtype)` instead.\n",
      "  if is_sparse(pd_dtype):\n",
      "D:\\Anaconda3\\Lib\\site-packages\\sklearn\\utils\\validation.py:614: FutureWarning: is_sparse is deprecated and will be removed in a future version. Check `isinstance(dtype, pd.SparseDtype)` instead.\n",
      "  if is_sparse(pd_dtype) or not is_extension_array_dtype(pd_dtype):\n",
      "D:\\Anaconda3\\Lib\\site-packages\\sklearn\\utils\\validation.py:605: FutureWarning: is_sparse is deprecated and will be removed in a future version. Check `isinstance(dtype, pd.SparseDtype)` instead.\n",
      "  if is_sparse(pd_dtype):\n",
      "D:\\Anaconda3\\Lib\\site-packages\\sklearn\\utils\\validation.py:614: FutureWarning: is_sparse is deprecated and will be removed in a future version. Check `isinstance(dtype, pd.SparseDtype)` instead.\n",
      "  if is_sparse(pd_dtype) or not is_extension_array_dtype(pd_dtype):\n"
     ]
    },
    {
     "data": {
      "text/plain": "0.9018958172864927"
     },
     "execution_count": 22,
     "metadata": {},
     "output_type": "execute_result"
    }
   ],
   "source": [
    "# Evaluate the linear model by scoring it, by default it's the metric r2.\n",
    "reg.score(df_val[list(range(10))], df_val[\"target\"])"
   ],
   "id": "e4466246513eb54e"
  },
  {
   "cell_type": "code",
   "execution_count": 23,
   "metadata": {
    "editable": true,
    "ExecuteTime": {
     "end_time": "2024-05-07T10:59:56.464674700Z",
     "start_time": "2024-05-07T10:59:56.449178900Z"
    }
   },
   "outputs": [
    {
     "name": "stderr",
     "output_type": "stream",
     "text": [
      "D:\\Anaconda3\\Lib\\site-packages\\sklearn\\utils\\validation.py:767: FutureWarning: is_sparse is deprecated and will be removed in a future version. Check `isinstance(dtype, pd.SparseDtype)` instead.\n",
      "  if not hasattr(array, \"sparse\") and array.dtypes.apply(is_sparse).any():\n",
      "D:\\Anaconda3\\Lib\\site-packages\\sklearn\\utils\\validation.py:605: FutureWarning: is_sparse is deprecated and will be removed in a future version. Check `isinstance(dtype, pd.SparseDtype)` instead.\n",
      "  if is_sparse(pd_dtype):\n",
      "D:\\Anaconda3\\Lib\\site-packages\\sklearn\\utils\\validation.py:614: FutureWarning: is_sparse is deprecated and will be removed in a future version. Check `isinstance(dtype, pd.SparseDtype)` instead.\n",
      "  if is_sparse(pd_dtype) or not is_extension_array_dtype(pd_dtype):\n",
      "D:\\Anaconda3\\Lib\\site-packages\\sklearn\\utils\\validation.py:605: FutureWarning: is_sparse is deprecated and will be removed in a future version. Check `isinstance(dtype, pd.SparseDtype)` instead.\n",
      "  if is_sparse(pd_dtype):\n",
      "D:\\Anaconda3\\Lib\\site-packages\\sklearn\\utils\\validation.py:614: FutureWarning: is_sparse is deprecated and will be removed in a future version. Check `isinstance(dtype, pd.SparseDtype)` instead.\n",
      "  if is_sparse(pd_dtype) or not is_extension_array_dtype(pd_dtype):\n"
     ]
    },
    {
     "data": {
      "text/plain": "0.8975221872029481"
     },
     "execution_count": 23,
     "metadata": {},
     "output_type": "execute_result"
    }
   ],
   "source": [
    "# Once done optimizing the model using the validation dataset,\n",
    "# Evaluate the linear model by scoring it on the test dataset.\n",
    "reg.score(df_test[list(range(10))], df_test[\"target\"])"
   ],
   "id": "ef0942b6b80fba8d"
  },
  {
   "cell_type": "code",
   "execution_count": null,
   "metadata": {
    "editable": true
   },
   "outputs": [],
   "source": [],
   "id": "aa058ca4e2dbfe6f"
  }
 ],
 "metadata": {
  "kernelspec": {
   "display_name": "Python 3",
   "language": "python",
   "name": "python3"
  },
  "language_info": {
   "codemirror_mode": {
    "name": "ipython",
    "version": 3
   },
   "file_extension": ".py",
   "mimetype": "text/x-python",
   "name": "python",
   "nbconvert_exporter": "python",
   "pygments_lexer": "ipython3",
   "version": "3.6.3"
  }
 },
 "nbformat": 4,
 "nbformat_minor": 5
}
