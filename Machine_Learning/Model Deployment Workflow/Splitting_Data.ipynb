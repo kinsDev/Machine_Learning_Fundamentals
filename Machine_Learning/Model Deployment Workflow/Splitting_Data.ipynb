{
 "cells": [
  {
   "cell_type": "code",
   "outputs": [],
   "source": [
    "import pandas as pd\n",
    "from sklearn.model_selection import train_test_split"
   ],
   "metadata": {
    "collapsed": false,
    "ExecuteTime": {
     "end_time": "2024-04-30T06:42:15.620301600Z",
     "start_time": "2024-04-30T06:42:15.610080200Z"
    }
   },
   "id": "52d6e6889b799cd5",
   "execution_count": 2
  },
  {
   "cell_type": "code",
   "outputs": [
    {
     "name": "stdout",
     "output_type": "stream",
     "text": [
      "   0  1\n",
      "3  7  8\n",
      "1  3  4\n",
      "0  1  2\n",
      "\n",
      "\n",
      "   0  1\n",
      "2  5  6\n"
     ]
    }
   ],
   "source": [
    "df = pd.DataFrame([[1, 2], [3, 4], [5, 6], [7, 8]])\n",
    "df_train, df_test = train_test_split(\n",
    "    df,\n",
    "    test_size= 0.2, # 20% test data\n",
    "    random_state = 0 # making splitting data repeatable to the same values\n",
    ")\n",
    "\n",
    "print(df_train)\n",
    "\n",
    "print(\"\\n\")\n",
    "\n",
    "print(df_test)"
   ],
   "metadata": {
    "collapsed": false,
    "ExecuteTime": {
     "end_time": "2024-04-30T06:43:07.800193100Z",
     "start_time": "2024-04-30T06:43:07.769753100Z"
    }
   },
   "id": "e8d8c8fe9da0b412",
   "execution_count": 5
  },
  {
   "cell_type": "code",
   "outputs": [],
   "source": [],
   "metadata": {
    "collapsed": false
   },
   "id": "70c47a8352da455a"
  }
 ],
 "metadata": {
  "kernelspec": {
   "display_name": "Python 3",
   "language": "python",
   "name": "python3"
  },
  "language_info": {
   "codemirror_mode": {
    "name": "ipython",
    "version": 2
   },
   "file_extension": ".py",
   "mimetype": "text/x-python",
   "name": "python",
   "nbconvert_exporter": "python",
   "pygments_lexer": "ipython2",
   "version": "2.7.6"
  }
 },
 "nbformat": 4,
 "nbformat_minor": 5
}
